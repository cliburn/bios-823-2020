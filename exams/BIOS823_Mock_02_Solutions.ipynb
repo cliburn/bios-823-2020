{
 "cells": [
  {
   "cell_type": "markdown",
   "metadata": {},
   "source": [
    "**1**. (25 points)\n",
    "\n",
    "- Download the data from the URL given into a `pandas` DataFrame (5 points)\n",
    "```\n",
    "https://gist.github.com/seankross/a412dfbd88b3db70b74b/raw/5f23f993cd87c283ce766e7ac6b329ee7cc2e1d1/mtcars.csv\n",
    "```\n",
    "- Your objective is to predict the `mpg` of a car from `hp`, `wt` and `am`\n",
    "    - Use the last 10 rows as test data and the rest as training data (5 points)\n",
    "    - Train a multiple linear regression model on the training data (10 points)\n",
    "    - Evaluate the mean squared error on the test data (5 points)\n",
    "    \n",
    "You may **only** use the following class from `sklearn`  (default parameters are fine)\n",
    "\n",
    "- `sklearn.linear_model.LinearRegression`\n",
    "\n",
    "In particular, splitting into test and train data and calculaiton of mean squared error should not use `sklearn`"
   ]
  },
  {
   "cell_type": "code",
   "execution_count": null,
   "metadata": {},
   "outputs": [],
   "source": [
    "url = 'https://gist.github.com/seankross/a412dfbd88b3db70b74b/raw/5f23f993cd87c283ce766e7ac6b329ee7cc2e1d1/mtcars.csv'\n",
    "df = pd.read_csv(url)"
   ]
  },
  {
   "cell_type": "code",
   "execution_count": null,
   "metadata": {},
   "outputs": [],
   "source": [
    "df.shape"
   ]
  },
  {
   "cell_type": "code",
   "execution_count": null,
   "metadata": {},
   "outputs": [],
   "source": [
    "df.head()"
   ]
  },
  {
   "cell_type": "code",
   "execution_count": null,
   "metadata": {},
   "outputs": [],
   "source": [
    "X = df[['hp', 'wt', 'am']]\n",
    "y = df['mpg']"
   ]
  },
  {
   "cell_type": "code",
   "execution_count": null,
   "metadata": {},
   "outputs": [],
   "source": [
    "X_train, X_test = X[:-10], X[-10:]\n",
    "y_train, y_test = y[:-10], y[-10:]"
   ]
  },
  {
   "cell_type": "code",
   "execution_count": null,
   "metadata": {},
   "outputs": [],
   "source": [
    "X_train.shape, X_test.shape, y_train.shape, y_test.shape"
   ]
  },
  {
   "cell_type": "code",
   "execution_count": null,
   "metadata": {},
   "outputs": [],
   "source": [
    "from sklearn.linear_model import LinearRegression"
   ]
  },
  {
   "cell_type": "code",
   "execution_count": null,
   "metadata": {},
   "outputs": [],
   "source": [
    "lr = LinearRegression()"
   ]
  },
  {
   "cell_type": "code",
   "execution_count": null,
   "metadata": {},
   "outputs": [],
   "source": [
    "lr.fit(X_train, y_train)"
   ]
  },
  {
   "cell_type": "code",
   "execution_count": null,
   "metadata": {},
   "outputs": [],
   "source": [
    "LinearRegression(copy_X=True, fit_intercept=True, n_jobs=None, normalize=False)\n",
    "In [17]:"
   ]
  },
  {
   "cell_type": "code",
   "execution_count": null,
   "metadata": {},
   "outputs": [],
   "source": [
    "y_pred = lr.predict(X_test)"
   ]
  },
  {
   "cell_type": "code",
   "execution_count": null,
   "metadata": {},
   "outputs": [],
   "source": [
    "np.mean((y_test - y_pred)**2)"
   ]
  },
  {
   "cell_type": "markdown",
   "metadata": {},
   "source": [
    "**2**. (25 points)\n",
    "\n",
    "- Using the `requests` package, download berries 1, 2, and 3 from `https://pokeapi.co/api/v2/berry` in JSON format and \n",
    "convert to a `pandas` DataFrame (5 points)\n",
    "- Create a new DataFrame that only retains only the `name` column and numeric columns. You should find the appropriate columns, not hard code their locations. (10 points)\n",
    "- Show only rows where the name begins with the letter `c` (5 points)\n",
    "- Convert to a `numpy` array (excluding `name`) and standardize so each **row** has mean 0 and standard deviation 1 (5 points)"
   ]
  },
  {
   "cell_type": "code",
   "execution_count": null,
   "metadata": {},
   "outputs": [],
   "source": [
    "import requests\n",
    "import numpy as np\n",
    "import pandas as pd\n",
    "from pandas.api.types import is_numeric_dtype"
   ]
  },
  {
   "cell_type": "code",
   "execution_count": null,
   "metadata": {},
   "outputs": [],
   "source": [
    "berries = []\n",
    "for i in range(1, 4):\n",
    "    berry = requests.get('https://pokeapi.co/api/v2/berry/{}/'.format(i)).json()\n",
    "    berries.append(berry)"
   ]
  },
  {
   "cell_type": "code",
   "execution_count": null,
   "metadata": {},
   "outputs": [],
   "source": [
    "berries_df = pd.DataFrame(berries)"
   ]
  },
  {
   "cell_type": "code",
   "execution_count": null,
   "metadata": {},
   "outputs": [],
   "source": [
    "idx = np.nonzero([is_numeric_dtype(x) for x in berries_df.dtypes])"
   ]
  },
  {
   "cell_type": "code",
   "execution_count": null,
   "metadata": {},
   "outputs": [],
   "source": [
    "idx = np.r_[idx[0], [berries_df.columns.tolist().index('name')]]"
   ]
  },
  {
   "cell_type": "code",
   "execution_count": null,
   "metadata": {},
   "outputs": [],
   "source": [
    "df = berries_df.iloc[:, idx]"
   ]
  },
  {
   "cell_type": "code",
   "execution_count": null,
   "metadata": {},
   "outputs": [],
   "source": [
    "df[df.name.str.startswith('c')]"
   ]
  },
  {
   "cell_type": "code",
   "execution_count": null,
   "metadata": {},
   "outputs": [],
   "source": [
    "xs = df.iloc[:, :-1].values"
   ]
  },
  {
   "cell_type": "code",
   "execution_count": null,
   "metadata": {},
   "outputs": [],
   "source": [
    "(xs - xs.mean(axis=1)[:, None])/xs.std(axis=1)[:, None]"
   ]
  },
  {
   "cell_type": "markdown",
   "metadata": {},
   "source": [
    "**3**. (25 points)\n",
    "\n",
    "We have provided an SQLite3 database in `data/pets.db` with 3 tables `dog`, `treat` and `dog_treat`. The `dog_treat` table is a linker table showing which dog ate which treat. \n",
    "\n",
    "- Show a table of ALL dogs and the treats with calories that they ate with column names `dog`, `treat`, `calorie`. A dog that did not eat any treats should still be present in the table (15 points)\n",
    "- Using a common table expression, show a table with two columns `dog` and `total_calories` where only dogs that have eaten more than 500 calories are displayed (5 points)"
   ]
  },
  {
   "cell_type": "code",
   "execution_count": null,
   "metadata": {},
   "outputs": [],
   "source": [
    "%load_ext sql"
   ]
  },
  {
   "cell_type": "code",
   "execution_count": null,
   "metadata": {},
   "outputs": [],
   "source": [
    "%sql sqlite:///pets.db"
   ]
  },
  {
   "cell_type": "code",
   "execution_count": null,
   "metadata": {},
   "outputs": [],
   "source": [
    "%sql SELECT * FROM sqlite_master"
   ]
  },
  {
   "cell_type": "code",
   "execution_count": null,
   "metadata": {},
   "outputs": [],
   "source": [
    "%%sql\n",
    "\n",
    "SELECT dog.name as dog, treat.name as treat, treat.calories\n",
    "FROM dog\n",
    "LEFT JOIN dog_treat\n",
    "ON dog.dog_id = dog_treat.dog_id\n",
    "LEFT JOIN treat\n",
    "ON dog_treat.treat_id = treat.treat_id"
   ]
  },
  {
   "cell_type": "code",
   "execution_count": null,
   "metadata": {},
   "outputs": [],
   "source": [
    "%%sql\n",
    "\n",
    "with t AS\n",
    "(SELECT dog.name as dog, treat.name as treat, treat.calories\n",
    "FROM dog\n",
    "LEFT JOIN dog_treat\n",
    "ON dog.dog_id = dog_treat.dog_id\n",
    "LEFT JOIN treat\n",
    "ON dog_treat.treat_id = treat.treat_id)\n",
    "SELECT dog, SUM(calories) as total_calories\n",
    "FROM t\n",
    "GROUP BY dog\n",
    "HAVING total_calories > 500"
   ]
  },
  {
   "cell_type": "markdown",
   "metadata": {},
   "source": [
    "**4**. (40 points)\n",
    "\n",
    "You want to evaluate whether a liner, quadratic or cubic polynomial is the best model for a set of data using leave-one-out cross-validation (LOOCV) and the mean squared error as evaluation metric. \n",
    "\n",
    "- Write a function named `loocv` that takes the predictor variable `x`, the outcome variable `y`, a list of of degrees of polynomial models to be evaluated, and an evaluation function and returns the best model found by LOOCV. For example, you would call the function like this `loocv(x, y, [1,2,3], mse)` where `mse` is of course a function that returns the mean squared error. (30 points)\n",
    "- Write the `mse` function to provide to the LOOCV routine (5 points)\n",
    "- Use the `llocv` function to find the best polynomial model for the data provided (5 points)\n",
    "\n",
    "Notes\n",
    "\n",
    "- Use the `x` and `y` variables provided\n",
    "- Do not use any packages except for the standard library and `numpy`\n",
    "- Code snippets for fitting and evaluation of polynomials is provided"
   ]
  },
  {
   "cell_type": "code",
   "execution_count": null,
   "metadata": {},
   "outputs": [],
   "source": [
    "import numpy as np"
   ]
  },
  {
   "cell_type": "code",
   "execution_count": null,
   "metadata": {},
   "outputs": [],
   "source": [
    "x = np.load('data/x.npy')\n",
    "y = np.load('data/y.npy')"
   ]
  },
  {
   "cell_type": "code",
   "execution_count": null,
   "metadata": {},
   "outputs": [],
   "source": [
    "coeffs = np.polyfit(x, y, 2)\n",
    "ypred = np.polyval(coeffs, x)"
   ]
  },
  {
   "cell_type": "code",
   "execution_count": null,
   "metadata": {},
   "outputs": [],
   "source": [
    "x"
   ]
  },
  {
   "cell_type": "code",
   "execution_count": null,
   "metadata": {},
   "outputs": [],
   "source": [
    "x[np.ones(10).astype('bool')]"
   ]
  },
  {
   "cell_type": "code",
   "execution_count": null,
   "metadata": {},
   "outputs": [],
   "source": [
    "def loocv(x, y, degrees, metric):\n",
    "    \"\"\"Performs LOOCV to find best polynomial modle.\"\"\"\n",
    "    \n",
    "    n = len(x)\n",
    "    losses = []\n",
    "    for d in degrees:\n",
    "        loss = 0\n",
    "        for i in range(n):\n",
    "            idx = np.ones(n).astype('bool')\n",
    "            idx[i] = False\n",
    "            xx = x[idx]\n",
    "            yy = y[idx]\n",
    "            coeffs = np.polyfit(xx, yy, d)    \n",
    "            ypred = np.polyval(coeffs, x[i])\n",
    "            loss += metric(y[i], ypred)\n",
    "        losses.append(loss)\n",
    "    k = np.argmin(losses)\n",
    "    return degrees[k]"
   ]
  },
  {
   "cell_type": "code",
   "execution_count": null,
   "metadata": {},
   "outputs": [],
   "source": [
    "def mse(y, ypred):\n",
    "    \"\"\"Returns MSE between y and ypred.\"\"\"\n",
    "    \n",
    "    return np.mean((y - ypred)**2)"
   ]
  },
  {
   "cell_type": "code",
   "execution_count": null,
   "metadata": {},
   "outputs": [],
   "source": [
    "loocv(x, y, [1,2,3, 4], mse)"
   ]
  }
 ],
 "metadata": {
  "kernelspec": {
   "display_name": "Python 3",
   "language": "python",
   "name": "python3"
  },
  "language_info": {
   "codemirror_mode": {
    "name": "ipython",
    "version": 3
   },
   "file_extension": ".py",
   "mimetype": "text/x-python",
   "name": "python",
   "nbconvert_exporter": "python",
   "pygments_lexer": "ipython3",
   "version": "3.8.5"
  }
 },
 "nbformat": 4,
 "nbformat_minor": 4
}
