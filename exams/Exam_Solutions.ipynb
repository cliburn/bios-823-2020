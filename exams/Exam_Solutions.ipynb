{
 "cells": [
  {
   "cell_type": "code",
   "execution_count": 4,
   "metadata": {},
   "outputs": [],
   "source": [
    "import numpy as np\n",
    "import pandas as pd"
   ]
  },
  {
   "cell_type": "code",
   "execution_count": 5,
   "metadata": {},
   "outputs": [],
   "source": [
    "pd.set_option('precision', 1)"
   ]
  },
  {
   "cell_type": "markdown",
   "metadata": {},
   "source": [
    "**Question 1** (25 points)\n",
    "\n",
    "There is simulated data of 25,000 human heights and weights of 18 years old children at this URL\n",
    "`http://socr.ucla.edu/docs/resources/SOCR_Data/SOCR_Data_Dinov_020108_HeightsWeights.html`\n",
    "\n",
    "The original data has height in inches and weight in pounds. \n",
    "\n",
    "- Find the average height in cm, weight in kg, and BMI for each of the four categories defined below:\n",
    "\n",
    "```\n",
    "BMI             Category\n",
    "18 or less      Underweight\n",
    "18 – 22         Normal\n",
    "22 – 25         Overweight\n",
    "More than 25    Obese\n",
    "```\n",
    "\n",
    "- Do this in a reproducible way - that is, **all** processing of the data must be done in **code**\n",
    "- Use **method chaining** to generate the summary\n",
    "\n",
    "Your final table should look like this:\n",
    "\n",
    "| status      |   ht_in_cm |   wt_in_kg |     bmi |\n",
    "|:------------|-----------:|-----------:|--------:|\n",
    "| Underweight |    173.1 |    51.4 | 17.1 |\n",
    "| Normal      |    172.7 |    58.8 | 19.7 |\n",
    "| Overweight  |    170.6 |    65.9 | 22.6 |\n",
    "| Obese       |    166.1 |    70.0 | 25.4 |\n",
    "\n",
    "Notes\n",
    "\n",
    "- 1 inch = 2.54 cm\n",
    "- 1 pound = 0.453592 kg\n",
    "- BMI = weight in kg / (height in meters^2)"
   ]
  },
  {
   "cell_type": "code",
   "execution_count": 6,
   "metadata": {},
   "outputs": [],
   "source": [
    "url = 'https://rb.gy/u3dvsb'\n",
    "df = pd.read_html(url, header=0, index_col=0)[0]"
   ]
  },
  {
   "cell_type": "code",
   "execution_count": 7,
   "metadata": {},
   "outputs": [],
   "source": [
    "s = (\n",
    "    df.\n",
    "    assign(\n",
    "        ht_in_cm = 2.54*df['Height(Inches)'],\n",
    "        wt_in_kg = 0.453592*df['Weight(Pounds)'],\n",
    "    ).\n",
    "    drop(['Height(Inches)','Weight(Pounds)'], axis=1).\n",
    "    pipe(lambda x: x.assign(bmi = x.wt_in_kg/(x.ht_in_cm/100)**2)).\n",
    "    pipe(lambda x: x.assign(\n",
    "        status = pd.cut(x.bmi, [0,18,22,25,np.infty], \n",
    "                        labels=['Underweight', 'Normal', 'Overweight', 'Obese']))).\n",
    "    groupby('status').\n",
    "    mean()\n",
    ")"
   ]
  },
  {
   "cell_type": "code",
   "execution_count": 8,
   "metadata": {},
   "outputs": [
    {
     "data": {
      "text/html": [
       "<div>\n",
       "<style scoped>\n",
       "    .dataframe tbody tr th:only-of-type {\n",
       "        vertical-align: middle;\n",
       "    }\n",
       "\n",
       "    .dataframe tbody tr th {\n",
       "        vertical-align: top;\n",
       "    }\n",
       "\n",
       "    .dataframe thead th {\n",
       "        text-align: right;\n",
       "    }\n",
       "</style>\n",
       "<table border=\"1\" class=\"dataframe\">\n",
       "  <thead>\n",
       "    <tr style=\"text-align: right;\">\n",
       "      <th></th>\n",
       "      <th>ht_in_cm</th>\n",
       "      <th>wt_in_kg</th>\n",
       "      <th>bmi</th>\n",
       "    </tr>\n",
       "    <tr>\n",
       "      <th>status</th>\n",
       "      <th></th>\n",
       "      <th></th>\n",
       "      <th></th>\n",
       "    </tr>\n",
       "  </thead>\n",
       "  <tbody>\n",
       "    <tr>\n",
       "      <th>Underweight</th>\n",
       "      <td>173.1</td>\n",
       "      <td>51.4</td>\n",
       "      <td>17.1</td>\n",
       "    </tr>\n",
       "    <tr>\n",
       "      <th>Normal</th>\n",
       "      <td>172.7</td>\n",
       "      <td>58.8</td>\n",
       "      <td>19.7</td>\n",
       "    </tr>\n",
       "    <tr>\n",
       "      <th>Overweight</th>\n",
       "      <td>170.6</td>\n",
       "      <td>65.9</td>\n",
       "      <td>22.6</td>\n",
       "    </tr>\n",
       "    <tr>\n",
       "      <th>Obese</th>\n",
       "      <td>166.1</td>\n",
       "      <td>70.0</td>\n",
       "      <td>25.4</td>\n",
       "    </tr>\n",
       "  </tbody>\n",
       "</table>\n",
       "</div>"
      ],
      "text/plain": [
       "             ht_in_cm  wt_in_kg   bmi\n",
       "status                               \n",
       "Underweight     173.1      51.4  17.1\n",
       "Normal          172.7      58.8  19.7\n",
       "Overweight      170.6      65.9  22.6\n",
       "Obese           166.1      70.0  25.4"
      ]
     },
     "execution_count": 8,
     "metadata": {},
     "output_type": "execute_result"
    }
   ],
   "source": [
    "s"
   ]
  },
  {
   "cell_type": "markdown",
   "metadata": {},
   "source": [
    "**Question 2** (25 points)\n",
    "\n",
    "Using the `EtLT` data pipeline pattern.\n",
    "\n",
    "- Using `requests`, download all people from the Star Wars REST API at https://swapi.dev/api and store the information about each person in a MongoDB database\n",
    "- Extract the data from MongoDB database\n",
    "- Flatten the nested JSON structure into a `pandas` DataFrame\n",
    "- Save to an SQLite3 database\n",
    "- Use SQL to transform the data in the SQLite3 dataase <font color=red>This question is not clear and was not considred in grading</font>"
   ]
  },
  {
   "cell_type": "code",
   "execution_count": 9,
   "metadata": {},
   "outputs": [],
   "source": [
    "import requests\n",
    "\n",
    "sw_people = requests.get('https://swapi.dev/api/people').json()['results']"
   ]
  },
  {
   "cell_type": "code",
   "execution_count": 10,
   "metadata": {},
   "outputs": [],
   "source": [
    "from pymongo import MongoClient"
   ]
  },
  {
   "cell_type": "code",
   "execution_count": 11,
   "metadata": {},
   "outputs": [],
   "source": [
    "client = MongoClient('mongodb:27017')"
   ]
  },
  {
   "cell_type": "code",
   "execution_count": 12,
   "metadata": {},
   "outputs": [],
   "source": [
    "client.drop_database('starwars')"
   ]
  },
  {
   "cell_type": "code",
   "execution_count": 13,
   "metadata": {},
   "outputs": [],
   "source": [
    "db = client.starwars"
   ]
  },
  {
   "cell_type": "code",
   "execution_count": 14,
   "metadata": {},
   "outputs": [],
   "source": [
    "people = db.people"
   ]
  },
  {
   "cell_type": "code",
   "execution_count": 15,
   "metadata": {},
   "outputs": [],
   "source": [
    "result = people.insert_many(sw_people)"
   ]
  },
  {
   "cell_type": "code",
   "execution_count": 16,
   "metadata": {},
   "outputs": [],
   "source": [
    "import pandas as pd"
   ]
  },
  {
   "cell_type": "code",
   "execution_count": 20,
   "metadata": {},
   "outputs": [],
   "source": [
    "df = pd.DataFrame(list(people.find()))"
   ]
  },
  {
   "cell_type": "code",
   "execution_count": null,
   "metadata": {},
   "outputs": [],
   "source": [
    "# df = pd.DataFrame(sw_people)"
   ]
  },
  {
   "cell_type": "code",
   "execution_count": 21,
   "metadata": {},
   "outputs": [
    {
     "data": {
      "text/html": [
       "<div>\n",
       "<style scoped>\n",
       "    .dataframe tbody tr th:only-of-type {\n",
       "        vertical-align: middle;\n",
       "    }\n",
       "\n",
       "    .dataframe tbody tr th {\n",
       "        vertical-align: top;\n",
       "    }\n",
       "\n",
       "    .dataframe thead th {\n",
       "        text-align: right;\n",
       "    }\n",
       "</style>\n",
       "<table border=\"1\" class=\"dataframe\">\n",
       "  <thead>\n",
       "    <tr style=\"text-align: right;\">\n",
       "      <th></th>\n",
       "      <th>_id</th>\n",
       "      <th>name</th>\n",
       "      <th>height</th>\n",
       "      <th>mass</th>\n",
       "      <th>hair_color</th>\n",
       "      <th>skin_color</th>\n",
       "      <th>eye_color</th>\n",
       "      <th>birth_year</th>\n",
       "      <th>gender</th>\n",
       "      <th>homeworld</th>\n",
       "      <th>films</th>\n",
       "      <th>species</th>\n",
       "      <th>vehicles</th>\n",
       "      <th>starships</th>\n",
       "      <th>created</th>\n",
       "      <th>edited</th>\n",
       "      <th>url</th>\n",
       "    </tr>\n",
       "  </thead>\n",
       "  <tbody>\n",
       "    <tr>\n",
       "      <th>0</th>\n",
       "      <td>5f917f43e489c3c93705ab0c</td>\n",
       "      <td>Luke Skywalker</td>\n",
       "      <td>172</td>\n",
       "      <td>77</td>\n",
       "      <td>blond</td>\n",
       "      <td>fair</td>\n",
       "      <td>blue</td>\n",
       "      <td>19BBY</td>\n",
       "      <td>male</td>\n",
       "      <td>http://swapi.dev/api/planets/1/</td>\n",
       "      <td>[http://swapi.dev/api/films/1/, http://swapi.d...</td>\n",
       "      <td>[]</td>\n",
       "      <td>[http://swapi.dev/api/vehicles/14/, http://swa...</td>\n",
       "      <td>[http://swapi.dev/api/starships/12/, http://sw...</td>\n",
       "      <td>2014-12-09T13:50:51.644000Z</td>\n",
       "      <td>2014-12-20T21:17:56.891000Z</td>\n",
       "      <td>http://swapi.dev/api/people/1/</td>\n",
       "    </tr>\n",
       "    <tr>\n",
       "      <th>1</th>\n",
       "      <td>5f917f43e489c3c93705ab0d</td>\n",
       "      <td>C-3PO</td>\n",
       "      <td>167</td>\n",
       "      <td>75</td>\n",
       "      <td>n/a</td>\n",
       "      <td>gold</td>\n",
       "      <td>yellow</td>\n",
       "      <td>112BBY</td>\n",
       "      <td>n/a</td>\n",
       "      <td>http://swapi.dev/api/planets/1/</td>\n",
       "      <td>[http://swapi.dev/api/films/1/, http://swapi.d...</td>\n",
       "      <td>[http://swapi.dev/api/species/2/]</td>\n",
       "      <td>[]</td>\n",
       "      <td>[]</td>\n",
       "      <td>2014-12-10T15:10:51.357000Z</td>\n",
       "      <td>2014-12-20T21:17:50.309000Z</td>\n",
       "      <td>http://swapi.dev/api/people/2/</td>\n",
       "    </tr>\n",
       "    <tr>\n",
       "      <th>2</th>\n",
       "      <td>5f917f43e489c3c93705ab0e</td>\n",
       "      <td>R2-D2</td>\n",
       "      <td>96</td>\n",
       "      <td>32</td>\n",
       "      <td>n/a</td>\n",
       "      <td>white, blue</td>\n",
       "      <td>red</td>\n",
       "      <td>33BBY</td>\n",
       "      <td>n/a</td>\n",
       "      <td>http://swapi.dev/api/planets/8/</td>\n",
       "      <td>[http://swapi.dev/api/films/1/, http://swapi.d...</td>\n",
       "      <td>[http://swapi.dev/api/species/2/]</td>\n",
       "      <td>[]</td>\n",
       "      <td>[]</td>\n",
       "      <td>2014-12-10T15:11:50.376000Z</td>\n",
       "      <td>2014-12-20T21:17:50.311000Z</td>\n",
       "      <td>http://swapi.dev/api/people/3/</td>\n",
       "    </tr>\n",
       "    <tr>\n",
       "      <th>3</th>\n",
       "      <td>5f917f43e489c3c93705ab0f</td>\n",
       "      <td>Darth Vader</td>\n",
       "      <td>202</td>\n",
       "      <td>136</td>\n",
       "      <td>none</td>\n",
       "      <td>white</td>\n",
       "      <td>yellow</td>\n",
       "      <td>41.9BBY</td>\n",
       "      <td>male</td>\n",
       "      <td>http://swapi.dev/api/planets/1/</td>\n",
       "      <td>[http://swapi.dev/api/films/1/, http://swapi.d...</td>\n",
       "      <td>[]</td>\n",
       "      <td>[]</td>\n",
       "      <td>[http://swapi.dev/api/starships/13/]</td>\n",
       "      <td>2014-12-10T15:18:20.704000Z</td>\n",
       "      <td>2014-12-20T21:17:50.313000Z</td>\n",
       "      <td>http://swapi.dev/api/people/4/</td>\n",
       "    </tr>\n",
       "    <tr>\n",
       "      <th>4</th>\n",
       "      <td>5f917f43e489c3c93705ab10</td>\n",
       "      <td>Leia Organa</td>\n",
       "      <td>150</td>\n",
       "      <td>49</td>\n",
       "      <td>brown</td>\n",
       "      <td>light</td>\n",
       "      <td>brown</td>\n",
       "      <td>19BBY</td>\n",
       "      <td>female</td>\n",
       "      <td>http://swapi.dev/api/planets/2/</td>\n",
       "      <td>[http://swapi.dev/api/films/1/, http://swapi.d...</td>\n",
       "      <td>[]</td>\n",
       "      <td>[http://swapi.dev/api/vehicles/30/]</td>\n",
       "      <td>[]</td>\n",
       "      <td>2014-12-10T15:20:09.791000Z</td>\n",
       "      <td>2014-12-20T21:17:50.315000Z</td>\n",
       "      <td>http://swapi.dev/api/people/5/</td>\n",
       "    </tr>\n",
       "  </tbody>\n",
       "</table>\n",
       "</div>"
      ],
      "text/plain": [
       "                        _id            name height mass hair_color  \\\n",
       "0  5f917f43e489c3c93705ab0c  Luke Skywalker    172   77      blond   \n",
       "1  5f917f43e489c3c93705ab0d           C-3PO    167   75        n/a   \n",
       "2  5f917f43e489c3c93705ab0e           R2-D2     96   32        n/a   \n",
       "3  5f917f43e489c3c93705ab0f     Darth Vader    202  136       none   \n",
       "4  5f917f43e489c3c93705ab10     Leia Organa    150   49      brown   \n",
       "\n",
       "    skin_color eye_color birth_year  gender                        homeworld  \\\n",
       "0         fair      blue      19BBY    male  http://swapi.dev/api/planets/1/   \n",
       "1         gold    yellow     112BBY     n/a  http://swapi.dev/api/planets/1/   \n",
       "2  white, blue       red      33BBY     n/a  http://swapi.dev/api/planets/8/   \n",
       "3        white    yellow    41.9BBY    male  http://swapi.dev/api/planets/1/   \n",
       "4        light     brown      19BBY  female  http://swapi.dev/api/planets/2/   \n",
       "\n",
       "                                               films  \\\n",
       "0  [http://swapi.dev/api/films/1/, http://swapi.d...   \n",
       "1  [http://swapi.dev/api/films/1/, http://swapi.d...   \n",
       "2  [http://swapi.dev/api/films/1/, http://swapi.d...   \n",
       "3  [http://swapi.dev/api/films/1/, http://swapi.d...   \n",
       "4  [http://swapi.dev/api/films/1/, http://swapi.d...   \n",
       "\n",
       "                             species  \\\n",
       "0                                 []   \n",
       "1  [http://swapi.dev/api/species/2/]   \n",
       "2  [http://swapi.dev/api/species/2/]   \n",
       "3                                 []   \n",
       "4                                 []   \n",
       "\n",
       "                                            vehicles  \\\n",
       "0  [http://swapi.dev/api/vehicles/14/, http://swa...   \n",
       "1                                                 []   \n",
       "2                                                 []   \n",
       "3                                                 []   \n",
       "4                [http://swapi.dev/api/vehicles/30/]   \n",
       "\n",
       "                                           starships  \\\n",
       "0  [http://swapi.dev/api/starships/12/, http://sw...   \n",
       "1                                                 []   \n",
       "2                                                 []   \n",
       "3               [http://swapi.dev/api/starships/13/]   \n",
       "4                                                 []   \n",
       "\n",
       "                       created                       edited  \\\n",
       "0  2014-12-09T13:50:51.644000Z  2014-12-20T21:17:56.891000Z   \n",
       "1  2014-12-10T15:10:51.357000Z  2014-12-20T21:17:50.309000Z   \n",
       "2  2014-12-10T15:11:50.376000Z  2014-12-20T21:17:50.311000Z   \n",
       "3  2014-12-10T15:18:20.704000Z  2014-12-20T21:17:50.313000Z   \n",
       "4  2014-12-10T15:20:09.791000Z  2014-12-20T21:17:50.315000Z   \n",
       "\n",
       "                              url  \n",
       "0  http://swapi.dev/api/people/1/  \n",
       "1  http://swapi.dev/api/people/2/  \n",
       "2  http://swapi.dev/api/people/3/  \n",
       "3  http://swapi.dev/api/people/4/  \n",
       "4  http://swapi.dev/api/people/5/  "
      ]
     },
     "execution_count": 21,
     "metadata": {},
     "output_type": "execute_result"
    }
   ],
   "source": [
    "df.head()"
   ]
  },
  {
   "cell_type": "code",
   "execution_count": 22,
   "metadata": {},
   "outputs": [
    {
     "data": {
      "text/plain": [
       "0    [http://swapi.dev/api/films/1/, http://swapi.d...\n",
       "1    [http://swapi.dev/api/films/1/, http://swapi.d...\n",
       "2    [http://swapi.dev/api/films/1/, http://swapi.d...\n",
       "3    [http://swapi.dev/api/films/1/, http://swapi.d...\n",
       "4    [http://swapi.dev/api/films/1/, http://swapi.d...\n",
       "5    [http://swapi.dev/api/films/1/, http://swapi.d...\n",
       "6    [http://swapi.dev/api/films/1/, http://swapi.d...\n",
       "7                      [http://swapi.dev/api/films/1/]\n",
       "8                      [http://swapi.dev/api/films/1/]\n",
       "9    [http://swapi.dev/api/films/1/, http://swapi.d...\n",
       "Name: films, dtype: object"
      ]
     },
     "execution_count": 22,
     "metadata": {},
     "output_type": "execute_result"
    }
   ],
   "source": [
    "df.films"
   ]
  },
  {
   "cell_type": "code",
   "execution_count": 23,
   "metadata": {},
   "outputs": [],
   "source": [
    "df = (\n",
    "    df.\n",
    "    explode('films').\n",
    "    explode('species').\n",
    "    explode('vehicles').\n",
    "    explode('starships')\n",
    ")"
   ]
  },
  {
   "cell_type": "code",
   "execution_count": 24,
   "metadata": {},
   "outputs": [
    {
     "data": {
      "text/plain": [
       "(74, 17)"
      ]
     },
     "execution_count": 24,
     "metadata": {},
     "output_type": "execute_result"
    }
   ],
   "source": [
    "df.shape"
   ]
  },
  {
   "cell_type": "code",
   "execution_count": 25,
   "metadata": {},
   "outputs": [
    {
     "data": {
      "text/html": [
       "<div>\n",
       "<style scoped>\n",
       "    .dataframe tbody tr th:only-of-type {\n",
       "        vertical-align: middle;\n",
       "    }\n",
       "\n",
       "    .dataframe tbody tr th {\n",
       "        vertical-align: top;\n",
       "    }\n",
       "\n",
       "    .dataframe thead th {\n",
       "        text-align: right;\n",
       "    }\n",
       "</style>\n",
       "<table border=\"1\" class=\"dataframe\">\n",
       "  <thead>\n",
       "    <tr style=\"text-align: right;\">\n",
       "      <th></th>\n",
       "      <th>_id</th>\n",
       "      <th>name</th>\n",
       "      <th>height</th>\n",
       "      <th>mass</th>\n",
       "      <th>hair_color</th>\n",
       "      <th>skin_color</th>\n",
       "      <th>eye_color</th>\n",
       "      <th>birth_year</th>\n",
       "      <th>gender</th>\n",
       "      <th>homeworld</th>\n",
       "      <th>films</th>\n",
       "      <th>species</th>\n",
       "      <th>vehicles</th>\n",
       "      <th>starships</th>\n",
       "      <th>created</th>\n",
       "      <th>edited</th>\n",
       "      <th>url</th>\n",
       "    </tr>\n",
       "  </thead>\n",
       "  <tbody>\n",
       "    <tr>\n",
       "      <th>0</th>\n",
       "      <td>5f917f43e489c3c93705ab0c</td>\n",
       "      <td>Luke Skywalker</td>\n",
       "      <td>172</td>\n",
       "      <td>77</td>\n",
       "      <td>blond</td>\n",
       "      <td>fair</td>\n",
       "      <td>blue</td>\n",
       "      <td>19BBY</td>\n",
       "      <td>male</td>\n",
       "      <td>http://swapi.dev/api/planets/1/</td>\n",
       "      <td>http://swapi.dev/api/films/1/</td>\n",
       "      <td>NaN</td>\n",
       "      <td>http://swapi.dev/api/vehicles/14/</td>\n",
       "      <td>http://swapi.dev/api/starships/12/</td>\n",
       "      <td>2014-12-09T13:50:51.644000Z</td>\n",
       "      <td>2014-12-20T21:17:56.891000Z</td>\n",
       "      <td>http://swapi.dev/api/people/1/</td>\n",
       "    </tr>\n",
       "    <tr>\n",
       "      <th>0</th>\n",
       "      <td>5f917f43e489c3c93705ab0c</td>\n",
       "      <td>Luke Skywalker</td>\n",
       "      <td>172</td>\n",
       "      <td>77</td>\n",
       "      <td>blond</td>\n",
       "      <td>fair</td>\n",
       "      <td>blue</td>\n",
       "      <td>19BBY</td>\n",
       "      <td>male</td>\n",
       "      <td>http://swapi.dev/api/planets/1/</td>\n",
       "      <td>http://swapi.dev/api/films/1/</td>\n",
       "      <td>NaN</td>\n",
       "      <td>http://swapi.dev/api/vehicles/14/</td>\n",
       "      <td>http://swapi.dev/api/starships/22/</td>\n",
       "      <td>2014-12-09T13:50:51.644000Z</td>\n",
       "      <td>2014-12-20T21:17:56.891000Z</td>\n",
       "      <td>http://swapi.dev/api/people/1/</td>\n",
       "    </tr>\n",
       "    <tr>\n",
       "      <th>0</th>\n",
       "      <td>5f917f43e489c3c93705ab0c</td>\n",
       "      <td>Luke Skywalker</td>\n",
       "      <td>172</td>\n",
       "      <td>77</td>\n",
       "      <td>blond</td>\n",
       "      <td>fair</td>\n",
       "      <td>blue</td>\n",
       "      <td>19BBY</td>\n",
       "      <td>male</td>\n",
       "      <td>http://swapi.dev/api/planets/1/</td>\n",
       "      <td>http://swapi.dev/api/films/1/</td>\n",
       "      <td>NaN</td>\n",
       "      <td>http://swapi.dev/api/vehicles/30/</td>\n",
       "      <td>http://swapi.dev/api/starships/12/</td>\n",
       "      <td>2014-12-09T13:50:51.644000Z</td>\n",
       "      <td>2014-12-20T21:17:56.891000Z</td>\n",
       "      <td>http://swapi.dev/api/people/1/</td>\n",
       "    </tr>\n",
       "    <tr>\n",
       "      <th>0</th>\n",
       "      <td>5f917f43e489c3c93705ab0c</td>\n",
       "      <td>Luke Skywalker</td>\n",
       "      <td>172</td>\n",
       "      <td>77</td>\n",
       "      <td>blond</td>\n",
       "      <td>fair</td>\n",
       "      <td>blue</td>\n",
       "      <td>19BBY</td>\n",
       "      <td>male</td>\n",
       "      <td>http://swapi.dev/api/planets/1/</td>\n",
       "      <td>http://swapi.dev/api/films/1/</td>\n",
       "      <td>NaN</td>\n",
       "      <td>http://swapi.dev/api/vehicles/30/</td>\n",
       "      <td>http://swapi.dev/api/starships/22/</td>\n",
       "      <td>2014-12-09T13:50:51.644000Z</td>\n",
       "      <td>2014-12-20T21:17:56.891000Z</td>\n",
       "      <td>http://swapi.dev/api/people/1/</td>\n",
       "    </tr>\n",
       "    <tr>\n",
       "      <th>0</th>\n",
       "      <td>5f917f43e489c3c93705ab0c</td>\n",
       "      <td>Luke Skywalker</td>\n",
       "      <td>172</td>\n",
       "      <td>77</td>\n",
       "      <td>blond</td>\n",
       "      <td>fair</td>\n",
       "      <td>blue</td>\n",
       "      <td>19BBY</td>\n",
       "      <td>male</td>\n",
       "      <td>http://swapi.dev/api/planets/1/</td>\n",
       "      <td>http://swapi.dev/api/films/2/</td>\n",
       "      <td>NaN</td>\n",
       "      <td>http://swapi.dev/api/vehicles/14/</td>\n",
       "      <td>http://swapi.dev/api/starships/12/</td>\n",
       "      <td>2014-12-09T13:50:51.644000Z</td>\n",
       "      <td>2014-12-20T21:17:56.891000Z</td>\n",
       "      <td>http://swapi.dev/api/people/1/</td>\n",
       "    </tr>\n",
       "  </tbody>\n",
       "</table>\n",
       "</div>"
      ],
      "text/plain": [
       "                        _id            name height mass hair_color skin_color  \\\n",
       "0  5f917f43e489c3c93705ab0c  Luke Skywalker    172   77      blond       fair   \n",
       "0  5f917f43e489c3c93705ab0c  Luke Skywalker    172   77      blond       fair   \n",
       "0  5f917f43e489c3c93705ab0c  Luke Skywalker    172   77      blond       fair   \n",
       "0  5f917f43e489c3c93705ab0c  Luke Skywalker    172   77      blond       fair   \n",
       "0  5f917f43e489c3c93705ab0c  Luke Skywalker    172   77      blond       fair   \n",
       "\n",
       "  eye_color birth_year gender                        homeworld  \\\n",
       "0      blue      19BBY   male  http://swapi.dev/api/planets/1/   \n",
       "0      blue      19BBY   male  http://swapi.dev/api/planets/1/   \n",
       "0      blue      19BBY   male  http://swapi.dev/api/planets/1/   \n",
       "0      blue      19BBY   male  http://swapi.dev/api/planets/1/   \n",
       "0      blue      19BBY   male  http://swapi.dev/api/planets/1/   \n",
       "\n",
       "                           films species                           vehicles  \\\n",
       "0  http://swapi.dev/api/films/1/     NaN  http://swapi.dev/api/vehicles/14/   \n",
       "0  http://swapi.dev/api/films/1/     NaN  http://swapi.dev/api/vehicles/14/   \n",
       "0  http://swapi.dev/api/films/1/     NaN  http://swapi.dev/api/vehicles/30/   \n",
       "0  http://swapi.dev/api/films/1/     NaN  http://swapi.dev/api/vehicles/30/   \n",
       "0  http://swapi.dev/api/films/2/     NaN  http://swapi.dev/api/vehicles/14/   \n",
       "\n",
       "                            starships                      created  \\\n",
       "0  http://swapi.dev/api/starships/12/  2014-12-09T13:50:51.644000Z   \n",
       "0  http://swapi.dev/api/starships/22/  2014-12-09T13:50:51.644000Z   \n",
       "0  http://swapi.dev/api/starships/12/  2014-12-09T13:50:51.644000Z   \n",
       "0  http://swapi.dev/api/starships/22/  2014-12-09T13:50:51.644000Z   \n",
       "0  http://swapi.dev/api/starships/12/  2014-12-09T13:50:51.644000Z   \n",
       "\n",
       "                        edited                             url  \n",
       "0  2014-12-20T21:17:56.891000Z  http://swapi.dev/api/people/1/  \n",
       "0  2014-12-20T21:17:56.891000Z  http://swapi.dev/api/people/1/  \n",
       "0  2014-12-20T21:17:56.891000Z  http://swapi.dev/api/people/1/  \n",
       "0  2014-12-20T21:17:56.891000Z  http://swapi.dev/api/people/1/  \n",
       "0  2014-12-20T21:17:56.891000Z  http://swapi.dev/api/people/1/  "
      ]
     },
     "execution_count": 25,
     "metadata": {},
     "output_type": "execute_result"
    }
   ],
   "source": [
    "df.head()"
   ]
  },
  {
   "cell_type": "code",
   "execution_count": 29,
   "metadata": {},
   "outputs": [],
   "source": [
    "import sqlite3"
   ]
  },
  {
   "cell_type": "code",
   "execution_count": 45,
   "metadata": {},
   "outputs": [],
   "source": [
    "conn = sqlite3.connect('data/people.db')"
   ]
  },
  {
   "cell_type": "code",
   "execution_count": 46,
   "metadata": {},
   "outputs": [],
   "source": [
    "df['_id'] = df['_id'].astype('string')"
   ]
  },
  {
   "cell_type": "code",
   "execution_count": 47,
   "metadata": {},
   "outputs": [],
   "source": [
    "df.to_sql('people', conn, index=False)"
   ]
  },
  {
   "cell_type": "code",
   "execution_count": 48,
   "metadata": {},
   "outputs": [],
   "source": [
    "cr = conn.cursor()"
   ]
  },
  {
   "cell_type": "code",
   "execution_count": 49,
   "metadata": {},
   "outputs": [
    {
     "data": {
      "text/plain": [
       "<sqlite3.Cursor at 0x7f6b8aa013b0>"
      ]
     },
     "execution_count": 49,
     "metadata": {},
     "output_type": "execute_result"
    }
   ],
   "source": [
    "cr.execute('SELECT * FROM people LIMIT 1')"
   ]
  },
  {
   "cell_type": "code",
   "execution_count": 50,
   "metadata": {},
   "outputs": [
    {
     "data": {
      "text/plain": [
       "[('5f917f43e489c3c93705ab0c',\n",
       "  'Luke Skywalker',\n",
       "  '172',\n",
       "  '77',\n",
       "  'blond',\n",
       "  'fair',\n",
       "  'blue',\n",
       "  '19BBY',\n",
       "  'male',\n",
       "  'http://swapi.dev/api/planets/1/',\n",
       "  'http://swapi.dev/api/films/1/',\n",
       "  None,\n",
       "  'http://swapi.dev/api/vehicles/14/',\n",
       "  'http://swapi.dev/api/starships/12/',\n",
       "  '2014-12-09T13:50:51.644000Z',\n",
       "  '2014-12-20T21:17:56.891000Z',\n",
       "  'http://swapi.dev/api/people/1/')]"
      ]
     },
     "execution_count": 50,
     "metadata": {},
     "output_type": "execute_result"
    }
   ],
   "source": [
    "cr.fetchall()"
   ]
  },
  {
   "cell_type": "markdown",
   "metadata": {},
   "source": [
    "**Question 3** (50 points)\n",
    "\n",
    "The data set in `dm.csv` contains 11 columns as described below. The first 10 columns are features (X), and the last is the target (y). The features have been transformed such that the mean = zero, and the sum of squares = 0.\n",
    "\n",
    "```\n",
    "age     age in years\n",
    "sex\n",
    "bmi     body mass index\n",
    "bp      average blood pressure\n",
    "s1      tc, T-Cells (a type of white blood cells)\n",
    "s2      ldl, low-density lipoproteins\n",
    "s3      hdl, high-density lipoproteins\n",
    "s4      tch, thyroid stimulating hormone\n",
    "s5      ltg, lamotrigine\n",
    "s6      glu, blood sugar level\n",
    "target  measure of disease severity at 1 year\n",
    "```\n",
    "\n",
    "- Split the data into X_train, X_test, y_train, y_test\n",
    "- Plot the correlation matrix of X_train features as a heatmap using seaborn\n",
    "- Perform a PCA on X_train\n",
    "- Display a biplot of X_train projected on the first 2 principal components\n",
    "- Write a function that returns the number of components needed to explain p% of the variance in X_train, and show the result for p=90\n",
    "- Create a dummy regression model AND a proper regression model with sklearn's RandomForestRegressor to predict the target from the 10 features\n",
    "    - Perform hyperparameter optimization on at least 2 parameters of the Random Forest model using  GridSearch and create a tuned RandomForestRegressor model with the best parameters\n",
    "    - Plot the learning curve for the tuned Random Forest\n",
    "    - Evaluate the model performance on test data using R^2 and mean absolute error for both dummy and Random Forest models\n",
    "    - Plot feature importances for the Random Forest model using permutation importance and mean absolute Shapley values"
   ]
  },
  {
   "cell_type": "code",
   "execution_count": 13,
   "metadata": {},
   "outputs": [],
   "source": [
    "data = pd.read_csv('dm.csv')"
   ]
  },
  {
   "cell_type": "code",
   "execution_count": 14,
   "metadata": {},
   "outputs": [],
   "source": [
    "import matplotlib.pyplot as plt"
   ]
  },
  {
   "cell_type": "code",
   "execution_count": 15,
   "metadata": {},
   "outputs": [],
   "source": [
    "import seaborn as sns"
   ]
  },
  {
   "cell_type": "code",
   "execution_count": 16,
   "metadata": {},
   "outputs": [],
   "source": [
    "from sklearn.model_selection import train_test_split"
   ]
  },
  {
   "cell_type": "code",
   "execution_count": 17,
   "metadata": {},
   "outputs": [],
   "source": [
    "X_train, X_test, y_train, y_test = train_test_split(\n",
    "    data.iloc[:, :10], data.iloc[:, -1]\n",
    ")"
   ]
  },
  {
   "cell_type": "code",
   "execution_count": 18,
   "metadata": {},
   "outputs": [
    {
     "data": {
      "image/png": "[encoded data removed]",
      "text/plain": [
       "<Figure size 432x288 with 2 Axes>"
      ]
     },
     "metadata": {
      "needs_background": "light"
     },
     "output_type": "display_data"
    }
   ],
   "source": [
    "sns.heatmap(X_train.corr())\n",
    "plt.axis('equal');"
   ]
  },
  {
   "cell_type": "code",
   "execution_count": 19,
   "metadata": {},
   "outputs": [],
   "source": [
    "from sklearn.decomposition import PCA"
   ]
  },
  {
   "cell_type": "code",
   "execution_count": 20,
   "metadata": {},
   "outputs": [],
   "source": [
    "pca = PCA()"
   ]
  },
  {
   "cell_type": "code",
   "execution_count": 21,
   "metadata": {},
   "outputs": [],
   "source": [
    "pc = pca.fit_transform(X_train)"
   ]
  },
  {
   "cell_type": "code",
   "execution_count": 22,
   "metadata": {},
   "outputs": [
    {
     "name": "stderr",
     "output_type": "stream",
     "text": [
      "/usr/local/lib/python3.8/site-packages/sklearn/utils/deprecation.py:143: FutureWarning: The sklearn.metrics.classification module is  deprecated in version 0.22 and will be removed in version 0.24. The corresponding classes / functions should instead be imported from sklearn.metrics. Anything that cannot be imported from sklearn.metrics is now part of the private API.\n",
      "  warnings.warn(message, FutureWarning)\n"
     ]
    }
   ],
   "source": [
    "from yellowbrick.features import PCA as PCA_"
   ]
  },
  {
   "cell_type": "code",
   "execution_count": 23,
   "metadata": {},
   "outputs": [
    {
     "data": {
      "image/png": "[encoded data removed]",
      "text/plain": [
       "<Figure size 576x396 with 1 Axes>"
      ]
     },
     "metadata": {},
     "output_type": "display_data"
    }
   ],
   "source": [
    "pca_viz = PCA_(proj_features = True)\n",
    "pca_viz.fit_transform(X_train)\n",
    "pca_viz.show();"
   ]
  },
  {
   "cell_type": "code",
   "execution_count": 24,
   "metadata": {},
   "outputs": [
    {
     "data": {
      "text/plain": [
       "array([0.3938944 , 0.55246822, 0.67854365, 0.77275027, 0.83839844,\n",
       "       0.896071  , 0.94794905, 0.99159751, 0.99915237, 1.        ])"
      ]
     },
     "execution_count": 24,
     "metadata": {},
     "output_type": "execute_result"
    }
   ],
   "source": [
    "pca.explained_variance_ratio_.cumsum()"
   ]
  },
  {
   "cell_type": "code",
   "execution_count": 25,
   "metadata": {},
   "outputs": [],
   "source": [
    "def n_comp(pca, threshold):\n",
    "    \"\"\"Returns number of compoentns to exceed threshold explained variance.\"\"\"\n",
    "\n",
    "    return (pca.explained_variance_ratio_.cumsum() > threshold).nonzero()[0][0] + 1"
   ]
  },
  {
   "cell_type": "code",
   "execution_count": 26,
   "metadata": {},
   "outputs": [
    {
     "data": {
      "text/plain": [
       "7"
      ]
     },
     "execution_count": 26,
     "metadata": {},
     "output_type": "execute_result"
    }
   ],
   "source": [
    "n_comp(pca, 0.9)"
   ]
  },
  {
   "cell_type": "code",
   "execution_count": 27,
   "metadata": {},
   "outputs": [],
   "source": [
    "from sklearn.dummy import DummyRegressor\n",
    "from sklearn.ensemble import RandomForestRegressor"
   ]
  },
  {
   "cell_type": "code",
   "execution_count": 28,
   "metadata": {},
   "outputs": [],
   "source": [
    "dummy = DummyRegressor()\n",
    "rf = RandomForestRegressor()"
   ]
  },
  {
   "cell_type": "code",
   "execution_count": 29,
   "metadata": {},
   "outputs": [
    {
     "data": {
      "text/plain": [
       "('criterion',\n",
       " 'max_depth',\n",
       " 'min_samples_split',\n",
       " 'min_samples_leaf',\n",
       " 'min_weight_fraction_leaf',\n",
       " 'max_features',\n",
       " 'max_leaf_nodes',\n",
       " 'min_impurity_decrease',\n",
       " 'min_impurity_split',\n",
       " 'random_state',\n",
       " 'ccp_alpha')"
      ]
     },
     "execution_count": 29,
     "metadata": {},
     "output_type": "execute_result"
    }
   ],
   "source": [
    "rf.estimator_params"
   ]
  },
  {
   "cell_type": "code",
   "execution_count": 30,
   "metadata": {},
   "outputs": [],
   "source": [
    "params = {\n",
    "    'max_depth': [2,5,10, None],\n",
    "    'min_samples_leaf': [1,2,5,10],\n",
    "}"
   ]
  },
  {
   "cell_type": "code",
   "execution_count": 31,
   "metadata": {},
   "outputs": [],
   "source": [
    "from sklearn.model_selection import GridSearchCV"
   ]
  },
  {
   "cell_type": "code",
   "execution_count": 32,
   "metadata": {},
   "outputs": [],
   "source": [
    "gs = GridSearchCV(rf, params)"
   ]
  },
  {
   "cell_type": "code",
   "execution_count": 33,
   "metadata": {},
   "outputs": [
    {
     "data": {
      "text/plain": [
       "GridSearchCV(estimator=RandomForestRegressor(),\n",
       "             param_grid={'max_depth': [2, 5, 10, None],\n",
       "                         'min_samples_leaf': [1, 2, 5, 10]})"
      ]
     },
     "execution_count": 33,
     "metadata": {},
     "output_type": "execute_result"
    }
   ],
   "source": [
    "gs.fit(X_train, y_train)"
   ]
  },
  {
   "cell_type": "code",
   "execution_count": 34,
   "metadata": {},
   "outputs": [],
   "source": [
    "tuned_rf = RandomForestRegressor(**gs.best_params_)"
   ]
  },
  {
   "cell_type": "code",
   "execution_count": 35,
   "metadata": {},
   "outputs": [],
   "source": [
    "from yellowbrick.model_selection import LearningCurve"
   ]
  },
  {
   "cell_type": "code",
   "execution_count": 36,
   "metadata": {},
   "outputs": [
    {
     "name": "stderr",
     "output_type": "stream",
     "text": [
      "/usr/local/lib/python3.8/site-packages/sklearn/base.py:209: FutureWarning: From version 0.24, get_params will raise an AttributeError if a parameter cannot be retrieved as an instance attribute. Previously it would return None.\n",
      "  warnings.warn('From version 0.24, get_params will raise an '\n"
     ]
    },
    {
     "data": {
      "image/png": "[encoded data removed]",
      "text/plain": [
       "<Figure size 576x396 with 1 Axes>"
      ]
     },
     "metadata": {},
     "output_type": "display_data"
    }
   ],
   "source": [
    "lc_viz = LearningCurve(tuned_rf)\n",
    "lc_viz.fit(X_train, y_train)\n",
    "lc_viz.show();"
   ]
  },
  {
   "cell_type": "code",
   "execution_count": 37,
   "metadata": {},
   "outputs": [],
   "source": [
    "from sklearn.metrics import r2_score, mean_absolute_error"
   ]
  },
  {
   "cell_type": "code",
   "execution_count": 38,
   "metadata": {},
   "outputs": [
    {
     "data": {
      "text/plain": [
       "DummyRegressor()"
      ]
     },
     "execution_count": 38,
     "metadata": {},
     "output_type": "execute_result"
    }
   ],
   "source": [
    "dummy.fit(X_train, y_train)"
   ]
  },
  {
   "cell_type": "code",
   "execution_count": 39,
   "metadata": {},
   "outputs": [
    {
     "data": {
      "text/plain": [
       "-0.008049786643475443"
      ]
     },
     "execution_count": 39,
     "metadata": {},
     "output_type": "execute_result"
    }
   ],
   "source": [
    "r2_score(y_test, dummy.predict(X_test))"
   ]
  },
  {
   "cell_type": "code",
   "execution_count": 40,
   "metadata": {},
   "outputs": [
    {
     "data": {
      "text/plain": [
       "66.73887482648813"
      ]
     },
     "execution_count": 40,
     "metadata": {},
     "output_type": "execute_result"
    }
   ],
   "source": [
    "mean_absolute_error(y_test, dummy.predict(X_test))"
   ]
  },
  {
   "cell_type": "code",
   "execution_count": 41,
   "metadata": {},
   "outputs": [
    {
     "data": {
      "text/plain": [
       "RandomForestRegressor(max_depth=10, min_samples_leaf=5)"
      ]
     },
     "execution_count": 41,
     "metadata": {},
     "output_type": "execute_result"
    }
   ],
   "source": [
    "tuned_rf.fit(X_train, y_train)"
   ]
  },
  {
   "cell_type": "code",
   "execution_count": 42,
   "metadata": {},
   "outputs": [
    {
     "data": {
      "text/plain": [
       "0.41069055541007526"
      ]
     },
     "execution_count": 42,
     "metadata": {},
     "output_type": "execute_result"
    }
   ],
   "source": [
    "r2_score(y_test, tuned_rf.predict(X_test))"
   ]
  },
  {
   "cell_type": "code",
   "execution_count": 43,
   "metadata": {},
   "outputs": [
    {
     "data": {
      "text/plain": [
       "46.516645036505324"
      ]
     },
     "execution_count": 43,
     "metadata": {},
     "output_type": "execute_result"
    }
   ],
   "source": [
    "mean_absolute_error(y_test, tuned_rf.predict(X_test))"
   ]
  },
  {
   "cell_type": "code",
   "execution_count": 44,
   "metadata": {},
   "outputs": [],
   "source": [
    "from sklearn.inspection import permutation_importance"
   ]
  },
  {
   "cell_type": "code",
   "execution_count": 45,
   "metadata": {},
   "outputs": [],
   "source": [
    "importances = permutation_importance(tuned_rf, X_train, y_train)"
   ]
  },
  {
   "cell_type": "code",
   "execution_count": 46,
   "metadata": {},
   "outputs": [
    {
     "data": {
      "text/plain": [
       "array([0.04036892, 0.02431191, 0.41417585, 0.10592373, 0.02609774,\n",
       "       0.04286938, 0.05566862, 0.02065504, 0.22893281, 0.09073558])"
      ]
     },
     "execution_count": 46,
     "metadata": {},
     "output_type": "execute_result"
    }
   ],
   "source": [
    "importances['importances_mean']"
   ]
  },
  {
   "cell_type": "code",
   "execution_count": 47,
   "metadata": {},
   "outputs": [
    {
     "data": {
      "image/png": "[encoded data removed]",
      "text/plain": [
       "<Figure size 576x396 with 1 Axes>"
      ]
     },
     "metadata": {},
     "output_type": "display_data"
    }
   ],
   "source": [
    "idx = np.argsort(-importances['importances_mean'])\n",
    "sns.barplot(importances['importances_mean'][idx], X_train.columns[idx]);"
   ]
  },
  {
   "cell_type": "code",
   "execution_count": 48,
   "metadata": {},
   "outputs": [],
   "source": [
    "import shap"
   ]
  },
  {
   "cell_type": "code",
   "execution_count": 49,
   "metadata": {},
   "outputs": [],
   "source": [
    "explainer = shap.TreeExplainer(tuned_rf)"
   ]
  },
  {
   "cell_type": "code",
   "execution_count": 50,
   "metadata": {},
   "outputs": [],
   "source": [
    "sv = explainer.shap_values(X_train)"
   ]
  },
  {
   "cell_type": "code",
   "execution_count": 51,
   "metadata": {},
   "outputs": [
    {
     "data": {
      "image/png": "[encoded data removed]",
      "text/plain": [
       "<Figure size 576x396 with 1 Axes>"
      ]
     },
     "metadata": {},
     "output_type": "display_data"
    }
   ],
   "source": [
    "shap.summary_plot(sv, plot_type='bar', feature_names=X_train.columns)"
   ]
  },
  {
   "cell_type": "code",
   "execution_count": null,
   "metadata": {},
   "outputs": [],
   "source": []
  }
 ],
 "metadata": {
  "kernelspec": {
   "display_name": "Python 3",
   "language": "python",
   "name": "python3"
  },
  "language_info": {
   "codemirror_mode": {
    "name": "ipython",
    "version": 3
   },
   "file_extension": ".py",
   "mimetype": "text/x-python",
   "name": "python",
   "nbconvert_exporter": "python",
   "pygments_lexer": "ipython3",
   "version": "3.7.8"
  }
 },
 "nbformat": 4,
 "nbformat_minor": 4
}
