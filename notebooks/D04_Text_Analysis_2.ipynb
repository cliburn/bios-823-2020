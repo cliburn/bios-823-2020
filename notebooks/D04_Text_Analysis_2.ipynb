{
 "cells": [
  {
   "cell_type": "markdown",
   "metadata": {},
   "source": [
    "# Text Analysis\n",
    "\n",
    " In this lecture, we look at more recent methods of feature extraction and topic modeling.\n",
    "\n",
    "We will cover the following:\n",
    "\n",
    "- word2vec\n",
    "- latent semantic analysis\n",
    "- non-negative matrix factorization\n",
    "- latent Dirichlet allocation\n",
    "\n",
    "A technical guide to topic modeling can be found in these [lecture notes](http://pages.cs.wisc.edu/~jerryzhu/cs769/latent.pdf) but is outside the scope of this class."
   ]
  },
  {
   "cell_type": "markdown",
   "metadata": {},
   "source": [
    "## Similarity\n",
    "\n",
    "In order to find similar words or documents after they have been vectorized, we need definitions of similarity. Similarity measures often used in text analysis include\n",
    "\n",
    "- edit \n",
    "- cosine \n",
    "- Hellinger \n",
    "- Kullback-Leibler \n",
    "- Jacard \n",
    "\n",
    "These may be given as the similarity or distance."
   ]
  },
  {
   "cell_type": "markdown",
   "metadata": {},
   "source": [
    "### Edit \n",
    "\n",
    "The edit distance between two strings is the minimum number of changes needed to covert from one string to another. These changes may be weighted, for example, by making a deletion changes have a different weight than an insertion operation. Also known as Levenshtein distance.\n",
    "\n",
    "Such distance metrics are the basis for aligning DNA, RNA and protein sequences."
   ]
  },
  {
   "cell_type": "code",
   "execution_count": 1,
   "metadata": {},
   "outputs": [],
   "source": [
    "! python3 -m pip install --quiet textdistance"
   ]
  },
  {
   "cell_type": "code",
   "execution_count": 2,
   "metadata": {},
   "outputs": [],
   "source": [
    "import textdistance as td"
   ]
  },
  {
   "cell_type": "code",
   "execution_count": 3,
   "metadata": {},
   "outputs": [
    {
     "data": {
      "text/plain": [
       "3"
      ]
     },
     "execution_count": 3,
     "metadata": {},
     "output_type": "execute_result"
    }
   ],
   "source": [
    "td.levenshtein.distance('slaves', 'salve')"
   ]
  },
  {
   "cell_type": "code",
   "execution_count": 4,
   "metadata": {},
   "outputs": [
    {
     "data": {
      "text/plain": [
       "3"
      ]
     },
     "execution_count": 4,
     "metadata": {},
     "output_type": "execute_result"
    }
   ],
   "source": [
    "td.levenshtein.similarity('slaves', 'salve')"
   ]
  },
  {
   "cell_type": "markdown",
   "metadata": {},
   "source": [
    "### Jacard \n",
    "\n",
    "The Jacard distance is the intersection divided by union of two sets."
   ]
  },
  {
   "cell_type": "code",
   "execution_count": 5,
   "metadata": {},
   "outputs": [
    {
     "data": {
      "text/plain": [
       "0.6"
      ]
     },
     "execution_count": 5,
     "metadata": {},
     "output_type": "execute_result"
    }
   ],
   "source": [
    "td.jaccard.similarity('the quick brown fox'.split(), 'the quick brown dog'.split())"
   ]
  },
  {
   "cell_type": "markdown",
   "metadata": {},
   "source": [
    "Note that the implementation is actually for multisets."
   ]
  },
  {
   "cell_type": "code",
   "execution_count": 6,
   "metadata": {},
   "outputs": [
    {
     "data": {
      "text/plain": [
       "0.8333333333333334"
      ]
     },
     "execution_count": 6,
     "metadata": {},
     "output_type": "execute_result"
    }
   ],
   "source": [
    "td.jaccard.similarity('slaves', 'salve')"
   ]
  },
  {
   "cell_type": "markdown",
   "metadata": {},
   "source": [
    "### Cosine \n",
    "\n",
    "For two real valued vectors."
   ]
  },
  {
   "cell_type": "code",
   "execution_count": 7,
   "metadata": {},
   "outputs": [],
   "source": [
    "s1 = 'the quick brown fox'\n",
    "s2 = 'the quick brown dog'"
   ]
  },
  {
   "cell_type": "code",
   "execution_count": 8,
   "metadata": {},
   "outputs": [
    {
     "data": {
      "text/plain": [
       "0.75"
      ]
     },
     "execution_count": 8,
     "metadata": {},
     "output_type": "execute_result"
    }
   ],
   "source": [
    "td.cosine.similarity(s1.split(), s2.split())"
   ]
  },
  {
   "cell_type": "markdown",
   "metadata": {},
   "source": [
    "Cosine distance works on vectors - the default is just to use the bag of words counts."
   ]
  },
  {
   "cell_type": "code",
   "execution_count": 9,
   "metadata": {},
   "outputs": [],
   "source": [
    "from sklearn.feature_extraction.text import CountVectorizer"
   ]
  },
  {
   "cell_type": "code",
   "execution_count": 10,
   "metadata": {},
   "outputs": [],
   "source": [
    "cv = CountVectorizer()"
   ]
  },
  {
   "cell_type": "code",
   "execution_count": 11,
   "metadata": {},
   "outputs": [
    {
     "data": {
      "text/plain": [
       "array([[1, 0, 1, 1, 1],\n",
       "       [1, 1, 0, 1, 1]])"
      ]
     },
     "execution_count": 11,
     "metadata": {},
     "output_type": "execute_result"
    }
   ],
   "source": [
    "t = cv.fit_transform([s1, s2]).toarray()\n",
    "t"
   ]
  },
  {
   "cell_type": "markdown",
   "metadata": {},
   "source": [
    "Cosine distance is equivalent to the inner product of the normalized vectors with length 1."
   ]
  },
  {
   "cell_type": "code",
   "execution_count": 12,
   "metadata": {},
   "outputs": [],
   "source": [
    "from scipy.spatial.distance import cosine"
   ]
  },
  {
   "cell_type": "code",
   "execution_count": 13,
   "metadata": {},
   "outputs": [],
   "source": [
    "import numpy as np"
   ]
  },
  {
   "cell_type": "code",
   "execution_count": 14,
   "metadata": {},
   "outputs": [
    {
     "data": {
      "text/plain": [
       "0.75"
      ]
     },
     "execution_count": 14,
     "metadata": {},
     "output_type": "execute_result"
    }
   ],
   "source": [
    "np.around(1- cosine(t[0], t[1]), 2)"
   ]
  },
  {
   "cell_type": "code",
   "execution_count": 15,
   "metadata": {},
   "outputs": [
    {
     "data": {
      "text/plain": [
       "0.75"
      ]
     },
     "execution_count": 15,
     "metadata": {},
     "output_type": "execute_result"
    }
   ],
   "source": [
    "np.dot(t[0]/np.linalg.norm(t[0]), t[1]/np.linalg.norm(t[1]))"
   ]
  },
  {
   "cell_type": "markdown",
   "metadata": {},
   "source": [
    "### Hellinger\n",
    "\n",
    "For two probability distributions."
   ]
  },
  {
   "cell_type": "code",
   "execution_count": 16,
   "metadata": {},
   "outputs": [],
   "source": [
    "from gensim.matutils import hellinger"
   ]
  },
  {
   "cell_type": "code",
   "execution_count": 17,
   "metadata": {},
   "outputs": [
    {
     "data": {
      "text/plain": [
       "(array([0.25, 0.  , 0.25, 0.25, 0.25]), array([0.25, 0.25, 0.  , 0.25, 0.25]))"
      ]
     },
     "execution_count": 17,
     "metadata": {},
     "output_type": "execute_result"
    }
   ],
   "source": [
    "p = t[0]/t[0].sum()\n",
    "q = t[1]/t[1].sum()\n",
    "p, q"
   ]
  },
  {
   "cell_type": "code",
   "execution_count": 18,
   "metadata": {},
   "outputs": [
    {
     "data": {
      "text/plain": [
       "0.5"
      ]
     },
     "execution_count": 18,
     "metadata": {},
     "output_type": "execute_result"
    }
   ],
   "source": [
    "hellinger(p, q)"
   ]
  },
  {
   "cell_type": "code",
   "execution_count": 19,
   "metadata": {},
   "outputs": [],
   "source": [
    "def discrete_hellinger(p, q):\n",
    "    return 1/np.sqrt(2) * np.linalg.norm(np.sqrt(p) - np.sqrt(q))"
   ]
  },
  {
   "cell_type": "code",
   "execution_count": 20,
   "metadata": {},
   "outputs": [
    {
     "data": {
      "text/plain": [
       "0.5"
      ]
     },
     "execution_count": 20,
     "metadata": {},
     "output_type": "execute_result"
    }
   ],
   "source": [
    "discrete_hellinger(p, q)"
   ]
  },
  {
   "cell_type": "markdown",
   "metadata": {},
   "source": [
    "### Kullback-Leibler"
   ]
  },
  {
   "cell_type": "code",
   "execution_count": 21,
   "metadata": {},
   "outputs": [
    {
     "data": {
      "text/plain": [
       "array([[1, 1, 1],\n",
       "       [3, 1, 2]])"
      ]
     },
     "execution_count": 21,
     "metadata": {},
     "output_type": "execute_result"
    }
   ],
   "source": [
    "t = cv.fit_transform(['one two three', 'one one one two two three']).toarray()\n",
    "t"
   ]
  },
  {
   "cell_type": "code",
   "execution_count": 22,
   "metadata": {},
   "outputs": [
    {
     "data": {
      "text/plain": [
       "(array([0.33333333, 0.33333333, 0.33333333]),\n",
       " array([0.5       , 0.16666667, 0.33333333]))"
      ]
     },
     "execution_count": 22,
     "metadata": {},
     "output_type": "execute_result"
    }
   ],
   "source": [
    "p = t[0]/t[0].sum()\n",
    "q = t[1]/t[1].sum()\n",
    "p, q"
   ]
  },
  {
   "cell_type": "code",
   "execution_count": 23,
   "metadata": {},
   "outputs": [],
   "source": [
    "from gensim.matutils import  kullback_leibler"
   ]
  },
  {
   "cell_type": "code",
   "execution_count": 24,
   "metadata": {},
   "outputs": [
    {
     "data": {
      "text/plain": [
       "0.09589402415059362"
      ]
     },
     "execution_count": 24,
     "metadata": {},
     "output_type": "execute_result"
    }
   ],
   "source": [
    "kullback_leibler(p, q)"
   ]
  },
  {
   "cell_type": "markdown",
   "metadata": {},
   "source": [
    "Not symmetric."
   ]
  },
  {
   "cell_type": "code",
   "execution_count": 25,
   "metadata": {},
   "outputs": [
    {
     "data": {
      "text/plain": [
       "0.08720802396075798"
      ]
     },
     "execution_count": 25,
     "metadata": {},
     "output_type": "execute_result"
    }
   ],
   "source": [
    "kullback_leibler(q, p)"
   ]
  },
  {
   "cell_type": "code",
   "execution_count": 26,
   "metadata": {},
   "outputs": [],
   "source": [
    "def discrete_dkl(p, q):\n",
    "    return -np.sum(p * (np.log(q) - np.log(p)))"
   ]
  },
  {
   "cell_type": "code",
   "execution_count": 27,
   "metadata": {},
   "outputs": [
    {
     "data": {
      "text/plain": [
       "0.09589402415059356"
      ]
     },
     "execution_count": 27,
     "metadata": {},
     "output_type": "execute_result"
    }
   ],
   "source": [
    "discrete_dkl(p, q)"
   ]
  },
  {
   "cell_type": "code",
   "execution_count": 28,
   "metadata": {},
   "outputs": [
    {
     "data": {
      "text/plain": [
       "0.08720802396075805"
      ]
     },
     "execution_count": 28,
     "metadata": {},
     "output_type": "execute_result"
    }
   ],
   "source": [
    "discrete_dkl(q, p)"
   ]
  },
  {
   "cell_type": "markdown",
   "metadata": {},
   "source": [
    "## Word2Vec\n",
    "\n",
    "the `word2vec` family of algorithms is a powerful method for converting a word into a vector that takes into account its context. There are two main ideas - in continuous bag of words, we try to predict the current word from nearby words; in continuous skip-gram, the current word is used to predict nearby words. The phrase \"nearby words\" is intentionally vague - in the simplest case, it is a sliding window of words centered on the current word. \n",
    "\n",
    "Suppose we have the sentence\n",
    "\n",
    "```\n",
    "I do not like green eggs and ham\n",
    "```\n",
    "\n",
    "and suppose we use a centered window of length 3,\n",
    "\n",
    "```\n",
    "((I, not), do), ((do, like), not), ((not, green), like), ((like, eggs), green), ((green, and), eggs), ((eggs, ham) and)\n",
    "```\n",
    "\n",
    "In continuous bag of words, we make the (input, output) pairs to be\n",
    "```\n",
    "(I, do)\n",
    "(not, do)\n",
    "(do, not)\n",
    "(like, not)\n",
    "(not, like)\n",
    "(green, like)\n",
    "(like, green)\n",
    "(eggs, green)\n",
    "(green, eggs)\n",
    "(and, eggs)\n",
    "(eggs, and)\n",
    "(ham, and)\n",
    "```\n",
    "\n",
    "That is, we try to predict `do` when we see `I`, `do` when we see `not` and so on.\n",
    "\n",
    "In continuous skip-gram, we do the inverse for (input, output) pairs\n",
    "```\n",
    "(do, I)\n",
    "(do, not)\n",
    "(not, do)\n",
    "(not, like)\n",
    "(like, not)\n",
    "(like, green)\n",
    "(green, like)\n",
    "(green, eggs)\n",
    "(eggs, green)\n",
    "(eggs, and)\n",
    "(and, eggs)\n",
    "(and, ham)\n",
    "```\n",
    "\n",
    "That is, we try to predict `I` when we see `do`, `not` when we see `do` and so on.\n",
    "\n",
    "To do this prediction, we first assign each word to a vector of some fixed length $n$ - i.e. we embed each word as an $\\mathbb{R}^n$ vector. To do a prediction for all words in the vocabulary using `softmax` would be prohibitively expensive, and is unnecessary if we are just trying to find a good embedding vector. Instead we select $k$ noise words, typically from the unigram distributions, and just train the classifier to distinguish the target word from the noise words using logistic regression (negative sampling). We use stochastic gradient descent to move the embedding word vectors (initialized randomly) until the model gives a high probability to the target words and low probability to the noise ones. If successful, words that are meaningful when substituted in the same context will be close together in $\\mathbb{R}^n$. For instance, `dog` and `cat` are likely to be close together because they appear together in similar contexts like\n",
    "\n",
    "- `My pet dog|cat`\n",
    "- `Raining dogs|cats and cats|dogs`\n",
    "- `The dog|cat chased the rat`\n",
    "- `Common pets are dogs|cats`\n",
    "\n",
    "while `dog` and `apple` are less likely to occur in the same context and hence will end up further apart in the embedding space. Interestingly, the vectors resulting from vector subtraction are also meaningful since they represent analogies - the vector between `man` and `woman` is likely to be similar to that between `king` and `queen`, or `boy` and `girl`.\n",
    "\n",
    "Note: you will encounter `word2vec` again if you take a deep learning class - it is a very influential idea and has many applications beyond text processing since you can apply it to any discrete distribution where local context is meaningful (e.g. genomes). \n",
    "\n",
    "There is a very nice tutorial on Word2Vec that you should read if you want to learn more about the algorithm - [Part 1](http://mccormickml.com/2016/04/19/word2vec-tutorial-the-skip-gram-model/) and [Part 2](http://mccormickml.com/2017/01/11/word2vec-tutorial-part-2-negative-sampling/)\n",
    "\n",
    "Word2Vec learns about the feature representations of *words* - there is a an extension `doc2vec` that generates a feature vector for paragraphs or documents in the same way; we may cover this in the next lecture along with other document retrieval algorithms.\n",
    "\n",
    "There are several other word to vector algorithms inspired by `word2vec` - for example, [`fasttext`](https://fasttext.cc), [approximate nearest neighbors](https://github.com/spotify/annoy) and `wordrank`. Conveniently, many of these are available in the `gensim.models` package."
   ]
  },
  {
   "cell_type": "markdown",
   "metadata": {},
   "source": [
    "We illustrate the mechanics of `word2vec` using `gensim` on the tiny newsgroup corpora; however, you really need much large corpora for `word2vec` to learn effectively."
   ]
  },
  {
   "cell_type": "code",
   "execution_count": 29,
   "metadata": {},
   "outputs": [],
   "source": [
    "import re\n",
    "import numpy as np\n",
    "import pandas as pd"
   ]
  },
  {
   "cell_type": "code",
   "execution_count": 30,
   "metadata": {},
   "outputs": [],
   "source": [
    "import nltk\n",
    "from nltk.stem import SnowballStemmer, WordNetLemmatizer\n",
    "from nltk.collocations import QuadgramCollocationFinder, TrigramCollocationFinder\n",
    "from nltk.metrics.association import QuadgramAssocMeasures, TrigramAssocMeasures\n",
    "import string"
   ]
  },
  {
   "cell_type": "code",
   "execution_count": 31,
   "metadata": {},
   "outputs": [],
   "source": [
    "import gensim\n",
    "from gensim.models.word2vec import Word2Vec"
   ]
  },
  {
   "cell_type": "code",
   "execution_count": 32,
   "metadata": {},
   "outputs": [],
   "source": [
    "from sklearn.datasets import fetch_20newsgroups"
   ]
  },
  {
   "cell_type": "code",
   "execution_count": 33,
   "metadata": {},
   "outputs": [],
   "source": [
    "import warnings\n",
    "\n",
    "warnings.simplefilter('ignore', FutureWarning)"
   ]
  },
  {
   "cell_type": "code",
   "execution_count": 34,
   "metadata": {},
   "outputs": [],
   "source": [
    "newsgroups_train = fetch_20newsgroups(\n",
    "        subset='train',\n",
    "        remove=('headers', 'footers', 'quotes')\n",
    ")"
   ]
  },
  {
   "cell_type": "code",
   "execution_count": 35,
   "metadata": {},
   "outputs": [],
   "source": [
    "newsgroups_test = fetch_20newsgroups(\n",
    "        subset='test',\n",
    "        remove=('headers', 'footers', 'quotes')\n",
    ")"
   ]
  },
  {
   "cell_type": "code",
   "execution_count": 36,
   "metadata": {},
   "outputs": [],
   "source": [
    "def gen_sentences(corpus):\n",
    "    for item in corpus:\n",
    "        yield from nltk.tokenize.sent_tokenize(item)"
   ]
  },
  {
   "cell_type": "code",
   "execution_count": 37,
   "metadata": {},
   "outputs": [
    {
     "name": "stdout",
     "output_type": "stream",
     "text": [
      "rec.autos               :I was wondering if anyone out there could enlighte\n",
      "comp.sys.mac.hardware   :A fair number of brave souls who upgraded their SI\n",
      "comp.sys.mac.hardware   :well folks, my mac plus finally gave up the ghost \n",
      "comp.graphics           :Do you have Weitek's address/phone number?  I'd li\n",
      "sci.space               :From article <C5owCB.n3p@world.std.com>, by tombak\n",
      "talk.politics.guns      :Of course.  The term must be rigidly defined in an\n",
      "sci.med                 :There were a few people who responded to my reques\n",
      "comp.sys.ibm.pc.hardware:ALL this shows is that YOU don't know much about S\n",
      "comp.os.ms-windows.misc :I have win 3.0 and downloaded several icons and BM\n",
      "comp.sys.mac.hardware   :I've had the board for over a year, and it does wo\n",
      "rec.motorcycles         :I have a line on a Ducati 900GTS 1978 model with 1\n",
      "talk.religion.misc      :Yep, that's pretty much it. I'm not a Jew but I un\n",
      "comp.sys.mac.hardware   :--\n",
      "sci.space               :{Description of \"External Tank\" option for SSF red\n",
      "misc.forsale            :Reduced Prices!  I have a list of things forsale o\n",
      "alt.atheism             :Don't be so sure.  Look what happened to Japanese \n",
      "comp.graphics           :I certainly do use it whenever I have to do TIFF, \n",
      "rec.autos               :I recently posted an article asking what kind of r\n",
      "sci.electronics         :I would like to be able to amplify a voltage signa\n",
      "comp.windows.x          :QUESTION:   What is the EXACT entry (parameter and\n"
     ]
    }
   ],
   "source": [
    "for i, t in enumerate(newsgroups_train.target[:20]):\n",
    "    print('%-24s:%s' % (newsgroups_train.target_names[t], \n",
    "                        newsgroups_train.data[i].strip().replace('\\n', ' ')[:50]))"
   ]
  },
  {
   "cell_type": "code",
   "execution_count": 38,
   "metadata": {},
   "outputs": [
    {
     "data": {
      "text/plain": [
       "['I was wondering if anyone out there could enlighten me on this car I saw\\nthe other day. It was a 2-door sports car, looked to be from the late 60s/\\nearly 70s. It was called a Bricklin. The doors were really small. In addition,\\nthe front bumper was separate from the rest of the body. This is \\nall I know. If anyone can tellme a model name, engine specs, years\\nof production, where this car is made, history, or whatever info you\\nhave on this funky looking car, please e-mail.',\n",
       " \"A fair number of brave souls who upgraded their SI clock oscillator have\\nshared their experiences for this poll. Please send a brief message detailing\\nyour experiences with the procedure. Top speed attained, CPU rated speed,\\nadd on cards and adapters, heat sinks, hour of usage per day, floppy disk\\nfunctionality with 800 and 1.4 m floppies are especially requested.\\n\\nI will be summarizing in the next two days, so please add to the network\\nknowledge base if you have done the clock upgrade and haven't answered this\\npoll. Thanks.\",\n",
       " 'well folks, my mac plus finally gave up the ghost this weekend after\\nstarting life as a 512k way back in 1985.  sooo, i\\'m in the market for a\\nnew machine a bit sooner than i intended to be...\\n\\ni\\'m looking into picking up a powerbook 160 or maybe 180 and have a bunch\\nof questions that (hopefully) somebody can answer:\\n\\n* does anybody know any dirt on when the next round of powerbook\\nintroductions are expected?  i\\'d heard the 185c was supposed to make an\\nappearence \"this summer\" but haven\\'t heard anymore on it - and since i\\ndon\\'t have access to macleak, i was wondering if anybody out there had\\nmore info...\\n\\n* has anybody heard rumors about price drops to the powerbook line like the\\nones the duo\\'s just went through recently?\\n\\n* what\\'s the impression of the display on the 180?  i could probably swing\\na 180 if i got the 80Mb disk rather than the 120, but i don\\'t really have\\na feel for how much \"better\" the display is (yea, it looks great in the\\nstore, but is that all \"wow\" or is it really that good?).  could i solicit\\nsome opinions of people who use the 160 and 180 day-to-day on if its worth\\ntaking the disk size and money hit to get the active display?  (i realize\\nthis is a real subjective question, but i\\'ve only played around with the\\nmachines in a computer store breifly and figured the opinions of somebody\\nwho actually uses the machine daily might prove helpful).\\n\\n* how well does hellcats perform?  ;)\\n\\nthanks a bunch in advance for any info - if you could email, i\\'ll post a\\nsummary (news reading time is at a premium with finals just around the\\ncorner... :( )\\n--\\nTom Willis  \\\\  twillis@ecn.purdue.edu    \\\\    Purdue Electrical Engineering']"
      ]
     },
     "execution_count": 38,
     "metadata": {},
     "output_type": "execute_result"
    }
   ],
   "source": [
    "list(newsgroups_train.data[:3])"
   ]
  },
  {
   "cell_type": "code",
   "execution_count": 39,
   "metadata": {},
   "outputs": [
    {
     "data": {
      "text/plain": [
       "['I was wondering if anyone out there could enlighten me on this car I saw\\nthe other day.',\n",
       " 'It was a 2-door sports car, looked to be from the late 60s/\\nearly 70s.',\n",
       " 'It was called a Bricklin.']"
      ]
     },
     "execution_count": 39,
     "metadata": {},
     "output_type": "execute_result"
    }
   ],
   "source": [
    "list(gen_sentences(newsgroups_train.data[:2]))[:3]"
   ]
  },
  {
   "cell_type": "code",
   "execution_count": 40,
   "metadata": {},
   "outputs": [],
   "source": [
    "from gensim.parsing.preprocessing import STOPWORDS"
   ]
  },
  {
   "cell_type": "code",
   "execution_count": 41,
   "metadata": {},
   "outputs": [],
   "source": [
    "docs = [gensim.utils.simple_preprocess(s) \n",
    "        for s in newsgroups_train.data]\n",
    "docs = [[s for s in doc if not s in STOPWORDS] for doc in docs]"
   ]
  },
  {
   "cell_type": "code",
   "execution_count": 42,
   "metadata": {},
   "outputs": [],
   "source": [
    "try:\n",
    "    model = Word2Vec.load('newsgroup_w2v.model')\n",
    "except:\n",
    "    model = Word2Vec(docs,\n",
    "                     size=64, # we use 64 dimensions to represent each word\n",
    "                     window=5, # size of each context window\n",
    "                     min_count=3, # ignore words with frequency less than this\n",
    "                     workers=4)\n",
    "    model.train(docs, total_examples=len(docs), epochs=10)\n",
    "    model.save('newsgroup_w2v.model')"
   ]
  },
  {
   "cell_type": "code",
   "execution_count": 43,
   "metadata": {},
   "outputs": [
    {
     "data": {
      "text/plain": [
       "28036"
      ]
     },
     "execution_count": 43,
     "metadata": {},
     "output_type": "execute_result"
    }
   ],
   "source": [
    "len(model.wv.vocab)"
   ]
  },
  {
   "cell_type": "markdown",
   "metadata": {},
   "source": [
    "The embedding vector for the word `player`"
   ]
  },
  {
   "cell_type": "code",
   "execution_count": 44,
   "metadata": {
    "scrolled": true
   },
   "outputs": [
    {
     "data": {
      "text/plain": [
       "array([-0.56349105, -0.69237125,  0.62378424,  0.42315495,  0.6060761 ,\n",
       "        0.8513135 , -1.4870658 ,  1.8713725 ,  1.0691187 , -0.40534988,\n",
       "        0.13010648, -0.22015332,  1.2252256 ,  0.43524563,  0.16700111,\n",
       "       -0.870683  , -0.3986146 ,  0.8673006 , -1.3044095 ,  0.27732578,\n",
       "        0.13746515, -0.27391872, -0.40350547,  0.1196682 , -0.12516008,\n",
       "        1.094012  ,  0.35382795,  0.28467032, -0.06392957, -0.5844203 ,\n",
       "       -0.6216453 , -0.9612679 , -1.0871466 ,  0.8269012 ,  1.8319201 ,\n",
       "        0.05405332, -0.870298  , -0.63468206, -0.53045857,  0.17161274,\n",
       "       -1.5805042 ,  0.57658744, -0.6095063 ,  2.0426319 ,  0.4949136 ,\n",
       "        0.37475356,  0.80208707, -0.60350955,  0.8224899 ,  0.33021414,\n",
       "       -0.64974153, -0.21154499,  0.26340187, -0.68231577, -1.5057738 ,\n",
       "        0.20943005,  0.938601  ,  1.1808133 ,  0.5425614 ,  1.5063051 ,\n",
       "        0.28405553,  0.98842007, -0.6394381 ,  0.41372457], dtype=float32)"
      ]
     },
     "execution_count": 44,
     "metadata": {},
     "output_type": "execute_result"
    }
   ],
   "source": [
    "model.wv.word_vec('england')"
   ]
  },
  {
   "cell_type": "code",
   "execution_count": 45,
   "metadata": {},
   "outputs": [
    {
     "data": {
      "text/plain": [
       "[('york', 0.8661391139030457),\n",
       " ('mexico', 0.844334602355957),\n",
       " ('london', 0.7788676023483276),\n",
       " ('hampshire', 0.7766897678375244),\n",
       " ('county', 0.76786208152771)]"
      ]
     },
     "execution_count": 45,
     "metadata": {},
     "output_type": "execute_result"
    }
   ],
   "source": [
    "model.wv.most_similar('england', topn=5)"
   ]
  },
  {
   "cell_type": "code",
   "execution_count": 46,
   "metadata": {},
   "outputs": [
    {
     "data": {
      "text/plain": [
       "0.69574744"
      ]
     },
     "execution_count": 46,
     "metadata": {},
     "output_type": "execute_result"
    }
   ],
   "source": [
    "model.wv.similarity('england', 'france')"
   ]
  },
  {
   "cell_type": "code",
   "execution_count": 47,
   "metadata": {},
   "outputs": [
    {
     "data": {
      "text/plain": [
       "0.31536517"
      ]
     },
     "execution_count": 47,
     "metadata": {},
     "output_type": "execute_result"
    }
   ],
   "source": [
    "model.wv.similarity('england', 'rabbit')"
   ]
  },
  {
   "cell_type": "markdown",
   "metadata": {},
   "source": [
    "Apparently, man is to baseball as woman is to stats. Who knew?"
   ]
  },
  {
   "cell_type": "code",
   "execution_count": 48,
   "metadata": {},
   "outputs": [
    {
     "data": {
      "text/plain": [
       "[('nhl', 0.7390564680099487),\n",
       " ('hockey', 0.7029756903648376),\n",
       " ('games', 0.6984614133834839)]"
      ]
     },
     "execution_count": 48,
     "metadata": {},
     "output_type": "execute_result"
    }
   ],
   "source": [
    "model.wv.most_similar(positive=['baseball', 'man'], negative=['woman'], topn=3)"
   ]
  },
  {
   "cell_type": "markdown",
   "metadata": {},
   "source": [
    "Because of the small and very biased data sets (including `soc.religion.christian` and `alt.atheism`), some of the analogies found are pretty weird."
   ]
  },
  {
   "cell_type": "code",
   "execution_count": 49,
   "metadata": {},
   "outputs": [
    {
     "data": {
      "text/plain": [
       "[('ye', 0.8620442748069763),\n",
       " ('abraham', 0.8424699902534485),\n",
       " ('unto', 0.8400495052337646),\n",
       " ('angel', 0.8375562429428101),\n",
       " ('isaiah', 0.8345378637313843),\n",
       " ('prophet', 0.82969069480896),\n",
       " ('hath', 0.8248409032821655),\n",
       " ('apostles', 0.8244911432266235),\n",
       " ('ascended', 0.8211110234260559),\n",
       " ('messenger', 0.820909857749939)]"
      ]
     },
     "execution_count": 49,
     "metadata": {},
     "output_type": "execute_result"
    }
   ],
   "source": [
    "model.wv.most_similar(positive=['father', 'son'],\n",
    "                   negative=['mother'])"
   ]
  },
  {
   "cell_type": "markdown",
   "metadata": {},
   "source": [
    "## Doc2Vec\n",
    "\n",
    "The `doc2vec` algorithm is basically the same as `word2vec` with the addition of a paragraph or document context vector. That is, certain words may be used differently in different types of documents, and this is captured in the  vector representing the paragraph or document.\n",
    "\n",
    "![img](https://cdn-images-1.medium.com/max/1600/0*x-gtU4UlO8FAsRvL.)"
   ]
  },
  {
   "cell_type": "code",
   "execution_count": 50,
   "metadata": {},
   "outputs": [],
   "source": [
    "from gensim.models.doc2vec import Doc2Vec, TaggedDocument"
   ]
  },
  {
   "cell_type": "code",
   "execution_count": 51,
   "metadata": {},
   "outputs": [],
   "source": [
    "tagged_docs = [TaggedDocument(doc, [i]) for i, doc in enumerate(docs)]"
   ]
  },
  {
   "cell_type": "code",
   "execution_count": 52,
   "metadata": {},
   "outputs": [],
   "source": [
    "try:\n",
    "    model = Doc2Vec.load('newsgroup_d2v.model')\n",
    "except:\n",
    "    model = Doc2Vec(tagged_docs,\n",
    "                    vector_size=10, # we use 10 dimensions to represent each doc\n",
    "                    window=5, # size of each context window\n",
    "                    min_count=3, # ignore words with frequency less than this\n",
    "                    workers=4)\n",
    "    model.train(tagged_docs, total_examples=len(tagged_docs), epochs=10)\n",
    "    model.save('newsgroup_d2v.model')"
   ]
  },
  {
   "cell_type": "code",
   "execution_count": 53,
   "metadata": {},
   "outputs": [],
   "source": [
    "query = newsgroups_test.data[9]"
   ]
  },
  {
   "cell_type": "code",
   "execution_count": 54,
   "metadata": {},
   "outputs": [],
   "source": [
    "query = [token for token in gensim.utils.simple_preprocess(query) \n",
    "         if not token in STOPWORDS]"
   ]
  },
  {
   "cell_type": "code",
   "execution_count": 55,
   "metadata": {},
   "outputs": [
    {
     "data": {
      "text/plain": [
       "array([ 0.61702985,  0.36884686, -0.07321872,  0.05467742,  0.06055934,\n",
       "       -0.43449533,  0.19031854,  0.05017118,  0.15060216,  0.7359674 ],\n",
       "      dtype=float32)"
      ]
     },
     "execution_count": 55,
     "metadata": {},
     "output_type": "execute_result"
    }
   ],
   "source": [
    "vector = model.infer_vector(query)\n",
    "vector"
   ]
  },
  {
   "cell_type": "code",
   "execution_count": 56,
   "metadata": {},
   "outputs": [
    {
     "data": {
      "text/plain": [
       "[(215, 0.9346252679824829),\n",
       " (3840, 0.9333208799362183),\n",
       " (4535, 0.9313441514968872),\n",
       " (7400, 0.9279981851577759),\n",
       " (10697, 0.9263129234313965),\n",
       " (4083, 0.9233070611953735),\n",
       " (4915, 0.9226728677749634),\n",
       " (8966, 0.9175481796264648),\n",
       " (1398, 0.9162013530731201),\n",
       " (4715, 0.9149473905563354)]"
      ]
     },
     "execution_count": 56,
     "metadata": {},
     "output_type": "execute_result"
    }
   ],
   "source": [
    "model.docvecs.most_similar([vector])"
   ]
  },
  {
   "cell_type": "code",
   "execution_count": 57,
   "metadata": {
    "scrolled": false
   },
   "outputs": [
    {
     "name": "stdout",
     "output_type": "stream",
     "text": [
      ":  \n",
      ": well, i have lots of experience with scanning in images and altering\n",
      ": them.  as for changing them back into negatives, is that really possible?\n",
      "\n",
      ": (stuff deleted)\n",
      "\n",
      ": jennifer urso:  the oh-so bitter woman of utter blahness(but cheerful\n",
      ": undertones)\n",
      "\n",
      "I use Aldus Photostyler on the PC and I can turn a colour or black and white\n",
      "image into a negative or turn a negative into a colour or black and white\n",
      "image.  I don't know how it does it but it works well.  To test it I scanned\n",
      "a negative and used Aldus to create a positive.  It looked better than the\n",
      "print that the film developers gave me.\n",
      "\n",
      "\n",
      "-- \n",
      "--------------------------------------------------------------------------------\n",
      "\n",
      "\n",
      "MSG is mono sodium glutamate, a fairly straight forward compound. If it is\n",
      "pure, the source should not be a problem. Your comment suggests that \n",
      "impurities may be the cause.\n",
      "My experience of MSG effects (as part of a double blind study) was that the\n",
      "pure stuff caused me some rather severe effects.\n",
      "\n",
      "\n",
      "Soya bean, fermented cheeses, mushrooms all contain MSG. \n",
      "\n",
      "--------------------------------------------------------------------------------\n",
      "Every time you read about a shuttle landing they mention the double sonic  \n",
      "booms.  Having taken various relevant classes, I have several ideas of where  \n",
      "they come from, but none of them are very convincing.  Exactly what causes  \n",
      "them?  Are they a one time pheneomenon, or a constant one like the supersonic  \n",
      "shockwave that is constantly produced by a plane, but you hear only when it  \n",
      "goes over you?\n",
      "\n",
      "---\n",
      "---------------------------------------------------------------------\n",
      "--------------------------------------------------------------------------------\n",
      "\n",
      "It wasn't especially prominent, as I recall.  However, quite possibly it's\n",
      "no longer on display; NASM, like most museums, has much more stuff than it\n",
      "can display at once, and does rotate the displays occasionally.\n",
      "--------------------------------------------------------------------------------\n",
      "Has anyone ever heard of FET-TRONS (or is it FETRONS, FETTRONS, ...).\n",
      "These were FET replacement modules for vacuum tubes. I'm looking for\n",
      "applications where they were used. \n",
      "--------------------------------------------------------------------------------\n",
      "\n",
      "You are correct; the fastest \"complete\" image that could be presented on\n",
      "TV would be one field, which is 1/60 of a second (approximately).  Of course,\n",
      "the phrase \"TV screen\" is often thrown around in reference to any CRT\n",
      "display, so perhaps this researcher wasn't using normal TV rates.  Might\n",
      "even be a vector (\"strokewriter\") display, in which case the lower limit\n",
      "on image time is anyone's guess (and is probably phosphor-persistence limited).\n",
      "\n"
     ]
    }
   ],
   "source": [
    "print(newsgroups_test.data[9])\n",
    "for i, score in model.docvecs.most_similar([vector], topn=5):\n",
    "    print('-'*80)\n",
    "    print(newsgroups_train.data[i])"
   ]
  },
  {
   "cell_type": "markdown",
   "metadata": {},
   "source": [
    "## Latent Semantic Indexing (LSI)\n",
    "\n",
    "### Concept\n",
    "\n",
    "Latent semantic indexing is basically using SVD to find a low rank approximation to the document/word feature matrix.\n",
    "\n",
    "Recall that with SVD, $A = U \\Sigma V^T$. With LSI, we interpret the matrices as\n",
    "\n",
    "\\begin{array}\n",
    "& A &= & T & \\Sigma & D^T  \\\\\n",
    "(t \\times d) &= & (t \\times n) & (n \\times n) & (n \\times d)\n",
    "\\end{array}\n",
    "\n",
    "where $T$ is a mnemonic for Term and $D$ is a mnemonic for Document.\n",
    "\n",
    "If we use $r$ singular values, we reconstruct the rank-$r$ matrix $A_r$ as \n",
    "\n",
    "\\begin{array}\n",
    "& A_r &= & \\hat{T} & \\hat{\\Sigma} & \\hat{D}^T  \\\\\n",
    "(t \\times d) &= & (t \\times r) & (r \\times r) & (r \\times d)\n",
    "\\end{array}\n",
    "\n",
    "or as the sum of outer products\n",
    "\n",
    "$$\n",
    "A_r = \\sum_{k=1}^{r} \\sigma_r t_r d_r^T\n",
    "$$\n",
    "\n",
    "The $r$ columns $\\hat{T}$ are the basis vectors for the rotated lower-dimensional coordinate system, and we can consider each of the $r$ columns or $\\hat{T}$ as representing a topic. The value of $\\hat{T}_{ij}$ is the weight of the $i^\\text{th}$ term for topic $j$.\n",
    "\n",
    "### Queries\n",
    "\n",
    "Suppose we have a new document $x$ with dimensions $t \\times 1$. We convert it to the $\\hat{T}$ space by a change-of basis transformation\n",
    "\n",
    "$$\n",
    "x^* = \\hat{T}^T x\n",
    "$$\n",
    "\n",
    "which you can check will have dimensions $r \\times 1$.\n",
    "\n",
    "To find what documents are similar to $x$, we look for what original documents are close to $x^*$ in the $\\hat{T}$ space by looking for the columns of $\\hat{\\Sigma} D^T$ (with dimensions $r \\times d$) that are closest to $x*$."
   ]
  },
  {
   "cell_type": "markdown",
   "metadata": {},
   "source": [
    "### Example of LSI"
   ]
  },
  {
   "cell_type": "code",
   "execution_count": 58,
   "metadata": {},
   "outputs": [
    {
     "data": {
      "text/plain": [
       "11314"
      ]
     },
     "execution_count": 58,
     "metadata": {},
     "output_type": "execute_result"
    }
   ],
   "source": [
    "len(docs)"
   ]
  },
  {
   "cell_type": "code",
   "execution_count": 59,
   "metadata": {},
   "outputs": [],
   "source": [
    "dictionary = gensim.corpora.Dictionary(docs)"
   ]
  },
  {
   "cell_type": "code",
   "execution_count": 60,
   "metadata": {},
   "outputs": [],
   "source": [
    "corpus = [dictionary.doc2bow(doc) for doc in docs]"
   ]
  },
  {
   "cell_type": "code",
   "execution_count": 61,
   "metadata": {},
   "outputs": [],
   "source": [
    "lsi = gensim.models.LsiModel(corpus, num_topics=10, id2word = dictionary)"
   ]
  },
  {
   "cell_type": "code",
   "execution_count": 62,
   "metadata": {},
   "outputs": [
    {
     "name": "stdout",
     "output_type": "stream",
     "text": [
      "0.997*\"ax\" + 0.072*\"max\" + 0.009*\"pl\" + 0.007*\"ei\" + 0.006*\"tm\"\n",
      "-0.230*\"cx\" + -0.225*\"db\" + -0.225*\"file\" + -0.177*\"hz\" + -0.159*\"edu\"\n",
      "-0.267*\"file\" + 0.214*\"cx\" + -0.182*\"edu\" + 0.172*\"hz\" + 0.152*\"ww\"\n",
      "-0.868*\"db\" + -0.216*\"mov\" + -0.189*\"bh\" + -0.136*\"si\" + -0.127*\"cs\"\n",
      "0.438*\"file\" + 0.272*\"output\" + -0.181*\"people\" + 0.177*\"entry\" + -0.175*\"know\"\n",
      "0.246*\"file\" + -0.236*\"edu\" + 0.230*\"mr\" + 0.224*\"di\" + 0.188*\"pl\"\n",
      "0.290*\"di\" + 0.251*\"pl\" + 0.223*\"wm\" + 0.222*\"tm\" + 0.188*\"um\"\n",
      "-0.493*\"jpeg\" + -0.261*\"file\" + -0.251*\"image\" + -0.201*\"gif\" + -0.177*\"mr\"\n",
      "-0.303*\"mr\" + -0.259*\"file\" + 0.253*\"jpeg\" + -0.235*\"stephanopoulos\" + -0.178*\"edu\"\n",
      "0.371*\"stephanopoulos\" + 0.309*\"mr\" + -0.269*\"file\" + 0.181*\"president\" + -0.175*\"gun\"\n"
     ]
    }
   ],
   "source": [
    "for i, topic in  lsi.print_topics(num_words=5):\n",
    "    print(topic)"
   ]
  },
  {
   "cell_type": "code",
   "execution_count": 63,
   "metadata": {},
   "outputs": [
    {
     "name": "stdout",
     "output_type": "stream",
     "text": [
      "00 rec.autos               :I am a little confused on all of the models of the\n",
      "01 comp.windows.x          :I'm not familiar at all with the format of these \"\n",
      "02 alt.atheism             :In a word, yes.\n",
      "03 talk.politics.mideast   :They were attacking the Iraqis to drive them out o\n",
      "04 talk.religion.misc      :I've just spent two solid months arguing that no s\n",
      "05 sci.med                 :Elisabeth, let's set the record straight for the n\n",
      "06 soc.religion.christian  :Dishonest money dwindles away, but he who gathers \n",
      "07 soc.religion.christian  :A friend of mine managed to get a copy of a comput\n",
      "08 comp.windows.x          :Hi,     We have a requirement for dynamically clos\n",
      "09 comp.graphics           ::   : well, i have lots of experience with scannin\n",
      "10 comp.os.ms-windows.misc :I have uploaded the Windows On-Line Review sharewa\n",
      "11 comp.windows.x          :Most graphics systems I have seen have drawing rou\n",
      "12 talk.politics.mideast   :You *know* that putting something like this out on\n",
      "13 rec.motorcycles         :Accusation?  I thought it was a recommendation.  (\n",
      "14 alt.atheism             :Probably because it IS rape.   So nothing.  It may\n",
      "15 comp.os.ms-windows.misc :From article <C68uBG.K2w@world.std.com>, by cfw@wo\n",
      "16 comp.sys.mac.hardware   :Iv'e got a problem printing with a StyleWriterII. \n",
      "17 comp.graphics           :Hello, i'm interested in those devices too. Could \n",
      "18 misc.forsale            :I said what a SILLY boy i was, now i have zillions\n",
      "19 talk.politics.guns      :I just called Texas' legislative bill tracking ser\n"
     ]
    }
   ],
   "source": [
    "for i, t in enumerate(newsgroups_test.target[:20]):\n",
    "    print('%02d %-24s:%s' % (i, newsgroups_test.target_names[t], \n",
    "                        newsgroups_test.data[i].strip().replace('\\n', ' ')[:50]))"
   ]
  },
  {
   "cell_type": "markdown",
   "metadata": {},
   "source": [
    "#### Find topics in document\n",
    "\n",
    "Note that topics are rather hard to interpret. After all they are just words with the largest weights in the low rank approximation."
   ]
  },
  {
   "cell_type": "code",
   "execution_count": 64,
   "metadata": {},
   "outputs": [
    {
     "data": {
      "text/plain": [
       "\":  \\n: well, i have lots of experience with scanning in images and altering\\n: them.  as for changing them back into negatives, is that really possible?\\n\\n: (stuff deleted)\\n\\n: jennifer urso:  the oh-so bitter woman of utter blahness(but cheerful\\n: undertones)\\n\\nI use Aldus Photostyler on the PC and I can turn a colour or black and white\\nimage into a negative or turn a negative into a colour or black and white\\nimage.  I don't know how it does it but it works well.  To test it I scanned\\na negative and used Aldus to create a positive.  It looked better than the\\nprint that the film developers gave me.\\n\\n\\n-- \""
      ]
     },
     "execution_count": 64,
     "metadata": {},
     "output_type": "execute_result"
    }
   ],
   "source": [
    "query = newsgroups_test.data[9]\n",
    "query"
   ]
  },
  {
   "cell_type": "code",
   "execution_count": 65,
   "metadata": {},
   "outputs": [
    {
     "data": {
      "text/plain": [
       "['well', 'have', 'lots']"
      ]
     },
     "execution_count": 65,
     "metadata": {},
     "output_type": "execute_result"
    }
   ],
   "source": [
    "query = gensim.utils.simple_preprocess(query)\n",
    "query[:3]"
   ]
  },
  {
   "cell_type": "code",
   "execution_count": 66,
   "metadata": {},
   "outputs": [],
   "source": [
    "query = dictionary.doc2bow(query)"
   ]
  },
  {
   "cell_type": "code",
   "execution_count": 67,
   "metadata": {},
   "outputs": [],
   "source": [
    "query = lsi[query]"
   ]
  },
  {
   "cell_type": "code",
   "execution_count": 68,
   "metadata": {},
   "outputs": [
    {
     "data": {
      "text/plain": [
       "[(8, 0.6821816482262105),\n",
       " (3, 0.08967435368416013),\n",
       " (9, 0.05678673314421907),\n",
       " (0, 6.550817096540486e-05),\n",
       " (6, -0.027705407390045133)]"
      ]
     },
     "execution_count": 68,
     "metadata": {},
     "output_type": "execute_result"
    }
   ],
   "source": [
    "sorted(query, key=lambda x: -x[1])[:5]"
   ]
  },
  {
   "cell_type": "code",
   "execution_count": 69,
   "metadata": {},
   "outputs": [],
   "source": [
    "topics = [i for i, score in sorted(query, key=lambda x: -x[1])[:5]]"
   ]
  },
  {
   "cell_type": "code",
   "execution_count": 70,
   "metadata": {},
   "outputs": [
    {
     "data": {
      "text/plain": [
       "'-0.303*\"mr\" + -0.259*\"file\" + 0.253*\"jpeg\" + -0.235*\"stephanopoulos\" + -0.178*\"edu\" + 0.162*\"people\" + -0.153*\"gun\" + -0.134*\"president\" + 0.124*\"image\" + 0.121*\"output\"'"
      ]
     },
     "execution_count": 70,
     "metadata": {},
     "output_type": "execute_result"
    }
   ],
   "source": [
    "lsi.print_topic(topics[0])"
   ]
  },
  {
   "cell_type": "code",
   "execution_count": 71,
   "metadata": {},
   "outputs": [],
   "source": [
    "pat = re.compile(r'.*?(-)?\\d+.*?\\\"(\\w+)\\\"')"
   ]
  },
  {
   "cell_type": "code",
   "execution_count": 72,
   "metadata": {},
   "outputs": [
    {
     "name": "stdout",
     "output_type": "stream",
     "text": [
      "-mr,-file,jpeg,-stephanopoulos,-edu,people,-gun,-president,image,output\n",
      "-db,-mov,-bh,-si,-cs,-byte,hz,-bl,-di,-al\n",
      "stephanopoulos,mr,-file,president,-gun,output,edu,-people,program,entry\n",
      "ax,max,pl,ei,tm,bhj,giz,di,ey,wm\n",
      "di,pl,wm,tm,um,edu,-stephanopoulos,bxn,-know,giz\n"
     ]
    }
   ],
   "source": [
    "for topic in topics:\n",
    "    words = [''.join(pair) for pair in pat.findall(lsi.print_topic(topic))]\n",
    "    print(','.join(words))"
   ]
  },
  {
   "cell_type": "markdown",
   "metadata": {},
   "source": [
    "#### Find similar documents"
   ]
  },
  {
   "cell_type": "code",
   "execution_count": 73,
   "metadata": {},
   "outputs": [],
   "source": [
    "index = gensim.similarities.MatrixSimilarity(lsi[corpus])"
   ]
  },
  {
   "cell_type": "code",
   "execution_count": 74,
   "metadata": {},
   "outputs": [],
   "source": [
    "sims = index[query]"
   ]
  },
  {
   "cell_type": "code",
   "execution_count": 75,
   "metadata": {},
   "outputs": [
    {
     "data": {
      "text/plain": [
       "[(5755, 0.993729),\n",
       " (8226, 0.99354684),\n",
       " (16, 0.99055254),\n",
       " (10697, 0.9892783),\n",
       " (6864, 0.9879426)]"
      ]
     },
     "execution_count": 75,
     "metadata": {},
     "output_type": "execute_result"
    }
   ],
   "source": [
    "hits = sorted(enumerate(sims), key=lambda x: -x[1])[:5]\n",
    "hits"
   ]
  },
  {
   "cell_type": "code",
   "execution_count": 76,
   "metadata": {
    "scrolled": false
   },
   "outputs": [
    {
     "name": "stdout",
     "output_type": "stream",
     "text": [
      ":  \n",
      ": well, i have lots of experience with scanning in images and altering\n",
      ": them.  as for changing them back into negatives, is that really possible?\n",
      "\n",
      ": (stuff deleted)\n",
      "\n",
      ": jennifer urso:  the oh-so bitter woman of utter blahness(but cheerful\n",
      ": undertones)\n",
      "\n",
      "I use Aldus Photostyler on the PC and I can turn a colour or black and white\n",
      "image into a negative or turn a negative into a colour or black and white\n",
      "image.  I don't know how it does it but it works well.  To test it I scanned\n",
      "a negative and used Aldus to create a positive.  It looked better than the\n",
      "print that the film developers gave me.\n",
      "\n",
      "\n",
      "-- \n",
      "--------------------------------------------------------------------------------\n",
      "\n",
      "Why didn't you create 8 grey-level images, and display them for\n",
      "1,2,4,8,16,32,64,128... time slices?\n",
      "\n",
      "This requires the same total exposure time, and the same precision in\n",
      "timing, but drastically reduces the image-preparation time, no?\n",
      "\n",
      "\n",
      "\n",
      "\n",
      "\n",
      "\n",
      "--------------------------------------------------------------------------------\n",
      "The Logitech ScanMan 32 is a nice unit, compact and effective it will\n",
      "bring in graphics with surprisingly good quality. Note that its effective\n",
      "resolution in grey scale mode is only about 72 dpi. If you don't intend\n",
      "to magnify a graphic, it works fine. A true 256 level gray scanner would\n",
      "work better for images.\n",
      "--------------------------------------------------------------------------------\n",
      "\n",
      "I certainly do use it whenever I have to do TIFF, and it usually works\n",
      "very well.  That's not my point.  I'm >philosophically< opposed to it\n",
      "because of its complexity.\n",
      "\n",
      "This complexity has led to some programs' poor TIFF writers making\n",
      "some very bizarre files, other programs' inability to load TIFF\n",
      "images (though they'll save them, of course), and a general\n",
      "inability to interchange images between different environments\n",
      "despite the fact they all think they understand TIFF.\n",
      "\n",
      "As the saying goes, \"It's not me I'm worried about- it's all the\n",
      "abuse of TIFF over the years, and I chalk it all up to the immense (and\n",
      "unnecessary) complexity of the format.\n",
      "\n",
      "In the words of the TIFF 5.0 spec, Appendix G, page G-1 (capitalized\n",
      "emphasis mine):\n",
      "\n",
      "\"The only problem with this sort of success is that TIFF was designed\n",
      "to be powerful and flexible, at the expense of simplicity.  It takes a\n",
      "fair amount of effort to handle all the options currently defined in\n",
      "this specification (PROBABLY NO APPLICATION DOES A COMPLETE JOB),\n",
      "and that is currently the only way you can be >sure< that you will be\n",
      "able to import any TIFF image, since there are so many\n",
      "image-generating applications out there now.\"\n",
      "\n",
      "\n",
      "If a program (or worse all applications) can't read >every< TIFF\n",
      "image, that means there are some it won't- some that I might have to\n",
      "deal with.  Why would I want my images to be trapped in that format?  I\n",
      "don't and neither should anyone who agrees with my reasoning- not\n",
      "that anyone does, of course! :-)\n",
      "--------------------------------------------------------------------------------\n",
      "\n",
      "You are correct; the fastest \"complete\" image that could be presented on\n",
      "TV would be one field, which is 1/60 of a second (approximately).  Of course,\n",
      "the phrase \"TV screen\" is often thrown around in reference to any CRT\n",
      "display, so perhaps this researcher wasn't using normal TV rates.  Might\n",
      "even be a vector (\"strokewriter\") display, in which case the lower limit\n",
      "on image time is anyone's guess (and is probably phosphor-persistence limited).\n",
      "\n",
      "--------------------------------------------------------------------------------\n",
      "well, the subject says just about all I intended to ask:\n",
      "\n",
      "Is there no way to insert a 256 color into WfW 2.0 ?\n",
      "\n",
      "When I try it, the picture turns into a 16 color pic.\n",
      "\n"
     ]
    }
   ],
   "source": [
    "print(newsgroups_test.data[9])\n",
    "for match in [newsgroups_train.data[k] for k, score in hits]:\n",
    "    print('-'*80)\n",
    "    print(match)"
   ]
  },
  {
   "cell_type": "markdown",
   "metadata": {},
   "source": [
    "$$\n",
    "\\newcommand{\\norm}[1]{\\left\\lVert#1\\right\\rVert}\n",
    "$$"
   ]
  },
  {
   "cell_type": "markdown",
   "metadata": {},
   "source": [
    "## Non-negative Matrix Factorization\n",
    "\n",
    "The topics generated by LSI can be hard to understand because they include negative weights for words. They may also be hard to understand since they may not map to topics in the way that we would. Remember, a topic is just a low rank approximation that minimizes the Frobenius norm. An alternative factorization is non-negative matrix (NMF) factorization, which does not use negatively valued words in the topic.\n",
    "\n",
    "NMF performs the following decomposition\n",
    "\n",
    "\\begin{array}\n",
    "& A &= & W & H  \\\\\n",
    "(t \\times d) &= & (t \\times n) & (n \\times d)\n",
    "\\end{array}\n",
    "\n",
    "using an iterative procedure to minimize the Frobenius norm $\\norm{A - WH}_F^2$ subject to the constraint that $W, H > 0$. There are several different methods to perform this iterative minimization that do not concern us here.\n",
    "\n",
    "NMF basically finds a different set of basis vectors (not the eigenvectors of the covariance matrix) to project onto. The vectors point in the direction of clusters of word features that appear in common across multiple documents.\n",
    "\n",
    "![nmf_svd](https://qph.fs.quoracdn.net/main-qimg-9b4e31ec4b57f4baf7d08d5df17c6bc0)"
   ]
  },
  {
   "cell_type": "code",
   "execution_count": 77,
   "metadata": {},
   "outputs": [],
   "source": [
    "from sklearn.feature_extraction.text import TfidfVectorizer\n",
    "from sklearn.preprocessing import normalize"
   ]
  },
  {
   "cell_type": "code",
   "execution_count": 78,
   "metadata": {},
   "outputs": [],
   "source": [
    "import warnings"
   ]
  },
  {
   "cell_type": "code",
   "execution_count": 79,
   "metadata": {},
   "outputs": [],
   "source": [
    "warnings.simplefilter('ignore', FutureWarning)"
   ]
  },
  {
   "cell_type": "code",
   "execution_count": 80,
   "metadata": {},
   "outputs": [],
   "source": [
    "from sklearn.decomposition import NMF"
   ]
  },
  {
   "cell_type": "code",
   "execution_count": 81,
   "metadata": {},
   "outputs": [],
   "source": [
    "vectorizer = TfidfVectorizer()\n",
    "X = vectorizer.fit_transform(newsgroups_train.data)\n",
    "X = normalize(X, norm='l1', axis=1)\n",
    "model = NMF(n_components=10, init='random', random_state=0)\n",
    "W = model.fit_transform(X)"
   ]
  },
  {
   "cell_type": "code",
   "execution_count": 82,
   "metadata": {},
   "outputs": [
    {
     "data": {
      "text/plain": [
       "(11314, 10)"
      ]
     },
     "execution_count": 82,
     "metadata": {},
     "output_type": "execute_result"
    }
   ],
   "source": [
    "W.shape"
   ]
  },
  {
   "cell_type": "code",
   "execution_count": 83,
   "metadata": {},
   "outputs": [
    {
     "name": "stdout",
     "output_type": "stream",
     "text": [
      "Topic 0: the of to and in is that on not it\n",
      "Topic 1: you to it for have your if thanks me what\n",
      "Topic 2: hello testing please networld xelm mailreader looking andreas am mail\n",
      "Topic 3: each chris 00 postage for answered are sale includes usa\n",
      "Topic 4: was that he thought oh it just bet sunpost411ld chicago\n",
      "Topic 5: hi thanks appreciated anyone advance any windows for anybody card\n",
      "Topic 6: test this is thanks message only tesrt it putt david\n",
      "Topic 7: ax max g9v b8f a86 pl 1d9 1t 3t 145\n",
      "Topic 8: ditto me too here for cdt he copy let hillary\n",
      "Topic 9: deletion god why atheism alt is concidered gospels exist drivel\n"
     ]
    }
   ],
   "source": [
    "vocab = vectorizer.get_feature_names()\n",
    "for i, topic in enumerate(model.components_):\n",
    "    print(\"Topic %d:\" % i, end=' ')\n",
    "    print(\" \".join([vocab[i] for i in topic.argsort()[:-10 - 1:-1]]))"
   ]
  },
  {
   "cell_type": "markdown",
   "metadata": {},
   "source": [
    "How would you find documents similar to the query document? "
   ]
  },
  {
   "cell_type": "markdown",
   "metadata": {},
   "source": [
    "## Latent Dirichlet Allocation\n",
    "\n",
    "- [Original paper](http://www.jmlr.org/papers/volume3/blei03a/blei03a.pdf)"
   ]
  },
  {
   "cell_type": "code",
   "execution_count": 84,
   "metadata": {},
   "outputs": [],
   "source": [
    "import numpy as np"
   ]
  },
  {
   "cell_type": "markdown",
   "metadata": {},
   "source": [
    "### The Dirichlet distribution\n",
    "\n",
    "A random sample from a Dirichlet distribution is a multinomial distribution, of the same length as the Dirichlet concentration parameter $\\alpha$"
   ]
  },
  {
   "cell_type": "code",
   "execution_count": 85,
   "metadata": {},
   "outputs": [
    {
     "name": "stdout",
     "output_type": "stream",
     "text": [
      "[0.42000365 0.2330118  0.34698455]\n",
      "[0.04387792 0.42570748 0.5304146 ]\n",
      "[0.0853653  0.14306953 0.77156517]\n",
      "[0.01721692 0.59394126 0.38884182]\n",
      "[0.04981342 0.21369137 0.73649521]\n"
     ]
    }
   ],
   "source": [
    "α = np.array([1,2,3])\n",
    "for i in range(5):\n",
    "    print(np.random.dirichlet(α))"
   ]
  },
  {
   "cell_type": "markdown",
   "metadata": {},
   "source": [
    "#### Relationship between $\\alpha$ and samples"
   ]
  },
  {
   "cell_type": "code",
   "execution_count": 86,
   "metadata": {},
   "outputs": [
    {
     "data": {
      "text/plain": [
       "array([0.16666667, 0.33333333, 0.5       ])"
      ]
     },
     "execution_count": 86,
     "metadata": {},
     "output_type": "execute_result"
    }
   ],
   "source": [
    "α/α.sum()"
   ]
  },
  {
   "cell_type": "code",
   "execution_count": 87,
   "metadata": {},
   "outputs": [
    {
     "data": {
      "text/plain": [
       "array([0.16672605, 0.33334275, 0.4999312 ])"
      ]
     },
     "execution_count": 87,
     "metadata": {},
     "output_type": "execute_result"
    }
   ],
   "source": [
    "n = int(1e6)\n",
    "np.random.dirichlet(α, n).mean(axis=0)"
   ]
  },
  {
   "cell_type": "markdown",
   "metadata": {},
   "source": [
    "### Concept of LDA"
   ]
  },
  {
   "cell_type": "markdown",
   "metadata": {},
   "source": [
    "LDA is a generative model - that is, it provides a probability distribution from which we can generate documents, each of which is composed of generated words. We sketch the generative process here; the MCMC machinery that is used for implementation is not covered in this course (but will be in STA 663).\n",
    "\n",
    "- There are $M$ documents\n",
    "  - A document consists of the words $w_{1:N}$\n",
    "- There are $K$ topics $\\varphi_{1:K}$ from which we can choose words from a vocabulary of length $V$\n",
    "  - For each topic\n",
    "    - Sample a topic $\\varphi$ from a Dirichlet distribution with parameter $\\beta$\n",
    "    - Each topic $\\varphi$ is a multinomial distribution of size $V$\n",
    "- There are $N$ words in a document\n",
    "  - For each document\n",
    "    - Sample a topic multinomial $\\theta$ of size $K$ from a different Dirichlet distribution with parameter $\\alpha$\n",
    "    - Repeat for each word position in the document\n",
    "      - Sample the integer index $z$ from $\\theta$\n",
    "      - Sample a word $w$ from the topic $\\varphi_z$ \n",
    "      \n",
    "![lda](https://upload.wikimedia.org/wikipedia/commons/4/4d/Smoothed_LDA.png)"
   ]
  },
  {
   "cell_type": "markdown",
   "metadata": {},
   "source": [
    "### Example of LDA"
   ]
  },
  {
   "cell_type": "code",
   "execution_count": 88,
   "metadata": {},
   "outputs": [],
   "source": [
    "from gensim.models.ldamodel import LdaModel"
   ]
  },
  {
   "cell_type": "code",
   "execution_count": 89,
   "metadata": {},
   "outputs": [],
   "source": [
    "lda = LdaModel(corpus, num_topics=10, id2word = dictionary)"
   ]
  },
  {
   "cell_type": "code",
   "execution_count": 90,
   "metadata": {},
   "outputs": [
    {
     "name": "stdout",
     "output_type": "stream",
     "text": [
      "0.006*\"use\" + 0.005*\"people\" + 0.004*\"law\" + 0.004*\"like\" + 0.004*\"government\"\n",
      "0.010*\"like\" + 0.008*\"drive\" + 0.007*\"know\" + 0.005*\"ve\" + 0.005*\"new\"\n",
      "0.015*\"la\" + 0.011*\"det\" + 0.011*\"van\" + 0.011*\"ax\" + 0.010*\"vs\"\n",
      "0.616*\"ax\" + 0.046*\"max\" + 0.008*\"pl\" + 0.005*\"ei\" + 0.004*\"tm\"\n",
      "0.017*\"cx\" + 0.014*\"c_\" + 0.009*\"ax\" + 0.009*\"hz\" + 0.009*\"qs\"\n",
      "0.011*\"edu\" + 0.008*\"com\" + 0.006*\"mail\" + 0.005*\"space\" + 0.005*\"ripem\"\n",
      "0.010*\"people\" + 0.009*\"god\" + 0.006*\"think\" + 0.006*\"know\" + 0.004*\"like\"\n",
      "0.008*\"use\" + 0.007*\"windows\" + 0.007*\"key\" + 0.006*\"file\" + 0.006*\"data\"\n",
      "0.005*\"good\" + 0.005*\"time\" + 0.005*\"space\" + 0.004*\"team\" + 0.004*\"think\"\n",
      "0.006*\"year\" + 0.006*\"car\" + 0.004*\"gun\" + 0.004*\"new\" + 0.003*\"good\"\n"
     ]
    }
   ],
   "source": [
    "for i, topic in  lda.print_topics(num_words=5):\n",
    "    print(topic)"
   ]
  },
  {
   "cell_type": "code",
   "execution_count": 91,
   "metadata": {},
   "outputs": [
    {
     "data": {
      "text/plain": [
       "\":  \\n: well, i have lots of experience with scanning in images and altering\\n: them.  as for changing them back into negatives, is that really possible?\\n\\n: (stuff deleted)\\n\\n: jennifer urso:  the oh-so bitter woman of utter blahness(but cheerful\\n: undertones)\\n\\nI use Aldus Photostyler on the PC and I can turn a colour or black and white\\nimage into a negative or turn a negative into a colour or black and white\\nimage.  I don't know how it does it but it works well.  To test it I scanned\\na negative and used Aldus to create a positive.  It looked better than the\\nprint that the film developers gave me.\\n\\n\\n-- \""
      ]
     },
     "execution_count": 91,
     "metadata": {},
     "output_type": "execute_result"
    }
   ],
   "source": [
    "query = newsgroups_test.data[9]\n",
    "query"
   ]
  },
  {
   "cell_type": "code",
   "execution_count": 92,
   "metadata": {},
   "outputs": [
    {
     "data": {
      "text/plain": [
       "['well', 'have', 'lots']"
      ]
     },
     "execution_count": 92,
     "metadata": {},
     "output_type": "execute_result"
    }
   ],
   "source": [
    "query = gensim.utils.simple_preprocess(query)\n",
    "query[:3]"
   ]
  },
  {
   "cell_type": "code",
   "execution_count": 93,
   "metadata": {},
   "outputs": [],
   "source": [
    "query = dictionary.doc2bow(query)"
   ]
  },
  {
   "cell_type": "code",
   "execution_count": 94,
   "metadata": {},
   "outputs": [],
   "source": [
    "query = lda[query]"
   ]
  },
  {
   "cell_type": "markdown",
   "metadata": {},
   "source": [
    "#### Topics in query document"
   ]
  },
  {
   "cell_type": "code",
   "execution_count": 95,
   "metadata": {},
   "outputs": [
    {
     "data": {
      "text/plain": [
       "[(1, 0.3583182),\n",
       " (7, 0.3494905),\n",
       " (6, 0.1866449),\n",
       " (9, 0.05416738),\n",
       " (8, 0.039437424)]"
      ]
     },
     "execution_count": 95,
     "metadata": {},
     "output_type": "execute_result"
    }
   ],
   "source": [
    "sorted(query, key=lambda x: -x[1])[:5]"
   ]
  },
  {
   "cell_type": "code",
   "execution_count": 96,
   "metadata": {},
   "outputs": [],
   "source": [
    "index = gensim.similarities.MatrixSimilarity(lda[corpus])"
   ]
  },
  {
   "cell_type": "code",
   "execution_count": 97,
   "metadata": {},
   "outputs": [],
   "source": [
    "sims = index[query]"
   ]
  },
  {
   "cell_type": "code",
   "execution_count": 98,
   "metadata": {},
   "outputs": [],
   "source": [
    "topics = [i for i, score in sorted(query, key=lambda x: -x[1])[:5]]"
   ]
  },
  {
   "cell_type": "code",
   "execution_count": 99,
   "metadata": {},
   "outputs": [
    {
     "data": {
      "text/plain": [
       "'0.010*\"like\" + 0.008*\"drive\" + 0.007*\"know\" + 0.005*\"ve\" + 0.005*\"new\" + 0.004*\"thanks\" + 0.004*\"think\" + 0.004*\"good\" + 0.004*\"ll\" + 0.004*\"got\"'"
      ]
     },
     "execution_count": 99,
     "metadata": {},
     "output_type": "execute_result"
    }
   ],
   "source": [
    "lda.print_topic(topics[0])"
   ]
  },
  {
   "cell_type": "markdown",
   "metadata": {},
   "source": [
    "#### Find similar documents"
   ]
  },
  {
   "cell_type": "code",
   "execution_count": 100,
   "metadata": {},
   "outputs": [
    {
     "data": {
      "text/plain": [
       "[(60, 0.99013793),\n",
       " (9747, 0.98868847),\n",
       " (6464, 0.98546094),\n",
       " (1645, 0.98302364),\n",
       " (2521, 0.9799195)]"
      ]
     },
     "execution_count": 100,
     "metadata": {},
     "output_type": "execute_result"
    }
   ],
   "source": [
    "hits = sorted(enumerate(sims), key=lambda x: -x[1])[:5]\n",
    "hits"
   ]
  },
  {
   "cell_type": "code",
   "execution_count": 101,
   "metadata": {},
   "outputs": [
    {
     "name": "stdout",
     "output_type": "stream",
     "text": [
      ":  \n",
      ": well, i have lots of experience with scanning in images and altering\n",
      ": them.  as for changing them back into negatives, is that really possible?\n",
      "\n",
      ": (stuff deleted)\n",
      "\n",
      ": jennifer urso:  the oh-so bitter woman of utter blahness(but cheerful\n",
      ": undertones)\n",
      "\n",
      "I use Aldus Photostyler on the PC and I can turn a colour or black and white\n",
      "image into a negative or turn a negative into a colour or black and white\n",
      "image.  I don't know how it does it but it works well.  To test it I scanned\n",
      "a negative and used Aldus to create a positive.  It looked better than the\n",
      "print that the film developers gave me.\n",
      "\n",
      "\n",
      "-- \n",
      "--------------------------------------------------------------------------------\n",
      "Hello netters:)  Does anyone out there know any FTP sites for projects,\n",
      "plans, etc of an electrical nature?  \n",
      "\n",
      "-Jason\n",
      "--------------------------------------------------------------------------------\n",
      "\n",
      "   Sean, the 68070 exists! :-)\n",
      "\n",
      "\n",
      "\n",
      "   Sean, I don't want to get into a 'mini-war' by what I am going to say,\n",
      "but I have to be a little bit skeptic about the performance you are\n",
      "claiming on the Centris, you'll see why (please, no-flames, I reserve\n",
      "those for c.s.m.a :-) )\n",
      "\n",
      "   I was in Chicago in the last consumer electronics show, and Apple had a\n",
      "booth there.  I walked by, and they were showing real-time video capture\n",
      "using a (Radious or SuperMac?) card to digitize and make right on the spot\n",
      "quicktime movies.  I think the quicktime they were using was the old one\n",
      "(1.5).\n",
      "\n",
      "   They digitized a guy talking there in 160x2xx something.  It played back quite\n",
      "nicely and in real time.  The guy then expanded the window (resized) to 25x by\n",
      "3xx (320 in y I think) and the frame rate decreased enough to notice that it\n",
      "wasn't 30fps (or about 30fps) anymore.  It dropped to like 15 fps.  Then he\n",
      "increased it just a bit more, and it dropped to 10<->12 fps. \n",
      "\n",
      "   Then I asked him what Mac he was using... He was using a Quadra (don't know\n",
      "what model, 900?) to do it, and he was telling the guys there that the Quicktime\n",
      "could play back at the same speed even on an LCII.\n",
      "\n",
      "   Well, I spoiled his claim so to say, since a 68040 Quadra Mac was having\n",
      "a little bit of trouble.  And this wasn't even from the hardisk!  This was\n",
      "from memory!\n",
      "\n",
      "   Could it be that you saw either a newer version of quicktime, or some\n",
      "hardware assisted Centris, or another software product running the \n",
      "animation (like supposedly MacroMind's Accelerator?)?\n",
      "\n",
      "   Don't misunderstand me, I just want to clarify this.\n",
      "\n",
      "   But for the sake of the posting about a computer doing it or not, I can\n",
      "claim 320x200 (a tad more with overscan) being done in 256,000+ colors in \n",
      "my computer (not from the hardisk) at 30fps with Scala MM210.\n",
      "\n",
      "   But I agree, if we consider MPEG stuff, I think a multimedia consumer\n",
      "low-priced box has a lot of market... I just think 3DO would make it, \n",
      "no longer CD-I.\n",
      "\n",
      "--------------------------------------------------------------------------------\n",
      "\n",
      "\n",
      "\n",
      "\n",
      "The F550iW is optimized for Windows.  It powers down when the screen\n",
      "blanker appears, it powers down with you turn your computer off, and it\n",
      "meets all of the Swedish standards.  It's also protected against  EMI from\n",
      "adjacent monitors. \n",
      "--------------------------------------------------------------------------------\n",
      "Ted Frank's list of underpaid players was this:\n",
      "\n",
      "What do all of these players have in common?  They do not qualify for \n",
      "arbitration.  They were never free agents.\n",
      "\n",
      "It's called the reserve clause.  Look it up.\n",
      "\n",
      "And a year from now we will whine about how several of these guys are way \n",
      "overpaid and getting outrageous raises in arb.  Humbug.\n",
      "--------------------------------------------------------------------------------\n",
      "\n",
      "   Oh yeah, I just read in another newsgroup that the T560i uses a\n",
      "   high quality Trinitron tube than is in most monitors.(the Sony\n",
      "   1604S for example) and this is where the extra cost comes from.  It\n",
      "   is also where the high bandwidth comes from, and the fantastic\n",
      "   image, and the large image size, etc, etc...\n",
      "\n",
      "It's also where the two annoying lines across the screen (one a third\n",
      "down, the other two thirds down) come from.\n",
      "\n"
     ]
    }
   ],
   "source": [
    "print(newsgroups_test.data[9])\n",
    "for match in [newsgroups_train.data[k] for k, score in hits]:\n",
    "    print('-'*80)\n",
    "    print(match)"
   ]
  }
 ],
 "metadata": {
  "kernelspec": {
   "display_name": "Python 3",
   "language": "python",
   "name": "python3"
  },
  "language_info": {
   "codemirror_mode": {
    "name": "ipython",
    "version": 3
   },
   "file_extension": ".py",
   "mimetype": "text/x-python",
   "name": "python",
   "nbconvert_exporter": "python",
   "pygments_lexer": "ipython3",
   "version": "3.8.5"
  }
 },
 "nbformat": 4,
 "nbformat_minor": 2
}
