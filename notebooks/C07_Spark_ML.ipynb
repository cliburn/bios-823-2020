{
 "cells": [
  {
   "cell_type": "markdown",
   "metadata": {
    "collapsed": true
   },
   "source": [
    "# Spark MLLib\n",
    "\n",
    "- [Official documentation](http://spark.apache.org/docs/latest/ml-guide.html)\n",
    "- [PySpark documentation](http://spark.apache.org/docs/latest/api/python/pyspark.ml.html)\n",
    "\n",
    "The MLLib library has two packages - `pyspark.mllib` which provides an RDD interface, and `pyspark.ml` which provides a DataFrame interface. we will focus only on the high-level interface.\n",
    "\n",
    "Topics:\n",
    "\n",
    "- Preparing a DataFrame for ML\n",
    "- Generating simple statistics\n",
    "- Splitting data\n",
    "- Preprocessing\n",
    "    - Feature extraction\n",
    "    - Imputation\n",
    "    - Transforms\n",
    "- Unsupervised learning\n",
    "- Supervised learning\n",
    "    - Hyperparameter optimization\n",
    "    - Using R formula\n",
    "    - Evaluation\n",
    "- Using pipelines"
   ]
  },
  {
   "cell_type": "markdown",
   "metadata": {},
   "source": [
    "### Set up Spark and Spark SQL contexts"
   ]
  },
  {
   "cell_type": "code",
   "execution_count": 1,
   "metadata": {},
   "outputs": [],
   "source": [
    "from pyspark.sql import SparkSession"
   ]
  },
  {
   "cell_type": "code",
   "execution_count": 2,
   "metadata": {},
   "outputs": [],
   "source": [
    "spark = (\n",
    "    SparkSession.builder \n",
    "    .master(\"local\") \n",
    "    .appName(\"BIOS-823\") \n",
    "    .config(\"spark.executor.cores\", 4) \n",
    "    .getOrCreate()    \n",
    ")"
   ]
  },
  {
   "cell_type": "markdown",
   "metadata": {},
   "source": [
    "## Preparing a DataFrame for ML\n",
    "\n",
    "Spark provides dense and sparse vectors and matrices mainly as data structures for ML, so even though they live in the `ml.linalg` module, the ability to manipulate them is very limited."
   ]
  },
  {
   "cell_type": "code",
   "execution_count": 3,
   "metadata": {},
   "outputs": [],
   "source": [
    "import numpy as np"
   ]
  },
  {
   "cell_type": "code",
   "execution_count": 4,
   "metadata": {},
   "outputs": [],
   "source": [
    "from pyspark.ml.linalg import Vectors"
   ]
  },
  {
   "cell_type": "markdown",
   "metadata": {},
   "source": [
    "### Vectors"
   ]
  },
  {
   "cell_type": "code",
   "execution_count": 5,
   "metadata": {},
   "outputs": [],
   "source": [
    "v1 = Vectors.dense(range(1,11))\n",
    "v2 = Vectors.dense(range(0, 10))"
   ]
  },
  {
   "cell_type": "code",
   "execution_count": 6,
   "metadata": {},
   "outputs": [
    {
     "data": {
      "text/plain": [
       "DenseVector([1.0, 2.0, 3.0, 4.0, 5.0, 6.0, 7.0, 8.0, 9.0, 10.0])"
      ]
     },
     "execution_count": 6,
     "metadata": {},
     "output_type": "execute_result"
    }
   ],
   "source": [
    "v1"
   ]
  },
  {
   "cell_type": "code",
   "execution_count": 7,
   "metadata": {},
   "outputs": [
    {
     "data": {
      "text/plain": [
       "DenseVector([0.0, 1.0, 2.0, 3.0, 4.0, 5.0, 6.0, 7.0, 8.0, 9.0])"
      ]
     },
     "execution_count": 7,
     "metadata": {},
     "output_type": "execute_result"
    }
   ],
   "source": [
    "v2"
   ]
  },
  {
   "cell_type": "markdown",
   "metadata": {},
   "source": [
    "#### To numpy array"
   ]
  },
  {
   "cell_type": "code",
   "execution_count": 8,
   "metadata": {},
   "outputs": [
    {
     "data": {
      "text/plain": [
       "array([ 1.,  2.,  3.,  4.,  5.,  6.,  7.,  8.,  9., 10.])"
      ]
     },
     "execution_count": 8,
     "metadata": {},
     "output_type": "execute_result"
    }
   ],
   "source": [
    "v1.array"
   ]
  },
  {
   "cell_type": "markdown",
   "metadata": {},
   "source": [
    "#### Simple vector operations"
   ]
  },
  {
   "cell_type": "code",
   "execution_count": 9,
   "metadata": {},
   "outputs": [
    {
     "data": {
      "text/plain": [
       "55.0"
      ]
     },
     "execution_count": 9,
     "metadata": {},
     "output_type": "execute_result"
    }
   ],
   "source": [
    "v1.norm(p=1)"
   ]
  },
  {
   "cell_type": "code",
   "execution_count": 10,
   "metadata": {},
   "outputs": [
    {
     "data": {
      "text/plain": [
       "55.0"
      ]
     },
     "execution_count": 10,
     "metadata": {},
     "output_type": "execute_result"
    }
   ],
   "source": [
    "v1.sum()"
   ]
  },
  {
   "cell_type": "code",
   "execution_count": 11,
   "metadata": {},
   "outputs": [
    {
     "data": {
      "text/plain": [
       "19.621416870348583"
      ]
     },
     "execution_count": 11,
     "metadata": {},
     "output_type": "execute_result"
    }
   ],
   "source": [
    "v1.norm(p=2)"
   ]
  },
  {
   "cell_type": "code",
   "execution_count": 12,
   "metadata": {},
   "outputs": [
    {
     "data": {
      "text/plain": [
       "19.621416870348583"
      ]
     },
     "execution_count": 12,
     "metadata": {},
     "output_type": "execute_result"
    }
   ],
   "source": [
    "np.sqrt((v1*v1).sum())"
   ]
  },
  {
   "cell_type": "code",
   "execution_count": 13,
   "metadata": {},
   "outputs": [
    {
     "data": {
      "text/plain": [
       "10.0"
      ]
     },
     "execution_count": 13,
     "metadata": {},
     "output_type": "execute_result"
    }
   ],
   "source": [
    "v1.squared_distance(v2)"
   ]
  },
  {
   "cell_type": "code",
   "execution_count": 14,
   "metadata": {},
   "outputs": [
    {
     "data": {
      "text/plain": [
       "10.0"
      ]
     },
     "execution_count": 14,
     "metadata": {},
     "output_type": "execute_result"
    }
   ],
   "source": [
    "((v1 - v2).array**2).sum()"
   ]
  },
  {
   "cell_type": "code",
   "execution_count": 15,
   "metadata": {},
   "outputs": [
    {
     "data": {
      "text/plain": [
       "330.0"
      ]
     },
     "execution_count": 15,
     "metadata": {},
     "output_type": "execute_result"
    }
   ],
   "source": [
    "v1.dot(v2)"
   ]
  },
  {
   "cell_type": "markdown",
   "metadata": {},
   "source": [
    "### Manual construction of an ML DaataFrame\n",
    "\n",
    "ML operations generally require a DataFrame with columns corresponding to a a label and features represented as a Vector."
   ]
  },
  {
   "cell_type": "code",
   "execution_count": 16,
   "metadata": {},
   "outputs": [],
   "source": [
    "data =[\n",
    "    (0.0, Vectors.dense([1,2,3])), \n",
    "    (1.0, Vectors.dense([2,3,4])),\n",
    "    (0.0, Vectors.dense([3,4,5])),\n",
    "    (1.0, Vectors.dense([2,2,2]))\n",
    "]\n",
    "\n",
    "df = spark.createDataFrame(data, ['label', 'features'])"
   ]
  },
  {
   "cell_type": "code",
   "execution_count": 17,
   "metadata": {},
   "outputs": [
    {
     "name": "stdout",
     "output_type": "stream",
     "text": [
      "+-----+-------------+\n",
      "|label|     features|\n",
      "+-----+-------------+\n",
      "|  0.0|[1.0,2.0,3.0]|\n",
      "|  1.0|[2.0,3.0,4.0]|\n",
      "|  0.0|[3.0,4.0,5.0]|\n",
      "|  1.0|[2.0,2.0,2.0]|\n",
      "+-----+-------------+\n",
      "\n"
     ]
    }
   ],
   "source": [
    "df.show()"
   ]
  },
  {
   "cell_type": "markdown",
   "metadata": {},
   "source": [
    "#### Converting to a standard DataFrame"
   ]
  },
  {
   "cell_type": "code",
   "execution_count": 18,
   "metadata": {},
   "outputs": [],
   "source": [
    "from pyspark.ml.functions import vector_to_array"
   ]
  },
  {
   "cell_type": "code",
   "execution_count": 19,
   "metadata": {},
   "outputs": [],
   "source": [
    "from pyspark.sql.functions import col"
   ]
  },
  {
   "cell_type": "code",
   "execution_count": 20,
   "metadata": {},
   "outputs": [
    {
     "name": "stdout",
     "output_type": "stream",
     "text": [
      "+-----+---------------+\n",
      "|label|  UDF(features)|\n",
      "+-----+---------------+\n",
      "|  0.0|[1.0, 2.0, 3.0]|\n",
      "|  1.0|[2.0, 3.0, 4.0]|\n",
      "|  0.0|[3.0, 4.0, 5.0]|\n",
      "|  1.0|[2.0, 2.0, 2.0]|\n",
      "+-----+---------------+\n",
      "\n"
     ]
    }
   ],
   "source": [
    "df.select('label', vector_to_array('features')).show()"
   ]
  },
  {
   "cell_type": "code",
   "execution_count": 21,
   "metadata": {},
   "outputs": [
    {
     "name": "stdout",
     "output_type": "stream",
     "text": [
      "+-----+-------------+---------------+\n",
      "|label|     features|             xs|\n",
      "+-----+-------------+---------------+\n",
      "|  0.0|[1.0,2.0,3.0]|[1.0, 2.0, 3.0]|\n",
      "|  1.0|[2.0,3.0,4.0]|[2.0, 3.0, 4.0]|\n",
      "|  0.0|[3.0,4.0,5.0]|[3.0, 4.0, 5.0]|\n",
      "|  1.0|[2.0,2.0,2.0]|[2.0, 2.0, 2.0]|\n",
      "+-----+-------------+---------------+\n",
      "\n"
     ]
    }
   ],
   "source": [
    "df.withColumn(\"xs\", vector_to_array(\"features\")).show()"
   ]
  },
  {
   "cell_type": "code",
   "execution_count": 22,
   "metadata": {},
   "outputs": [
    {
     "data": {
      "text/plain": [
       "[('label', 'double'), ('features', 'vector'), ('xs', 'array<double>')]"
      ]
     },
     "execution_count": 22,
     "metadata": {},
     "output_type": "execute_result"
    }
   ],
   "source": [
    "df.withColumn(\"xs\", vector_to_array(\"features\")).dtypes"
   ]
  },
  {
   "cell_type": "code",
   "execution_count": 23,
   "metadata": {
    "scrolled": true
   },
   "outputs": [
    {
     "name": "stdout",
     "output_type": "stream",
     "text": [
      "+-----+-----+-----+-----+\n",
      "|label|xs[0]|xs[1]|xs[2]|\n",
      "+-----+-----+-----+-----+\n",
      "|  0.0|  1.0|  2.0|  3.0|\n",
      "|  1.0|  2.0|  3.0|  4.0|\n",
      "|  0.0|  3.0|  4.0|  5.0|\n",
      "|  1.0|  2.0|  2.0|  2.0|\n",
      "+-----+-----+-----+-----+\n",
      "\n"
     ]
    }
   ],
   "source": [
    "(\n",
    "    df.\n",
    "    withColumn(\"xs\", vector_to_array(\"features\")).\n",
    "    select([\"label\"] + [col(\"xs\")[i] for i in range(3)])\n",
    ").show()"
   ]
  },
  {
   "cell_type": "markdown",
   "metadata": {},
   "source": [
    "### Using VectorAssembler"
   ]
  },
  {
   "cell_type": "code",
   "execution_count": 24,
   "metadata": {},
   "outputs": [],
   "source": [
    "from pyspark.ml.feature import VectorAssembler"
   ]
  },
  {
   "cell_type": "code",
   "execution_count": 25,
   "metadata": {},
   "outputs": [],
   "source": [
    "import pandas as pd"
   ]
  },
  {
   "cell_type": "code",
   "execution_count": 26,
   "metadata": {},
   "outputs": [],
   "source": [
    "url = 'https://bit.ly/3eoBK6t'\n",
    "pdf = pd.read_csv(url)"
   ]
  },
  {
   "cell_type": "code",
   "execution_count": 27,
   "metadata": {},
   "outputs": [
    {
     "data": {
      "text/html": [
       "<div>\n",
       "<style scoped>\n",
       "    .dataframe tbody tr th:only-of-type {\n",
       "        vertical-align: middle;\n",
       "    }\n",
       "\n",
       "    .dataframe tbody tr th {\n",
       "        vertical-align: top;\n",
       "    }\n",
       "\n",
       "    .dataframe thead th {\n",
       "        text-align: right;\n",
       "    }\n",
       "</style>\n",
       "<table border=\"1\" class=\"dataframe\">\n",
       "  <thead>\n",
       "    <tr style=\"text-align: right;\">\n",
       "      <th></th>\n",
       "      <th>sepal_length</th>\n",
       "      <th>sepal_width</th>\n",
       "      <th>petal_length</th>\n",
       "      <th>petal_width</th>\n",
       "      <th>species</th>\n",
       "    </tr>\n",
       "  </thead>\n",
       "  <tbody>\n",
       "    <tr>\n",
       "      <th>0</th>\n",
       "      <td>5.1</td>\n",
       "      <td>3.5</td>\n",
       "      <td>1.4</td>\n",
       "      <td>0.2</td>\n",
       "      <td>setosa</td>\n",
       "    </tr>\n",
       "    <tr>\n",
       "      <th>1</th>\n",
       "      <td>4.9</td>\n",
       "      <td>3.0</td>\n",
       "      <td>1.4</td>\n",
       "      <td>0.2</td>\n",
       "      <td>setosa</td>\n",
       "    </tr>\n",
       "    <tr>\n",
       "      <th>2</th>\n",
       "      <td>4.7</td>\n",
       "      <td>3.2</td>\n",
       "      <td>1.3</td>\n",
       "      <td>0.2</td>\n",
       "      <td>setosa</td>\n",
       "    </tr>\n",
       "  </tbody>\n",
       "</table>\n",
       "</div>"
      ],
      "text/plain": [
       "   sepal_length  sepal_width  petal_length  petal_width species\n",
       "0           5.1          3.5           1.4          0.2  setosa\n",
       "1           4.9          3.0           1.4          0.2  setosa\n",
       "2           4.7          3.2           1.3          0.2  setosa"
      ]
     },
     "execution_count": 27,
     "metadata": {},
     "output_type": "execute_result"
    }
   ],
   "source": [
    "pdf.head(3)"
   ]
  },
  {
   "cell_type": "code",
   "execution_count": 28,
   "metadata": {},
   "outputs": [],
   "source": [
    "iris = spark.createDataFrame(pdf)"
   ]
  },
  {
   "cell_type": "code",
   "execution_count": 29,
   "metadata": {},
   "outputs": [
    {
     "name": "stdout",
     "output_type": "stream",
     "text": [
      "+------------+-----------+------------+-----------+-------+\n",
      "|sepal_length|sepal_width|petal_length|petal_width|species|\n",
      "+------------+-----------+------------+-----------+-------+\n",
      "|         5.1|        3.5|         1.4|        0.2| setosa|\n",
      "|         4.9|        3.0|         1.4|        0.2| setosa|\n",
      "|         4.7|        3.2|         1.3|        0.2| setosa|\n",
      "+------------+-----------+------------+-----------+-------+\n",
      "only showing top 3 rows\n",
      "\n"
     ]
    }
   ],
   "source": [
    "iris.show(3)"
   ]
  },
  {
   "cell_type": "code",
   "execution_count": 30,
   "metadata": {},
   "outputs": [
    {
     "data": {
      "text/plain": [
       "['sepal_length', 'sepal_width', 'petal_length', 'petal_width']"
      ]
     },
     "execution_count": 30,
     "metadata": {},
     "output_type": "execute_result"
    }
   ],
   "source": [
    "iris.columns[:-1]"
   ]
  },
  {
   "cell_type": "code",
   "execution_count": 31,
   "metadata": {},
   "outputs": [],
   "source": [
    "assembler = VectorAssembler(\n",
    "    inputCols=iris.columns[:-1],\n",
    "    outputCol='raw_features')\n",
    "df = assembler.transform(iris)"
   ]
  },
  {
   "cell_type": "code",
   "execution_count": 32,
   "metadata": {},
   "outputs": [
    {
     "name": "stdout",
     "output_type": "stream",
     "text": [
      "+------------+-----------+------------+-----------+-------+-----------------+\n",
      "|sepal_length|sepal_width|petal_length|petal_width|species|     raw_features|\n",
      "+------------+-----------+------------+-----------+-------+-----------------+\n",
      "|         5.1|        3.5|         1.4|        0.2| setosa|[5.1,3.5,1.4,0.2]|\n",
      "|         4.9|        3.0|         1.4|        0.2| setosa|[4.9,3.0,1.4,0.2]|\n",
      "|         4.7|        3.2|         1.3|        0.2| setosa|[4.7,3.2,1.3,0.2]|\n",
      "+------------+-----------+------------+-----------+-------+-----------------+\n",
      "only showing top 3 rows\n",
      "\n"
     ]
    }
   ],
   "source": [
    "df.show(3)"
   ]
  },
  {
   "cell_type": "markdown",
   "metadata": {},
   "source": [
    "### Generating simple statistics"
   ]
  },
  {
   "cell_type": "code",
   "execution_count": 33,
   "metadata": {},
   "outputs": [],
   "source": [
    "import pyspark.ml.stat as stat "
   ]
  },
  {
   "cell_type": "code",
   "execution_count": 34,
   "metadata": {},
   "outputs": [
    {
     "name": "stdout",
     "output_type": "stream",
     "text": [
      "+--------------------+\n",
      "|  mean(raw_features)|\n",
      "+--------------------+\n",
      "|[5.84333333333333...|\n",
      "+--------------------+\n",
      "\n"
     ]
    }
   ],
   "source": [
    "df.select(stat.Summarizer.mean(col('raw_features'))).show()"
   ]
  },
  {
   "cell_type": "code",
   "execution_count": 35,
   "metadata": {
    "scrolled": true
   },
   "outputs": [
    {
     "name": "stdout",
     "output_type": "stream",
     "text": [
      "+---------------------------------------------------------------------------------------------------------------------------------------------------------------------------------------------------+\n",
      "|aggregate_metrics(raw_features, 1.0)                                                                                                                                                               |\n",
      "+---------------------------------------------------------------------------------------------------------------------------------------------------------------------------------------------------+\n",
      "|[[0.8280661279778628,0.43359431136217363,1.7644204199522624,0.7631607417008414], [4.3,2.0,1.0,0.1], [7.9,4.4,6.9,2.5], [5.843333333333335,3.0540000000000003,3.758666666666667,1.1986666666666668]]|\n",
      "+---------------------------------------------------------------------------------------------------------------------------------------------------------------------------------------------------+\n",
      "\n"
     ]
    }
   ],
   "source": [
    "(\n",
    "    df.select(\n",
    "        stat.Summarizer.metrics('std', 'min', 'max', 'mean').\n",
    "        summary(col('raw_features'))).\n",
    "    show(truncate=False)\n",
    ")"
   ]
  },
  {
   "cell_type": "markdown",
   "metadata": {},
   "source": [
    "### Split data"
   ]
  },
  {
   "cell_type": "code",
   "execution_count": 36,
   "metadata": {},
   "outputs": [],
   "source": [
    "train_data, test_data = df.randomSplit(weights=[2.,1.], seed=0)"
   ]
  },
  {
   "cell_type": "code",
   "execution_count": 37,
   "metadata": {},
   "outputs": [
    {
     "data": {
      "text/plain": [
       "(98, 52)"
      ]
     },
     "execution_count": 37,
     "metadata": {},
     "output_type": "execute_result"
    }
   ],
   "source": [
    "train_data.count(), test_data.count()"
   ]
  },
  {
   "cell_type": "code",
   "execution_count": 38,
   "metadata": {},
   "outputs": [
    {
     "name": "stdout",
     "output_type": "stream",
     "text": [
      "+------------+-----------+------------+-----------+----------+-----------------+\n",
      "|sepal_length|sepal_width|petal_length|petal_width|   species|     raw_features|\n",
      "+------------+-----------+------------+-----------+----------+-----------------+\n",
      "|         5.7|        4.4|         1.5|        0.4|    setosa|[5.7,4.4,1.5,0.4]|\n",
      "|         5.4|        3.4|         1.5|        0.4|    setosa|[5.4,3.4,1.5,0.4]|\n",
      "|         5.9|        3.0|         4.2|        1.5|versicolor|[5.9,3.0,4.2,1.5]|\n",
      "|         6.1|        2.8|         4.0|        1.3|versicolor|[6.1,2.8,4.0,1.3]|\n",
      "|         6.1|        2.9|         4.7|        1.4|versicolor|[6.1,2.9,4.7,1.4]|\n",
      "|         6.2|        2.2|         4.5|        1.5|versicolor|[6.2,2.2,4.5,1.5]|\n",
      "|         6.7|        3.1|         4.4|        1.4|versicolor|[6.7,3.1,4.4,1.4]|\n",
      "|         6.7|        3.0|         5.0|        1.7|versicolor|[6.7,3.0,5.0,1.7]|\n",
      "|         5.7|        2.8|         4.1|        1.3|versicolor|[5.7,2.8,4.1,1.3]|\n",
      "|         6.7|        3.3|         5.7|        2.1| virginica|[6.7,3.3,5.7,2.1]|\n",
      "+------------+-----------+------------+-----------+----------+-----------------+\n",
      "\n"
     ]
    }
   ],
   "source": [
    "train_data.sample(0.1).show()"
   ]
  },
  {
   "cell_type": "code",
   "execution_count": 39,
   "metadata": {},
   "outputs": [
    {
     "name": "stdout",
     "output_type": "stream",
     "text": [
      "+------------+-----------+------------+-----------+----------+-----------------+\n",
      "|sepal_length|sepal_width|petal_length|petal_width|   species|     raw_features|\n",
      "+------------+-----------+------------+-----------+----------+-----------------+\n",
      "|         5.0|        3.0|         1.6|        0.2|    setosa|[5.0,3.0,1.6,0.2]|\n",
      "|         5.0|        3.5|         1.3|        0.3|    setosa|[5.0,3.5,1.3,0.3]|\n",
      "|         5.0|        3.5|         1.6|        0.6|    setosa|[5.0,3.5,1.6,0.6]|\n",
      "|         4.9|        2.4|         3.3|        1.0|versicolor|[4.9,2.4,3.3,1.0]|\n",
      "|         5.6|        3.0|         4.1|        1.3|versicolor|[5.6,3.0,4.1,1.3]|\n",
      "|         5.7|        2.5|         5.0|        2.0| virginica|[5.7,2.5,5.0,2.0]|\n",
      "+------------+-----------+------------+-----------+----------+-----------------+\n",
      "\n"
     ]
    }
   ],
   "source": [
    "test_data.sample(0.1).show()"
   ]
  },
  {
   "cell_type": "code",
   "execution_count": 40,
   "metadata": {},
   "outputs": [],
   "source": [
    "train_data = train_data.persist()"
   ]
  },
  {
   "cell_type": "markdown",
   "metadata": {},
   "source": [
    "## Processing data"
   ]
  },
  {
   "cell_type": "markdown",
   "metadata": {},
   "source": [
    "### Encoding categorical features"
   ]
  },
  {
   "cell_type": "code",
   "execution_count": 41,
   "metadata": {},
   "outputs": [],
   "source": [
    "from pyspark.ml.feature import StringIndexer"
   ]
  },
  {
   "cell_type": "code",
   "execution_count": 42,
   "metadata": {},
   "outputs": [],
   "source": [
    "indexer = StringIndexer(inputCol='species', outputCol='label')"
   ]
  },
  {
   "cell_type": "code",
   "execution_count": 43,
   "metadata": {},
   "outputs": [],
   "source": [
    "indexer = indexer.fit(train_data)"
   ]
  },
  {
   "cell_type": "code",
   "execution_count": 44,
   "metadata": {},
   "outputs": [],
   "source": [
    "train_df = indexer.transform(train_data)\n",
    "test_df = indexer.transform(test_data)"
   ]
  },
  {
   "cell_type": "code",
   "execution_count": 45,
   "metadata": {
    "scrolled": true
   },
   "outputs": [
    {
     "name": "stdout",
     "output_type": "stream",
     "text": [
      "+------------+-----------+------------+-----------+----------+-----------------+-----+\n",
      "|sepal_length|sepal_width|petal_length|petal_width|   species|     raw_features|label|\n",
      "+------------+-----------+------------+-----------+----------+-----------------+-----+\n",
      "|         5.0|        2.0|         3.5|        1.0|versicolor|[5.0,2.0,3.5,1.0]|  1.0|\n",
      "|         6.1|        2.9|         4.7|        1.4|versicolor|[6.1,2.9,4.7,1.4]|  1.0|\n",
      "|         5.5|        2.4|         3.7|        1.0|versicolor|[5.5,2.4,3.7,1.0]|  1.0|\n",
      "|         5.4|        3.0|         4.5|        1.5|versicolor|[5.4,3.0,4.5,1.5]|  1.0|\n",
      "|         7.3|        2.9|         6.3|        1.8| virginica|[7.3,2.9,6.3,1.8]|  2.0|\n",
      "|         5.8|        2.8|         5.1|        2.4| virginica|[5.8,2.8,5.1,2.4]|  2.0|\n",
      "|         6.0|        2.2|         5.0|        1.5| virginica|[6.0,2.2,5.0,1.5]|  2.0|\n",
      "|         7.9|        3.8|         6.4|        2.0| virginica|[7.9,3.8,6.4,2.0]|  2.0|\n",
      "|         5.9|        3.0|         5.1|        1.8| virginica|[5.9,3.0,5.1,1.8]|  2.0|\n",
      "+------------+-----------+------------+-----------+----------+-----------------+-----+\n",
      "\n"
     ]
    }
   ],
   "source": [
    "train_df.sample(0.1).show()"
   ]
  },
  {
   "cell_type": "markdown",
   "metadata": {},
   "source": [
    "### Scaling"
   ]
  },
  {
   "cell_type": "code",
   "execution_count": 46,
   "metadata": {},
   "outputs": [],
   "source": [
    "from pyspark.ml.feature import StandardScaler"
   ]
  },
  {
   "cell_type": "code",
   "execution_count": 47,
   "metadata": {},
   "outputs": [],
   "source": [
    "scaler = StandardScaler(withMean=True,\n",
    "                        withStd=True,\n",
    "                        inputCol='raw_features',\n",
    "                        outputCol='features')"
   ]
  },
  {
   "cell_type": "code",
   "execution_count": 48,
   "metadata": {},
   "outputs": [],
   "source": [
    "scaler = scaler.fit(train_df)"
   ]
  },
  {
   "cell_type": "code",
   "execution_count": 49,
   "metadata": {},
   "outputs": [],
   "source": [
    "train_df_scaled = scaler.transform(train_df)\n",
    "test_df_scaled = scaler.transform(test_df)"
   ]
  },
  {
   "cell_type": "code",
   "execution_count": 50,
   "metadata": {},
   "outputs": [
    {
     "name": "stdout",
     "output_type": "stream",
     "text": [
      "+---------------------------------------------------------------------------------+---------------------------------------------------------------------------------+\n",
      "|features                                                                         |features                                                                         |\n",
      "+---------------------------------------------------------------------------------+---------------------------------------------------------------------------------+\n",
      "|[-1.5213158492369616,0.00692241917037384,-1.2132855899947563,-1.22045281288949]  |[-1.5213158492369616,0.00692241917037384,-1.2132855899947563,-1.22045281288949]  |\n",
      "|[-1.5213158492369616,0.6853194978669278,-1.2714283713245784,-1.0882932817699649] |[-1.5213158492369616,0.6853194978669278,-1.2714283713245784,-1.0882932817699649] |\n",
      "|[-1.390075573510533,0.23305477873589214,-1.3295711526544005,-1.22045281288949]   |[-1.390075573510533,0.23305477873589214,-1.3295711526544005,-1.22045281288949]   |\n",
      "|[-1.1275950220576765,-0.21920994039514446,-1.2714283713245784,-1.22045281288949] |[-1.1275950220576765,-0.21920994039514446,-1.2714283713245784,-1.22045281288949] |\n",
      "|[-1.1275950220576765,0.00692241917037384,-1.2132855899947563,-1.3526123440090148]|[-1.1275950220576765,0.00692241917037384,-1.2132855899947563,-1.3526123440090148]|\n",
      "+---------------------------------------------------------------------------------+---------------------------------------------------------------------------------+\n",
      "only showing top 5 rows\n",
      "\n"
     ]
    }
   ],
   "source": [
    "train_df_scaled.select('features', 'features').show(5, truncate=False)"
   ]
  },
  {
   "cell_type": "markdown",
   "metadata": {},
   "source": [
    "## Unsupervised learning"
   ]
  },
  {
   "cell_type": "markdown",
   "metadata": {},
   "source": [
    "### Dimension reduction"
   ]
  },
  {
   "cell_type": "code",
   "execution_count": 51,
   "metadata": {},
   "outputs": [],
   "source": [
    "from pyspark.ml.feature import PCA"
   ]
  },
  {
   "cell_type": "code",
   "execution_count": 52,
   "metadata": {},
   "outputs": [],
   "source": [
    "pca = PCA(k=2, inputCol='features', outputCol='pc').fit(train_df_scaled)"
   ]
  },
  {
   "cell_type": "code",
   "execution_count": 53,
   "metadata": {},
   "outputs": [],
   "source": [
    "train_df_scaled = pca.transform(train_df_scaled)"
   ]
  },
  {
   "cell_type": "code",
   "execution_count": 54,
   "metadata": {},
   "outputs": [
    {
     "name": "stdout",
     "output_type": "stream",
     "text": [
      "+---------------------------------------+\n",
      "|pc                                     |\n",
      "+---------------------------------------+\n",
      "|[2.1719561815281763,0.7342240484007614]|\n",
      "|[2.325768434882429,0.11499107410380782]|\n",
      "|[2.2379887825335114,0.4753763677684271]|\n",
      "|[1.9410238356438352,0.7700780683206436]|\n",
      "|[2.046967548842131,0.5739261085291687] |\n",
      "+---------------------------------------+\n",
      "only showing top 5 rows\n",
      "\n"
     ]
    }
   ],
   "source": [
    "train_df_scaled.select('pc').show(5, truncate=False)"
   ]
  },
  {
   "cell_type": "code",
   "execution_count": 55,
   "metadata": {},
   "outputs": [],
   "source": [
    "import matplotlib.pyplot as plt"
   ]
  },
  {
   "cell_type": "code",
   "execution_count": 56,
   "metadata": {},
   "outputs": [],
   "source": [
    "pdf = (\n",
    "    train_df_scaled.select('label', 'pc').\n",
    "    withColumn(\"pc\", vector_to_array(\"pc\")).\n",
    "    select([\"label\"] + [col(\"pc\")[i] for i in range(2)])\n",
    ").toPandas()"
   ]
  },
  {
   "cell_type": "code",
   "execution_count": 57,
   "metadata": {},
   "outputs": [
    {
     "data": {
      "text/html": [
       "<div>\n",
       "<style scoped>\n",
       "    .dataframe tbody tr th:only-of-type {\n",
       "        vertical-align: middle;\n",
       "    }\n",
       "\n",
       "    .dataframe tbody tr th {\n",
       "        vertical-align: top;\n",
       "    }\n",
       "\n",
       "    .dataframe thead th {\n",
       "        text-align: right;\n",
       "    }\n",
       "</style>\n",
       "<table border=\"1\" class=\"dataframe\">\n",
       "  <thead>\n",
       "    <tr style=\"text-align: right;\">\n",
       "      <th></th>\n",
       "      <th>label</th>\n",
       "      <th>pc[0]</th>\n",
       "      <th>pc[1]</th>\n",
       "    </tr>\n",
       "  </thead>\n",
       "  <tbody>\n",
       "    <tr>\n",
       "      <th>0</th>\n",
       "      <td>0.0</td>\n",
       "      <td>2.171956</td>\n",
       "      <td>0.734224</td>\n",
       "    </tr>\n",
       "    <tr>\n",
       "      <th>1</th>\n",
       "      <td>0.0</td>\n",
       "      <td>2.325768</td>\n",
       "      <td>0.114991</td>\n",
       "    </tr>\n",
       "    <tr>\n",
       "      <th>2</th>\n",
       "      <td>0.0</td>\n",
       "      <td>2.237989</td>\n",
       "      <td>0.475376</td>\n",
       "    </tr>\n",
       "  </tbody>\n",
       "</table>\n",
       "</div>"
      ],
      "text/plain": [
       "   label     pc[0]     pc[1]\n",
       "0    0.0  2.171956  0.734224\n",
       "1    0.0  2.325768  0.114991\n",
       "2    0.0  2.237989  0.475376"
      ]
     },
     "execution_count": 57,
     "metadata": {},
     "output_type": "execute_result"
    }
   ],
   "source": [
    "pdf.head(3)"
   ]
  },
  {
   "cell_type": "code",
   "execution_count": 58,
   "metadata": {},
   "outputs": [
    {
     "data": {
      "image/png": "[encoded data removed]",
      "text/plain": [
       "<Figure size 432x288 with 1 Axes>"
      ]
     },
     "metadata": {
      "needs_background": "light"
     },
     "output_type": "display_data"
    }
   ],
   "source": [
    "plt.scatter(pdf.iloc[:, 1], pdf.iloc[:, 2], c=pdf.iloc[:, 0])\n",
    "plt.xlabel('PC1')\n",
    "plt.ylabel('PC2')\n",
    "plt.tight_layout()"
   ]
  },
  {
   "cell_type": "markdown",
   "metadata": {},
   "source": [
    "### Clustering"
   ]
  },
  {
   "cell_type": "code",
   "execution_count": 59,
   "metadata": {},
   "outputs": [],
   "source": [
    "from pyspark.ml.clustering import GaussianMixture"
   ]
  },
  {
   "cell_type": "code",
   "execution_count": 60,
   "metadata": {},
   "outputs": [],
   "source": [
    "gmm = GaussianMixture(\n",
    "    featuresCol='features',\n",
    "    k=3, \n",
    "    seed=0)"
   ]
  },
  {
   "cell_type": "code",
   "execution_count": 61,
   "metadata": {},
   "outputs": [],
   "source": [
    "gmm = gmm.fit(train_df_scaled)"
   ]
  },
  {
   "cell_type": "code",
   "execution_count": 62,
   "metadata": {},
   "outputs": [
    {
     "data": {
      "text/html": [
       "<div>\n",
       "<style scoped>\n",
       "    .dataframe tbody tr th:only-of-type {\n",
       "        vertical-align: middle;\n",
       "    }\n",
       "\n",
       "    .dataframe tbody tr th {\n",
       "        vertical-align: top;\n",
       "    }\n",
       "\n",
       "    .dataframe thead th {\n",
       "        text-align: right;\n",
       "    }\n",
       "</style>\n",
       "<table border=\"1\" class=\"dataframe\">\n",
       "  <thead>\n",
       "    <tr style=\"text-align: right;\">\n",
       "      <th></th>\n",
       "      <th>mean</th>\n",
       "      <th>cov</th>\n",
       "    </tr>\n",
       "  </thead>\n",
       "  <tbody>\n",
       "    <tr>\n",
       "      <th>0</th>\n",
       "      <td>[-0.9380257346418973, 0.8046671327476245, -1.2...</td>\n",
       "      <td>DenseMatrix([[0.2166823 , 0.29970786, 0.013235...</td>\n",
       "    </tr>\n",
       "    <tr>\n",
       "      <th>1</th>\n",
       "      <td>[0.005938775919945028, -0.5221004264901147, 0....</td>\n",
       "      <td>DenseMatrix([[ 0.10356088, -0.0849359 ,  0.056...</td>\n",
       "    </tr>\n",
       "    <tr>\n",
       "      <th>2</th>\n",
       "      <td>[0.6061006081018865, -0.4609677242002641, 0.72...</td>\n",
       "      <td>DenseMatrix([[0.65443637, 0.40398667, 0.255851...</td>\n",
       "    </tr>\n",
       "  </tbody>\n",
       "</table>\n",
       "</div>"
      ],
      "text/plain": [
       "                                                mean  \\\n",
       "0  [-0.9380257346418973, 0.8046671327476245, -1.2...   \n",
       "1  [0.005938775919945028, -0.5221004264901147, 0....   \n",
       "2  [0.6061006081018865, -0.4609677242002641, 0.72...   \n",
       "\n",
       "                                                 cov  \n",
       "0  DenseMatrix([[0.2166823 , 0.29970786, 0.013235...  \n",
       "1  DenseMatrix([[ 0.10356088, -0.0849359 ,  0.056...  \n",
       "2  DenseMatrix([[0.65443637, 0.40398667, 0.255851...  "
      ]
     },
     "execution_count": 62,
     "metadata": {},
     "output_type": "execute_result"
    }
   ],
   "source": [
    "gmm.gaussiansDF.toPandas()"
   ]
  },
  {
   "cell_type": "code",
   "execution_count": 63,
   "metadata": {},
   "outputs": [],
   "source": [
    "train_df_scaled = gmm.transform(train_df_scaled)"
   ]
  },
  {
   "cell_type": "code",
   "execution_count": 64,
   "metadata": {},
   "outputs": [
    {
     "name": "stdout",
     "output_type": "stream",
     "text": [
      "+--------------------+-----+--------------------+----------+\n",
      "|            features|label|         probability|prediction|\n",
      "+--------------------+-----+--------------------+----------+\n",
      "|[-0.9963547463312...|  0.0|[0.99999999999615...|         0|\n",
      "|[-0.0776728162462...|  0.0|[0.99999999999999...|         0|\n",
      "|[-0.9963547463312...|  0.0|[0.99999999995404...|         0|\n",
      "|[0.44728828665945...|  1.0|[1.17415562661057...|         2|\n",
      "+--------------------+-----+--------------------+----------+\n",
      "\n"
     ]
    }
   ],
   "source": [
    "train_df_scaled.select('features', 'label', 'probability', 'prediction').sample(0.1).show()"
   ]
  },
  {
   "cell_type": "markdown",
   "metadata": {},
   "source": [
    "## Supervised Learning"
   ]
  },
  {
   "cell_type": "code",
   "execution_count": 65,
   "metadata": {},
   "outputs": [],
   "source": [
    "train_df_scaled = train_df_scaled.select('features', 'label')"
   ]
  },
  {
   "cell_type": "code",
   "execution_count": 66,
   "metadata": {},
   "outputs": [],
   "source": [
    "test_df_scaled = test_df_scaled.select('features', 'label')"
   ]
  },
  {
   "cell_type": "code",
   "execution_count": 67,
   "metadata": {},
   "outputs": [],
   "source": [
    "from pyspark.ml.classification import RandomForestClassifier"
   ]
  },
  {
   "cell_type": "code",
   "execution_count": 68,
   "metadata": {},
   "outputs": [],
   "source": [
    "rf = RandomForestClassifier(\n",
    "    numTrees=10,\n",
    "    maxDepth=3,\n",
    "    seed=0\n",
    ")"
   ]
  },
  {
   "cell_type": "code",
   "execution_count": 69,
   "metadata": {},
   "outputs": [],
   "source": [
    "rf = rf.fit(train_df_scaled)"
   ]
  },
  {
   "cell_type": "code",
   "execution_count": 70,
   "metadata": {},
   "outputs": [],
   "source": [
    "test_df_scaled = rf.transform(test_df_scaled)"
   ]
  },
  {
   "cell_type": "code",
   "execution_count": 71,
   "metadata": {},
   "outputs": [
    {
     "name": "stdout",
     "output_type": "stream",
     "text": [
      "+--------------------+-----+--------------+-------------+----------+\n",
      "|            features|label| rawPrediction|  probability|prediction|\n",
      "+--------------------+-----+--------------+-------------+----------+\n",
      "|[-0.8651144706048...|  0.0|[10.0,0.0,0.0]|[1.0,0.0,0.0]|       0.0|\n",
      "|[-1.5213158492369...|  0.0|[10.0,0.0,0.0]|[1.0,0.0,0.0]|       0.0|\n",
      "+--------------------+-----+--------------+-------------+----------+\n",
      "\n"
     ]
    }
   ],
   "source": [
    "test_df_scaled.sample(0.1).show()"
   ]
  },
  {
   "cell_type": "markdown",
   "metadata": {},
   "source": [
    "### Model evaluation"
   ]
  },
  {
   "cell_type": "code",
   "execution_count": 72,
   "metadata": {},
   "outputs": [],
   "source": [
    "from pyspark.ml.evaluation import MulticlassClassificationEvaluator"
   ]
  },
  {
   "cell_type": "code",
   "execution_count": 73,
   "metadata": {},
   "outputs": [],
   "source": [
    "evaluator = MulticlassClassificationEvaluator()"
   ]
  },
  {
   "cell_type": "markdown",
   "metadata": {},
   "source": [
    "#### Default is f1 score"
   ]
  },
  {
   "cell_type": "code",
   "execution_count": 74,
   "metadata": {},
   "outputs": [
    {
     "data": {
      "text/plain": [
       "0.9618662587412588"
      ]
     },
     "execution_count": 74,
     "metadata": {},
     "output_type": "execute_result"
    }
   ],
   "source": [
    "evaluator.evaluate(test_df_scaled)"
   ]
  },
  {
   "cell_type": "code",
   "execution_count": 75,
   "metadata": {},
   "outputs": [],
   "source": [
    "evaluator = evaluator.setMetricName('accuracy')"
   ]
  },
  {
   "cell_type": "code",
   "execution_count": 76,
   "metadata": {},
   "outputs": [
    {
     "data": {
      "text/plain": [
       "0.9615384615384616"
      ]
     },
     "execution_count": 76,
     "metadata": {},
     "output_type": "execute_result"
    }
   ],
   "source": [
    "evaluator.evaluate(test_df_scaled)"
   ]
  },
  {
   "cell_type": "markdown",
   "metadata": {},
   "source": [
    "### Pipelines\n",
    "\n",
    "We can assemble pipeline for convenience and reproducibility. This is very similar to what you would do with `sklearn`, except that MLLib allows you to handle massive datasets by distributing the analysis to multiple computers.\n",
    "\n",
    "We will put all the preceding steps into the pipeline, and also add hyperparameter optimization via cross-validation."
   ]
  },
  {
   "cell_type": "code",
   "execution_count": 77,
   "metadata": {},
   "outputs": [],
   "source": [
    "from pyspark.ml import Pipeline"
   ]
  },
  {
   "cell_type": "code",
   "execution_count": 78,
   "metadata": {},
   "outputs": [],
   "source": [
    "from pyspark.ml.tuning import CrossValidator, ParamGridBuilder"
   ]
  },
  {
   "cell_type": "code",
   "execution_count": 79,
   "metadata": {},
   "outputs": [],
   "source": [
    "assembler = VectorAssembler(\n",
    "    inputCols=iris.columns[:-1],\n",
    "    outputCol='raw_features'\n",
    ")\n",
    "scaler = StandardScaler(\n",
    "    withMean=True, \n",
    "    withStd=True, \n",
    "    inputCol='raw_features', \n",
    "    outputCol='features'\n",
    ")\n",
    "indexer = StringIndexer(\n",
    "    inputCol=\"species\", \n",
    "    outputCol=\"label\"\n",
    ")\n",
    "rf = RandomForestClassifier()\n",
    "params = (\n",
    "    ParamGridBuilder().\n",
    "    addGrid(rf.numTrees, [5,10,25]).\n",
    "    addGrid(rf.maxDepth, [3,4,5]).\n",
    "    build()\n",
    ")\n",
    "evaluator = MulticlassClassificationEvaluator(\n",
    "    metricName='accuracy'\n",
    ")\n",
    "cv = CrossValidator(\n",
    "    estimator=rf,\n",
    "    evaluator=evaluator,\n",
    "    estimatorParamMaps=params,\n",
    "    numFolds=3,\n",
    "    seed=0\n",
    ").setParallelism(4)"
   ]
  },
  {
   "cell_type": "code",
   "execution_count": 80,
   "metadata": {},
   "outputs": [],
   "source": [
    "pipeline = Pipeline(\n",
    "    stages=[assembler, scaler, indexer, cv]\n",
    ")"
   ]
  },
  {
   "cell_type": "code",
   "execution_count": 81,
   "metadata": {},
   "outputs": [],
   "source": [
    "train_iris, test_iris = iris.randomSplit([2.0, 1.0], seed=0)"
   ]
  },
  {
   "cell_type": "code",
   "execution_count": 82,
   "metadata": {},
   "outputs": [],
   "source": [
    "model = pipeline.fit(train_iris)"
   ]
  },
  {
   "cell_type": "markdown",
   "metadata": {},
   "source": [
    "#### Accessing pipeline stages"
   ]
  },
  {
   "cell_type": "code",
   "execution_count": 83,
   "metadata": {},
   "outputs": [
    {
     "data": {
      "text/plain": [
       "[VectorAssembler_52c89be6b9a2,\n",
       " StandardScalerModel: uid=StandardScaler_34c928f49d0f, numFeatures=4, withMean=true, withStd=true,\n",
       " StringIndexerModel: uid=StringIndexer_321a822eab54, handleInvalid=error,\n",
       " CrossValidatorModel_d21b0a235e7d]"
      ]
     },
     "execution_count": 83,
     "metadata": {},
     "output_type": "execute_result"
    }
   ],
   "source": [
    "model.stages"
   ]
  },
  {
   "cell_type": "code",
   "execution_count": 84,
   "metadata": {},
   "outputs": [
    {
     "data": {
      "text/html": [
       "<div>\n",
       "<style scoped>\n",
       "    .dataframe tbody tr th:only-of-type {\n",
       "        vertical-align: middle;\n",
       "    }\n",
       "\n",
       "    .dataframe tbody tr th {\n",
       "        vertical-align: top;\n",
       "    }\n",
       "\n",
       "    .dataframe thead th {\n",
       "        text-align: right;\n",
       "    }\n",
       "</style>\n",
       "<table border=\"1\" class=\"dataframe\">\n",
       "  <thead>\n",
       "    <tr style=\"text-align: right;\">\n",
       "      <th></th>\n",
       "      <th>numTrees</th>\n",
       "      <th>maxDepth</th>\n",
       "      <th>accuracy</th>\n",
       "    </tr>\n",
       "  </thead>\n",
       "  <tbody>\n",
       "    <tr>\n",
       "      <th>6</th>\n",
       "      <td>25</td>\n",
       "      <td>3</td>\n",
       "      <td>0.958970</td>\n",
       "    </tr>\n",
       "    <tr>\n",
       "      <th>7</th>\n",
       "      <td>25</td>\n",
       "      <td>4</td>\n",
       "      <td>0.958970</td>\n",
       "    </tr>\n",
       "    <tr>\n",
       "      <th>8</th>\n",
       "      <td>25</td>\n",
       "      <td>5</td>\n",
       "      <td>0.958970</td>\n",
       "    </tr>\n",
       "    <tr>\n",
       "      <th>5</th>\n",
       "      <td>10</td>\n",
       "      <td>5</td>\n",
       "      <td>0.948217</td>\n",
       "    </tr>\n",
       "    <tr>\n",
       "      <th>2</th>\n",
       "      <td>5</td>\n",
       "      <td>5</td>\n",
       "      <td>0.941426</td>\n",
       "    </tr>\n",
       "    <tr>\n",
       "      <th>0</th>\n",
       "      <td>5</td>\n",
       "      <td>3</td>\n",
       "      <td>0.940685</td>\n",
       "    </tr>\n",
       "    <tr>\n",
       "      <th>3</th>\n",
       "      <td>10</td>\n",
       "      <td>3</td>\n",
       "      <td>0.936723</td>\n",
       "    </tr>\n",
       "    <tr>\n",
       "      <th>4</th>\n",
       "      <td>10</td>\n",
       "      <td>4</td>\n",
       "      <td>0.936723</td>\n",
       "    </tr>\n",
       "    <tr>\n",
       "      <th>1</th>\n",
       "      <td>5</td>\n",
       "      <td>4</td>\n",
       "      <td>0.929932</td>\n",
       "    </tr>\n",
       "  </tbody>\n",
       "</table>\n",
       "</div>"
      ],
      "text/plain": [
       "   numTrees  maxDepth  accuracy\n",
       "6        25         3  0.958970\n",
       "7        25         4  0.958970\n",
       "8        25         5  0.958970\n",
       "5        10         5  0.948217\n",
       "2         5         5  0.941426\n",
       "0         5         3  0.940685\n",
       "3        10         3  0.936723\n",
       "4        10         4  0.936723\n",
       "1         5         4  0.929932"
      ]
     },
     "execution_count": 84,
     "metadata": {},
     "output_type": "execute_result"
    }
   ],
   "source": [
    "df_cv = pd.DataFrame(list(zip(model.stages[3].getEstimatorParamMaps(), model.stages[3].avgMetrics)))\n",
    "df_cv[['numTrees', 'maxDepth']] = df_cv[0].apply(lambda x: pd.Series(list(x.values())))\n",
    "df_cv = df_cv.drop(0, axis=1)\n",
    "df_cv = df_cv.iloc[:, [1,2,0]]\n",
    "df_cv.columns = df_cv.columns[:2].tolist() + ['accuracy']\n",
    "df_cv.sort_values('accuracy', ascending=False)"
   ]
  },
  {
   "cell_type": "markdown",
   "metadata": {},
   "source": [
    "#### Evaluate model on test data"
   ]
  },
  {
   "cell_type": "code",
   "execution_count": 85,
   "metadata": {},
   "outputs": [],
   "source": [
    "prediction = model.transform(test_iris)"
   ]
  },
  {
   "cell_type": "code",
   "execution_count": 86,
   "metadata": {},
   "outputs": [
    {
     "data": {
      "text/plain": [
       "0.9807692307692307"
      ]
     },
     "execution_count": 86,
     "metadata": {},
     "output_type": "execute_result"
    }
   ],
   "source": [
    "evaluator.evaluate(prediction)"
   ]
  },
  {
   "cell_type": "markdown",
   "metadata": {},
   "source": [
    "## Using Spark for non-MLLib models\n",
    "\n",
    "We will run a grid search on a Spark cluster using `scikit-learn`"
   ]
  },
  {
   "cell_type": "code",
   "execution_count": 87,
   "metadata": {},
   "outputs": [],
   "source": [
    "from sklearn.svm import SVC\n",
    "from sklearn.model_selection import train_test_split, GridSearchCV\n",
    "from sklearn.utils import parallel_backend\n",
    "from joblibspark import register_spark"
   ]
  },
  {
   "cell_type": "code",
   "execution_count": 88,
   "metadata": {},
   "outputs": [],
   "source": [
    "url = 'https://bit.ly/3eoBK6t'\n",
    "iris = pd.read_csv(url)"
   ]
  },
  {
   "cell_type": "code",
   "execution_count": 89,
   "metadata": {},
   "outputs": [],
   "source": [
    "X = iris.iloc[:, :-1]\n",
    "y = iris.species.astype('category').cat.codes"
   ]
  },
  {
   "cell_type": "code",
   "execution_count": 90,
   "metadata": {},
   "outputs": [],
   "source": [
    "X_train, X_test, y_train, y_test = train_test_split(X, y)"
   ]
  },
  {
   "cell_type": "code",
   "execution_count": 91,
   "metadata": {},
   "outputs": [],
   "source": [
    "svc = SVC(random_state=0)\n",
    "params = dict(\n",
    "    C = [0.1, 1, 10],\n",
    "    kernel = ['linear', 'poly', 'rbf', 'sigmoid']\n",
    ")\n",
    "cv = GridSearchCV(svc, params, cv=3)"
   ]
  },
  {
   "cell_type": "code",
   "execution_count": 93,
   "metadata": {},
   "outputs": [],
   "source": [
    "register_spark()"
   ]
  },
  {
   "cell_type": "code",
   "execution_count": 94,
   "metadata": {},
   "outputs": [],
   "source": [
    "with parallel_backend('spark', n_jobs=4):\n",
    "    cv.fit(X_train, y_train)"
   ]
  },
  {
   "cell_type": "code",
   "execution_count": 95,
   "metadata": {},
   "outputs": [
    {
     "data": {
      "text/html": [
       "<div>\n",
       "<style scoped>\n",
       "    .dataframe tbody tr th:only-of-type {\n",
       "        vertical-align: middle;\n",
       "    }\n",
       "\n",
       "    .dataframe tbody tr th {\n",
       "        vertical-align: top;\n",
       "    }\n",
       "\n",
       "    .dataframe thead th {\n",
       "        text-align: right;\n",
       "    }\n",
       "</style>\n",
       "<table border=\"1\" class=\"dataframe\">\n",
       "  <thead>\n",
       "    <tr style=\"text-align: right;\">\n",
       "      <th></th>\n",
       "      <th>mean_fit_time</th>\n",
       "      <th>std_fit_time</th>\n",
       "      <th>mean_score_time</th>\n",
       "      <th>std_score_time</th>\n",
       "      <th>param_C</th>\n",
       "      <th>param_kernel</th>\n",
       "      <th>params</th>\n",
       "      <th>split0_test_score</th>\n",
       "      <th>split1_test_score</th>\n",
       "      <th>split2_test_score</th>\n",
       "      <th>mean_test_score</th>\n",
       "      <th>std_test_score</th>\n",
       "      <th>rank_test_score</th>\n",
       "    </tr>\n",
       "  </thead>\n",
       "  <tbody>\n",
       "    <tr>\n",
       "      <th>0</th>\n",
       "      <td>0.003380</td>\n",
       "      <td>0.000013</td>\n",
       "      <td>0.001878</td>\n",
       "      <td>0.000052</td>\n",
       "      <td>0.1</td>\n",
       "      <td>linear</td>\n",
       "      <td>{'C': 0.1, 'kernel': 'linear'}</td>\n",
       "      <td>0.973684</td>\n",
       "      <td>1.000000</td>\n",
       "      <td>0.918919</td>\n",
       "      <td>0.964201</td>\n",
       "      <td>0.033774</td>\n",
       "      <td>7</td>\n",
       "    </tr>\n",
       "    <tr>\n",
       "      <th>1</th>\n",
       "      <td>0.003667</td>\n",
       "      <td>0.000184</td>\n",
       "      <td>0.001933</td>\n",
       "      <td>0.000028</td>\n",
       "      <td>0.1</td>\n",
       "      <td>poly</td>\n",
       "      <td>{'C': 0.1, 'kernel': 'poly'}</td>\n",
       "      <td>0.973684</td>\n",
       "      <td>1.000000</td>\n",
       "      <td>0.918919</td>\n",
       "      <td>0.964201</td>\n",
       "      <td>0.033774</td>\n",
       "      <td>7</td>\n",
       "    </tr>\n",
       "    <tr>\n",
       "      <th>2</th>\n",
       "      <td>0.004018</td>\n",
       "      <td>0.000202</td>\n",
       "      <td>0.002994</td>\n",
       "      <td>0.000777</td>\n",
       "      <td>0.1</td>\n",
       "      <td>rbf</td>\n",
       "      <td>{'C': 0.1, 'kernel': 'rbf'}</td>\n",
       "      <td>0.736842</td>\n",
       "      <td>0.702703</td>\n",
       "      <td>0.837838</td>\n",
       "      <td>0.759128</td>\n",
       "      <td>0.057375</td>\n",
       "      <td>9</td>\n",
       "    </tr>\n",
       "    <tr>\n",
       "      <th>3</th>\n",
       "      <td>0.004108</td>\n",
       "      <td>0.000135</td>\n",
       "      <td>0.002633</td>\n",
       "      <td>0.000285</td>\n",
       "      <td>0.1</td>\n",
       "      <td>sigmoid</td>\n",
       "      <td>{'C': 0.1, 'kernel': 'sigmoid'}</td>\n",
       "      <td>0.342105</td>\n",
       "      <td>0.108108</td>\n",
       "      <td>0.351351</td>\n",
       "      <td>0.267188</td>\n",
       "      <td>0.112550</td>\n",
       "      <td>10</td>\n",
       "    </tr>\n",
       "    <tr>\n",
       "      <th>4</th>\n",
       "      <td>0.005421</td>\n",
       "      <td>0.000590</td>\n",
       "      <td>0.004173</td>\n",
       "      <td>0.001277</td>\n",
       "      <td>1</td>\n",
       "      <td>linear</td>\n",
       "      <td>{'C': 1, 'kernel': 'linear'}</td>\n",
       "      <td>1.000000</td>\n",
       "      <td>1.000000</td>\n",
       "      <td>0.972973</td>\n",
       "      <td>0.990991</td>\n",
       "      <td>0.012741</td>\n",
       "      <td>1</td>\n",
       "    </tr>\n",
       "    <tr>\n",
       "      <th>5</th>\n",
       "      <td>0.004846</td>\n",
       "      <td>0.000989</td>\n",
       "      <td>0.003142</td>\n",
       "      <td>0.000574</td>\n",
       "      <td>1</td>\n",
       "      <td>poly</td>\n",
       "      <td>{'C': 1, 'kernel': 'poly'}</td>\n",
       "      <td>1.000000</td>\n",
       "      <td>1.000000</td>\n",
       "      <td>0.945946</td>\n",
       "      <td>0.981982</td>\n",
       "      <td>0.025481</td>\n",
       "      <td>3</td>\n",
       "    </tr>\n",
       "    <tr>\n",
       "      <th>6</th>\n",
       "      <td>0.004774</td>\n",
       "      <td>0.000572</td>\n",
       "      <td>0.003290</td>\n",
       "      <td>0.000837</td>\n",
       "      <td>1</td>\n",
       "      <td>rbf</td>\n",
       "      <td>{'C': 1, 'kernel': 'rbf'}</td>\n",
       "      <td>0.973684</td>\n",
       "      <td>1.000000</td>\n",
       "      <td>0.945946</td>\n",
       "      <td>0.973210</td>\n",
       "      <td>0.022070</td>\n",
       "      <td>5</td>\n",
       "    </tr>\n",
       "    <tr>\n",
       "      <th>7</th>\n",
       "      <td>0.004665</td>\n",
       "      <td>0.000666</td>\n",
       "      <td>0.003721</td>\n",
       "      <td>0.000208</td>\n",
       "      <td>1</td>\n",
       "      <td>sigmoid</td>\n",
       "      <td>{'C': 1, 'kernel': 'sigmoid'}</td>\n",
       "      <td>0.342105</td>\n",
       "      <td>0.108108</td>\n",
       "      <td>0.351351</td>\n",
       "      <td>0.267188</td>\n",
       "      <td>0.112550</td>\n",
       "      <td>10</td>\n",
       "    </tr>\n",
       "    <tr>\n",
       "      <th>8</th>\n",
       "      <td>0.005254</td>\n",
       "      <td>0.000962</td>\n",
       "      <td>0.003161</td>\n",
       "      <td>0.000864</td>\n",
       "      <td>10</td>\n",
       "      <td>linear</td>\n",
       "      <td>{'C': 10, 'kernel': 'linear'}</td>\n",
       "      <td>1.000000</td>\n",
       "      <td>0.972973</td>\n",
       "      <td>0.972973</td>\n",
       "      <td>0.981982</td>\n",
       "      <td>0.012741</td>\n",
       "      <td>3</td>\n",
       "    </tr>\n",
       "    <tr>\n",
       "      <th>9</th>\n",
       "      <td>0.005288</td>\n",
       "      <td>0.000360</td>\n",
       "      <td>0.003321</td>\n",
       "      <td>0.000267</td>\n",
       "      <td>10</td>\n",
       "      <td>poly</td>\n",
       "      <td>{'C': 10, 'kernel': 'poly'}</td>\n",
       "      <td>1.000000</td>\n",
       "      <td>1.000000</td>\n",
       "      <td>0.972973</td>\n",
       "      <td>0.990991</td>\n",
       "      <td>0.012741</td>\n",
       "      <td>1</td>\n",
       "    </tr>\n",
       "    <tr>\n",
       "      <th>10</th>\n",
       "      <td>0.004129</td>\n",
       "      <td>0.000588</td>\n",
       "      <td>0.002818</td>\n",
       "      <td>0.000186</td>\n",
       "      <td>10</td>\n",
       "      <td>rbf</td>\n",
       "      <td>{'C': 10, 'kernel': 'rbf'}</td>\n",
       "      <td>0.973684</td>\n",
       "      <td>1.000000</td>\n",
       "      <td>0.945946</td>\n",
       "      <td>0.973210</td>\n",
       "      <td>0.022070</td>\n",
       "      <td>5</td>\n",
       "    </tr>\n",
       "    <tr>\n",
       "      <th>11</th>\n",
       "      <td>0.005545</td>\n",
       "      <td>0.000569</td>\n",
       "      <td>0.003551</td>\n",
       "      <td>0.000593</td>\n",
       "      <td>10</td>\n",
       "      <td>sigmoid</td>\n",
       "      <td>{'C': 10, 'kernel': 'sigmoid'}</td>\n",
       "      <td>0.157895</td>\n",
       "      <td>0.108108</td>\n",
       "      <td>0.081081</td>\n",
       "      <td>0.115695</td>\n",
       "      <td>0.031815</td>\n",
       "      <td>12</td>\n",
       "    </tr>\n",
       "  </tbody>\n",
       "</table>\n",
       "</div>"
      ],
      "text/plain": [
       "    mean_fit_time  std_fit_time  mean_score_time  std_score_time param_C  \\\n",
       "0        0.003380      0.000013         0.001878        0.000052     0.1   \n",
       "1        0.003667      0.000184         0.001933        0.000028     0.1   \n",
       "2        0.004018      0.000202         0.002994        0.000777     0.1   \n",
       "3        0.004108      0.000135         0.002633        0.000285     0.1   \n",
       "4        0.005421      0.000590         0.004173        0.001277       1   \n",
       "5        0.004846      0.000989         0.003142        0.000574       1   \n",
       "6        0.004774      0.000572         0.003290        0.000837       1   \n",
       "7        0.004665      0.000666         0.003721        0.000208       1   \n",
       "8        0.005254      0.000962         0.003161        0.000864      10   \n",
       "9        0.005288      0.000360         0.003321        0.000267      10   \n",
       "10       0.004129      0.000588         0.002818        0.000186      10   \n",
       "11       0.005545      0.000569         0.003551        0.000593      10   \n",
       "\n",
       "   param_kernel                           params  split0_test_score  \\\n",
       "0        linear   {'C': 0.1, 'kernel': 'linear'}           0.973684   \n",
       "1          poly     {'C': 0.1, 'kernel': 'poly'}           0.973684   \n",
       "2           rbf      {'C': 0.1, 'kernel': 'rbf'}           0.736842   \n",
       "3       sigmoid  {'C': 0.1, 'kernel': 'sigmoid'}           0.342105   \n",
       "4        linear     {'C': 1, 'kernel': 'linear'}           1.000000   \n",
       "5          poly       {'C': 1, 'kernel': 'poly'}           1.000000   \n",
       "6           rbf        {'C': 1, 'kernel': 'rbf'}           0.973684   \n",
       "7       sigmoid    {'C': 1, 'kernel': 'sigmoid'}           0.342105   \n",
       "8        linear    {'C': 10, 'kernel': 'linear'}           1.000000   \n",
       "9          poly      {'C': 10, 'kernel': 'poly'}           1.000000   \n",
       "10          rbf       {'C': 10, 'kernel': 'rbf'}           0.973684   \n",
       "11      sigmoid   {'C': 10, 'kernel': 'sigmoid'}           0.157895   \n",
       "\n",
       "    split1_test_score  split2_test_score  mean_test_score  std_test_score  \\\n",
       "0            1.000000           0.918919         0.964201        0.033774   \n",
       "1            1.000000           0.918919         0.964201        0.033774   \n",
       "2            0.702703           0.837838         0.759128        0.057375   \n",
       "3            0.108108           0.351351         0.267188        0.112550   \n",
       "4            1.000000           0.972973         0.990991        0.012741   \n",
       "5            1.000000           0.945946         0.981982        0.025481   \n",
       "6            1.000000           0.945946         0.973210        0.022070   \n",
       "7            0.108108           0.351351         0.267188        0.112550   \n",
       "8            0.972973           0.972973         0.981982        0.012741   \n",
       "9            1.000000           0.972973         0.990991        0.012741   \n",
       "10           1.000000           0.945946         0.973210        0.022070   \n",
       "11           0.108108           0.081081         0.115695        0.031815   \n",
       "\n",
       "    rank_test_score  \n",
       "0                 7  \n",
       "1                 7  \n",
       "2                 9  \n",
       "3                10  \n",
       "4                 1  \n",
       "5                 3  \n",
       "6                 5  \n",
       "7                10  \n",
       "8                 3  \n",
       "9                 1  \n",
       "10                5  \n",
       "11               12  "
      ]
     },
     "execution_count": 95,
     "metadata": {},
     "output_type": "execute_result"
    }
   ],
   "source": [
    "pd.DataFrame(cv.cv_results_)"
   ]
  },
  {
   "cell_type": "code",
   "execution_count": null,
   "metadata": {},
   "outputs": [],
   "source": []
  }
 ],
 "metadata": {
  "kernelspec": {
   "display_name": "Python 3.8.5 64-bit",
   "language": "python",
   "name": "python38564bit02a66c47ce504b05b2ef5646cfed96c2"
  },
  "language_info": {
   "codemirror_mode": {
    "name": "ipython",
    "version": 3
   },
   "file_extension": ".py",
   "mimetype": "text/x-python",
   "name": "python",
   "nbconvert_exporter": "python",
   "pygments_lexer": "ipython3",
   "version": "3.8.5"
  }
 },
 "nbformat": 4,
 "nbformat_minor": 1
}
