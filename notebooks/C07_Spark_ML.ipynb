{
 "cells": [
  {
   "cell_type": "markdown",
   "metadata": {
    "collapsed": true
   },
   "source": [
    "# Spark MLLib\n",
    "\n",
    "- [Official documentation](http://spark.apache.org/docs/latest/ml-guide.html)\n",
    "- [PySpark documentation](http://spark.apache.org/docs/latest/api/python/pyspark.ml.html)\n",
    "\n",
    "The MLLib library has two packages - `pyspark.mllib` which provides an RDD interface, and `pyspark.ml` which provides a DataFrame interface. we will focus only on the high-level interface.\n",
    "\n",
    "Topics:\n",
    "\n",
    "- Preparing a DataFrame for ML\n",
    "- Generating simple statistics\n",
    "- Splitting data\n",
    "- Preprocessing\n",
    "    - Feature extraction\n",
    "    - Imputation\n",
    "    - Transforms\n",
    "- Unsupervised learning\n",
    "- Supervised learning\n",
    "    - Hyperparameter optimization\n",
    "    - Using R formula\n",
    "    - Evaluation\n",
    "- Using pipelines"
   ]
  },
  {
   "cell_type": "markdown",
   "metadata": {},
   "source": [
    "### Set up Spark and Spark SQL contexts"
   ]
  },
  {
   "cell_type": "code",
   "execution_count": 4,
   "metadata": {},
   "outputs": [],
   "source": [
    "from pyspark.sql import SparkSession"
   ]
  },
  {
   "cell_type": "code",
   "execution_count": 5,
   "metadata": {},
   "outputs": [],
   "source": [
    "spark = (\n",
    "    SparkSession.builder \n",
    "    .master(\"local\") \n",
    "    .appName(\"BIOS-823\") \n",
    "    .config(\"spark.executor.cores\", 4) \n",
    "    .getOrCreate()    \n",
    ")"
   ]
  },
  {
   "cell_type": "markdown",
   "metadata": {},
   "source": [
    "## Preparing a DataFrame for ML\n",
    "\n",
    "Spark provides dense and sparse vectors and matrices mainly as data structures for ML, so even though they live in the `ml.linalg` module, the ability to manipulate them is very limited."
   ]
  },
  {
   "cell_type": "code",
   "execution_count": 6,
   "metadata": {},
   "outputs": [],
   "source": [
    "import numpy as np"
   ]
  },
  {
   "cell_type": "code",
   "execution_count": 7,
   "metadata": {},
   "outputs": [],
   "source": [
    "from pyspark.ml.linalg import Vectors"
   ]
  },
  {
   "cell_type": "markdown",
   "metadata": {},
   "source": [
    "### Vectors"
   ]
  },
  {
   "cell_type": "code",
   "execution_count": 8,
   "metadata": {},
   "outputs": [],
   "source": [
    "v1 = Vectors.dense(range(1,11))\n",
    "v2 = Vectors.dense(range(0, 10))"
   ]
  },
  {
   "cell_type": "code",
   "execution_count": 9,
   "metadata": {},
   "outputs": [
    {
     "data": {
      "text/plain": [
       "DenseVector([1.0, 2.0, 3.0, 4.0, 5.0, 6.0, 7.0, 8.0, 9.0, 10.0])"
      ]
     },
     "execution_count": 9,
     "metadata": {},
     "output_type": "execute_result"
    }
   ],
   "source": [
    "v1"
   ]
  },
  {
   "cell_type": "code",
   "execution_count": 10,
   "metadata": {},
   "outputs": [
    {
     "data": {
      "text/plain": [
       "DenseVector([0.0, 1.0, 2.0, 3.0, 4.0, 5.0, 6.0, 7.0, 8.0, 9.0])"
      ]
     },
     "execution_count": 10,
     "metadata": {},
     "output_type": "execute_result"
    }
   ],
   "source": [
    "v2"
   ]
  },
  {
   "cell_type": "markdown",
   "metadata": {},
   "source": [
    "#### To numpy array"
   ]
  },
  {
   "cell_type": "code",
   "execution_count": 11,
   "metadata": {},
   "outputs": [
    {
     "data": {
      "text/plain": [
       "array([ 1.,  2.,  3.,  4.,  5.,  6.,  7.,  8.,  9., 10.])"
      ]
     },
     "execution_count": 11,
     "metadata": {},
     "output_type": "execute_result"
    }
   ],
   "source": [
    "v1.array"
   ]
  },
  {
   "cell_type": "markdown",
   "metadata": {},
   "source": [
    "#### Simple vector operations"
   ]
  },
  {
   "cell_type": "code",
   "execution_count": 12,
   "metadata": {},
   "outputs": [
    {
     "data": {
      "text/plain": [
       "55.0"
      ]
     },
     "execution_count": 12,
     "metadata": {},
     "output_type": "execute_result"
    }
   ],
   "source": [
    "v1.norm(p=1)"
   ]
  },
  {
   "cell_type": "code",
   "execution_count": 13,
   "metadata": {},
   "outputs": [
    {
     "data": {
      "text/plain": [
       "55.0"
      ]
     },
     "execution_count": 13,
     "metadata": {},
     "output_type": "execute_result"
    }
   ],
   "source": [
    "v1.sum()"
   ]
  },
  {
   "cell_type": "code",
   "execution_count": 14,
   "metadata": {},
   "outputs": [
    {
     "data": {
      "text/plain": [
       "19.621416870348583"
      ]
     },
     "execution_count": 14,
     "metadata": {},
     "output_type": "execute_result"
    }
   ],
   "source": [
    "v1.norm(p=2)"
   ]
  },
  {
   "cell_type": "code",
   "execution_count": 15,
   "metadata": {},
   "outputs": [
    {
     "data": {
      "text/plain": [
       "19.621416870348583"
      ]
     },
     "execution_count": 15,
     "metadata": {},
     "output_type": "execute_result"
    }
   ],
   "source": [
    "np.sqrt((v1*v1).sum())"
   ]
  },
  {
   "cell_type": "code",
   "execution_count": 16,
   "metadata": {},
   "outputs": [
    {
     "data": {
      "text/plain": [
       "10.0"
      ]
     },
     "execution_count": 16,
     "metadata": {},
     "output_type": "execute_result"
    }
   ],
   "source": [
    "v1.squared_distance(v2)"
   ]
  },
  {
   "cell_type": "code",
   "execution_count": 17,
   "metadata": {},
   "outputs": [
    {
     "data": {
      "text/plain": [
       "10.0"
      ]
     },
     "execution_count": 17,
     "metadata": {},
     "output_type": "execute_result"
    }
   ],
   "source": [
    "((v1 - v2).array**2).sum()"
   ]
  },
  {
   "cell_type": "code",
   "execution_count": 18,
   "metadata": {},
   "outputs": [
    {
     "data": {
      "text/plain": [
       "330.0"
      ]
     },
     "execution_count": 18,
     "metadata": {},
     "output_type": "execute_result"
    }
   ],
   "source": [
    "v1.dot(v2)"
   ]
  },
  {
   "cell_type": "markdown",
   "metadata": {},
   "source": [
    "### Manual construction of an ML DaataFrame\n",
    "\n",
    "ML operations generally require a DataFrame with columns corresponding to a a label and features represented as a Vector."
   ]
  },
  {
   "cell_type": "code",
   "execution_count": 19,
   "metadata": {},
   "outputs": [],
   "source": [
    "data =[\n",
    "    (0.0, Vectors.dense([1,2,3])), \n",
    "    (1.0, Vectors.dense([2,3,4])),\n",
    "    (0.0, Vectors.dense([3,4,5])),\n",
    "    (1.0, Vectors.dense([2,2,2]))\n",
    "]\n",
    "\n",
    "df = spark.createDataFrame(data, ['label', 'features'])"
   ]
  },
  {
   "cell_type": "code",
   "execution_count": 20,
   "metadata": {},
   "outputs": [
    {
     "name": "stdout",
     "output_type": "stream",
     "text": [
      "+-----+-------------+\n",
      "|label|     features|\n",
      "+-----+-------------+\n",
      "|  0.0|[1.0,2.0,3.0]|\n",
      "|  1.0|[2.0,3.0,4.0]|\n",
      "|  0.0|[3.0,4.0,5.0]|\n",
      "|  1.0|[2.0,2.0,2.0]|\n",
      "+-----+-------------+\n",
      "\n"
     ]
    }
   ],
   "source": [
    "df.show()"
   ]
  },
  {
   "cell_type": "markdown",
   "metadata": {},
   "source": [
    "#### Converting to a standard DataFrame"
   ]
  },
  {
   "cell_type": "code",
   "execution_count": 21,
   "metadata": {},
   "outputs": [],
   "source": [
    "from pyspark.ml.functions import vector_to_array"
   ]
  },
  {
   "cell_type": "code",
   "execution_count": 22,
   "metadata": {},
   "outputs": [],
   "source": [
    "from pyspark.sql.functions import col"
   ]
  },
  {
   "cell_type": "code",
   "execution_count": 23,
   "metadata": {},
   "outputs": [
    {
     "name": "stdout",
     "output_type": "stream",
     "text": [
      "+-----+---------------+\n",
      "|label|  UDF(features)|\n",
      "+-----+---------------+\n",
      "|  0.0|[1.0, 2.0, 3.0]|\n",
      "|  1.0|[2.0, 3.0, 4.0]|\n",
      "|  0.0|[3.0, 4.0, 5.0]|\n",
      "|  1.0|[2.0, 2.0, 2.0]|\n",
      "+-----+---------------+\n",
      "\n"
     ]
    }
   ],
   "source": [
    "df.select('label', vector_to_array('features')).show()"
   ]
  },
  {
   "cell_type": "code",
   "execution_count": 24,
   "metadata": {},
   "outputs": [
    {
     "name": "stdout",
     "output_type": "stream",
     "text": [
      "+-----+-------------+---------------+\n",
      "|label|     features|             xs|\n",
      "+-----+-------------+---------------+\n",
      "|  0.0|[1.0,2.0,3.0]|[1.0, 2.0, 3.0]|\n",
      "|  1.0|[2.0,3.0,4.0]|[2.0, 3.0, 4.0]|\n",
      "|  0.0|[3.0,4.0,5.0]|[3.0, 4.0, 5.0]|\n",
      "|  1.0|[2.0,2.0,2.0]|[2.0, 2.0, 2.0]|\n",
      "+-----+-------------+---------------+\n",
      "\n"
     ]
    }
   ],
   "source": [
    "df.withColumn(\"xs\", vector_to_array(\"features\")).show()"
   ]
  },
  {
   "cell_type": "code",
   "execution_count": 25,
   "metadata": {},
   "outputs": [
    {
     "data": {
      "text/plain": [
       "[('label', 'double'), ('features', 'vector'), ('xs', 'array<double>')]"
      ]
     },
     "execution_count": 25,
     "metadata": {},
     "output_type": "execute_result"
    }
   ],
   "source": [
    "df.withColumn(\"xs\", vector_to_array(\"features\")).dtypes"
   ]
  },
  {
   "cell_type": "code",
   "execution_count": 26,
   "metadata": {
    "scrolled": true
   },
   "outputs": [
    {
     "name": "stdout",
     "output_type": "stream",
     "text": [
      "+-----+-----+-----+-----+\n",
      "|label|xs[0]|xs[1]|xs[2]|\n",
      "+-----+-----+-----+-----+\n",
      "|  0.0|  1.0|  2.0|  3.0|\n",
      "|  1.0|  2.0|  3.0|  4.0|\n",
      "|  0.0|  3.0|  4.0|  5.0|\n",
      "|  1.0|  2.0|  2.0|  2.0|\n",
      "+-----+-----+-----+-----+\n",
      "\n"
     ]
    }
   ],
   "source": [
    "(\n",
    "    df.\n",
    "    withColumn(\"xs\", vector_to_array(\"features\")).\n",
    "    select([\"label\"] + [col(\"xs\")[i] for i in range(3)])\n",
    ").show()"
   ]
  },
  {
   "cell_type": "markdown",
   "metadata": {},
   "source": [
    "### Using VectorAssembler"
   ]
  },
  {
   "cell_type": "code",
   "execution_count": 27,
   "metadata": {},
   "outputs": [],
   "source": [
    "from pyspark.ml.feature import VectorAssembler"
   ]
  },
  {
   "cell_type": "code",
   "execution_count": 28,
   "metadata": {},
   "outputs": [],
   "source": [
    "import pandas as pd"
   ]
  },
  {
   "cell_type": "code",
   "execution_count": 29,
   "metadata": {},
   "outputs": [],
   "source": [
    "url = 'https://bit.ly/3eoBK6t'\n",
    "pdf = pd.read_csv(url)"
   ]
  },
  {
   "cell_type": "code",
   "execution_count": 30,
   "metadata": {},
   "outputs": [
    {
     "data": {
      "text/html": [
       "<div>\n",
       "<style scoped>\n",
       "    .dataframe tbody tr th:only-of-type {\n",
       "        vertical-align: middle;\n",
       "    }\n",
       "\n",
       "    .dataframe tbody tr th {\n",
       "        vertical-align: top;\n",
       "    }\n",
       "\n",
       "    .dataframe thead th {\n",
       "        text-align: right;\n",
       "    }\n",
       "</style>\n",
       "<table border=\"1\" class=\"dataframe\">\n",
       "  <thead>\n",
       "    <tr style=\"text-align: right;\">\n",
       "      <th></th>\n",
       "      <th>sepal_length</th>\n",
       "      <th>sepal_width</th>\n",
       "      <th>petal_length</th>\n",
       "      <th>petal_width</th>\n",
       "      <th>species</th>\n",
       "    </tr>\n",
       "  </thead>\n",
       "  <tbody>\n",
       "    <tr>\n",
       "      <th>0</th>\n",
       "      <td>5.1</td>\n",
       "      <td>3.5</td>\n",
       "      <td>1.4</td>\n",
       "      <td>0.2</td>\n",
       "      <td>setosa</td>\n",
       "    </tr>\n",
       "    <tr>\n",
       "      <th>1</th>\n",
       "      <td>4.9</td>\n",
       "      <td>3.0</td>\n",
       "      <td>1.4</td>\n",
       "      <td>0.2</td>\n",
       "      <td>setosa</td>\n",
       "    </tr>\n",
       "    <tr>\n",
       "      <th>2</th>\n",
       "      <td>4.7</td>\n",
       "      <td>3.2</td>\n",
       "      <td>1.3</td>\n",
       "      <td>0.2</td>\n",
       "      <td>setosa</td>\n",
       "    </tr>\n",
       "  </tbody>\n",
       "</table>\n",
       "</div>"
      ],
      "text/plain": [
       "   sepal_length  sepal_width  petal_length  petal_width species\n",
       "0           5.1          3.5           1.4          0.2  setosa\n",
       "1           4.9          3.0           1.4          0.2  setosa\n",
       "2           4.7          3.2           1.3          0.2  setosa"
      ]
     },
     "execution_count": 30,
     "metadata": {},
     "output_type": "execute_result"
    }
   ],
   "source": [
    "pdf.head(3)"
   ]
  },
  {
   "cell_type": "code",
   "execution_count": 31,
   "metadata": {},
   "outputs": [],
   "source": [
    "iris = spark.createDataFrame(pdf)"
   ]
  },
  {
   "cell_type": "code",
   "execution_count": 32,
   "metadata": {},
   "outputs": [
    {
     "name": "stdout",
     "output_type": "stream",
     "text": [
      "+------------+-----------+------------+-----------+-------+\n",
      "|sepal_length|sepal_width|petal_length|petal_width|species|\n",
      "+------------+-----------+------------+-----------+-------+\n",
      "|         5.1|        3.5|         1.4|        0.2| setosa|\n",
      "|         4.9|        3.0|         1.4|        0.2| setosa|\n",
      "|         4.7|        3.2|         1.3|        0.2| setosa|\n",
      "+------------+-----------+------------+-----------+-------+\n",
      "only showing top 3 rows\n",
      "\n"
     ]
    }
   ],
   "source": [
    "iris.show(3)"
   ]
  },
  {
   "cell_type": "code",
   "execution_count": 33,
   "metadata": {},
   "outputs": [
    {
     "data": {
      "text/plain": [
       "['sepal_length', 'sepal_width', 'petal_length', 'petal_width']"
      ]
     },
     "execution_count": 33,
     "metadata": {},
     "output_type": "execute_result"
    }
   ],
   "source": [
    "iris.columns[:-1]"
   ]
  },
  {
   "cell_type": "code",
   "execution_count": 34,
   "metadata": {},
   "outputs": [],
   "source": [
    "assembler = VectorAssembler(\n",
    "    inputCols=iris.columns[:-1],\n",
    "    outputCol='raw_features')\n",
    "df = assembler.transform(iris)"
   ]
  },
  {
   "cell_type": "code",
   "execution_count": 35,
   "metadata": {},
   "outputs": [
    {
     "name": "stdout",
     "output_type": "stream",
     "text": [
      "+------------+-----------+------------+-----------+-------+-----------------+\n",
      "|sepal_length|sepal_width|petal_length|petal_width|species|     raw_features|\n",
      "+------------+-----------+------------+-----------+-------+-----------------+\n",
      "|         5.1|        3.5|         1.4|        0.2| setosa|[5.1,3.5,1.4,0.2]|\n",
      "|         4.9|        3.0|         1.4|        0.2| setosa|[4.9,3.0,1.4,0.2]|\n",
      "|         4.7|        3.2|         1.3|        0.2| setosa|[4.7,3.2,1.3,0.2]|\n",
      "+------------+-----------+------------+-----------+-------+-----------------+\n",
      "only showing top 3 rows\n",
      "\n"
     ]
    }
   ],
   "source": [
    "df.show(3)"
   ]
  },
  {
   "cell_type": "markdown",
   "metadata": {},
   "source": [
    "### Generating simple statistics"
   ]
  },
  {
   "cell_type": "code",
   "execution_count": 36,
   "metadata": {},
   "outputs": [],
   "source": [
    "import pyspark.ml.stat as stat "
   ]
  },
  {
   "cell_type": "code",
   "execution_count": 37,
   "metadata": {},
   "outputs": [
    {
     "name": "stdout",
     "output_type": "stream",
     "text": [
      "+--------------------+\n",
      "|  mean(raw_features)|\n",
      "+--------------------+\n",
      "|[5.84333333333333...|\n",
      "+--------------------+\n",
      "\n"
     ]
    }
   ],
   "source": [
    "df.select(stat.Summarizer.mean(col('raw_features'))).show()"
   ]
  },
  {
   "cell_type": "code",
   "execution_count": 38,
   "metadata": {
    "scrolled": true
   },
   "outputs": [
    {
     "name": "stdout",
     "output_type": "stream",
     "text": [
      "+---------------------------------------------------------------------------------------------------------------------------------------------------------------------------------------------------+\n",
      "|aggregate_metrics(raw_features, 1.0)                                                                                                                                                               |\n",
      "+---------------------------------------------------------------------------------------------------------------------------------------------------------------------------------------------------+\n",
      "|[[0.8280661279778628,0.43359431136217363,1.7644204199522624,0.7631607417008414], [4.3,2.0,1.0,0.1], [7.9,4.4,6.9,2.5], [5.843333333333335,3.0540000000000003,3.758666666666667,1.1986666666666668]]|\n",
      "+---------------------------------------------------------------------------------------------------------------------------------------------------------------------------------------------------+\n",
      "\n"
     ]
    }
   ],
   "source": [
    "(\n",
    "    df.select(\n",
    "        stat.Summarizer.metrics('std', 'min', 'max', 'mean').\n",
    "        summary(col('raw_features'))).\n",
    "    show(truncate=False)\n",
    ")"
   ]
  },
  {
   "cell_type": "markdown",
   "metadata": {},
   "source": [
    "### Split data"
   ]
  },
  {
   "cell_type": "code",
   "execution_count": 39,
   "metadata": {},
   "outputs": [],
   "source": [
    "train_data, test_data = df.randomSplit(weights=[2.,1.], seed=0)"
   ]
  },
  {
   "cell_type": "code",
   "execution_count": 40,
   "metadata": {},
   "outputs": [
    {
     "data": {
      "text/plain": [
       "(98, 52)"
      ]
     },
     "execution_count": 40,
     "metadata": {},
     "output_type": "execute_result"
    }
   ],
   "source": [
    "train_data.count(), test_data.count()"
   ]
  },
  {
   "cell_type": "code",
   "execution_count": 41,
   "metadata": {},
   "outputs": [
    {
     "name": "stdout",
     "output_type": "stream",
     "text": [
      "+------------+-----------+------------+-----------+----------+-----------------+\n",
      "|sepal_length|sepal_width|petal_length|petal_width|   species|     raw_features|\n",
      "+------------+-----------+------------+-----------+----------+-----------------+\n",
      "|         5.0|        3.4|         1.5|        0.2|    setosa|[5.0,3.4,1.5,0.2]|\n",
      "|         5.4|        3.7|         1.5|        0.2|    setosa|[5.4,3.7,1.5,0.2]|\n",
      "|         4.8|        3.0|         1.4|        0.1|    setosa|[4.8,3.0,1.4,0.1]|\n",
      "|         4.8|        3.4|         1.9|        0.2|    setosa|[4.8,3.4,1.9,0.2]|\n",
      "|         4.9|        3.1|         1.5|        0.1|    setosa|[4.9,3.1,1.5,0.1]|\n",
      "|         5.2|        4.1|         1.5|        0.1|    setosa|[5.2,4.1,1.5,0.1]|\n",
      "|         5.4|        3.4|         1.5|        0.4|    setosa|[5.4,3.4,1.5,0.4]|\n",
      "|         5.6|        3.0|         4.5|        1.5|versicolor|[5.6,3.0,4.5,1.5]|\n",
      "|         5.8|        2.7|         4.1|        1.0|versicolor|[5.8,2.7,4.1,1.0]|\n",
      "|         6.1|        2.9|         4.7|        1.4|versicolor|[6.1,2.9,4.7,1.4]|\n",
      "|         5.0|        2.3|         3.3|        1.0|versicolor|[5.0,2.3,3.3,1.0]|\n",
      "|         5.5|        2.6|         4.4|        1.2|versicolor|[5.5,2.6,4.4,1.2]|\n",
      "|         5.7|        3.0|         4.2|        1.2|versicolor|[5.7,3.0,4.2,1.2]|\n",
      "|         6.4|        2.7|         5.3|        1.9| virginica|[6.4,2.7,5.3,1.9]|\n",
      "|         6.5|        3.2|         5.1|        2.0| virginica|[6.5,3.2,5.1,2.0]|\n",
      "|         6.7|        3.3|         5.7|        2.1| virginica|[6.7,3.3,5.7,2.1]|\n",
      "|         6.4|        3.1|         5.5|        1.8| virginica|[6.4,3.1,5.5,1.8]|\n",
      "|         6.9|        3.1|         5.1|        2.3| virginica|[6.9,3.1,5.1,2.3]|\n",
      "+------------+-----------+------------+-----------+----------+-----------------+\n",
      "\n"
     ]
    }
   ],
   "source": [
    "train_data.sample(0.1).show()"
   ]
  },
  {
   "cell_type": "code",
   "execution_count": 42,
   "metadata": {},
   "outputs": [
    {
     "name": "stdout",
     "output_type": "stream",
     "text": [
      "+------------+-----------+------------+-----------+----------+-----------------+\n",
      "|sepal_length|sepal_width|petal_length|petal_width|   species|     raw_features|\n",
      "+------------+-----------+------------+-----------+----------+-----------------+\n",
      "|         5.0|        3.6|         1.4|        0.2|    setosa|[5.0,3.6,1.4,0.2]|\n",
      "|         5.2|        3.5|         1.5|        0.2|    setosa|[5.2,3.5,1.5,0.2]|\n",
      "|         4.9|        2.4|         3.3|        1.0|versicolor|[4.9,2.4,3.3,1.0]|\n",
      "|         6.3|        2.9|         5.6|        1.8| virginica|[6.3,2.9,5.6,1.8]|\n",
      "|         7.2|        3.2|         6.0|        1.8| virginica|[7.2,3.2,6.0,1.8]|\n",
      "|         6.7|        3.3|         5.7|        2.5| virginica|[6.7,3.3,5.7,2.5]|\n",
      "+------------+-----------+------------+-----------+----------+-----------------+\n",
      "\n"
     ]
    }
   ],
   "source": [
    "test_data.sample(0.1).show()"
   ]
  },
  {
   "cell_type": "code",
   "execution_count": 43,
   "metadata": {},
   "outputs": [],
   "source": [
    "train_data = train_data.persist()"
   ]
  },
  {
   "cell_type": "markdown",
   "metadata": {},
   "source": [
    "## Processing data"
   ]
  },
  {
   "cell_type": "markdown",
   "metadata": {},
   "source": [
    "### Encoding categorical features"
   ]
  },
  {
   "cell_type": "code",
   "execution_count": 44,
   "metadata": {},
   "outputs": [],
   "source": [
    "from pyspark.ml.feature import StringIndexer"
   ]
  },
  {
   "cell_type": "code",
   "execution_count": 45,
   "metadata": {},
   "outputs": [],
   "source": [
    "indexer = StringIndexer(inputCol='species', outputCol='label')"
   ]
  },
  {
   "cell_type": "code",
   "execution_count": 46,
   "metadata": {},
   "outputs": [],
   "source": [
    "indexer = indexer.fit(train_data)"
   ]
  },
  {
   "cell_type": "code",
   "execution_count": 47,
   "metadata": {},
   "outputs": [],
   "source": [
    "train_df = indexer.transform(train_data)\n",
    "test_df = indexer.transform(test_data)"
   ]
  },
  {
   "cell_type": "code",
   "execution_count": 48,
   "metadata": {
    "scrolled": true
   },
   "outputs": [
    {
     "name": "stdout",
     "output_type": "stream",
     "text": [
      "+------------+-----------+------------+-----------+----------+-----------------+-----+\n",
      "|sepal_length|sepal_width|petal_length|petal_width|   species|     raw_features|label|\n",
      "+------------+-----------+------------+-----------+----------+-----------------+-----+\n",
      "|         4.6|        3.4|         1.4|        0.3|    setosa|[4.6,3.4,1.4,0.3]|  0.0|\n",
      "|         4.9|        3.0|         1.4|        0.2|    setosa|[4.9,3.0,1.4,0.2]|  0.0|\n",
      "|         4.7|        3.2|         1.6|        0.2|    setosa|[4.7,3.2,1.6,0.2]|  0.0|\n",
      "|         6.6|        2.9|         4.6|        1.3|versicolor|[6.6,2.9,4.6,1.3]|  1.0|\n",
      "|         5.6|        2.5|         3.9|        1.1|versicolor|[5.6,2.5,3.9,1.1]|  1.0|\n",
      "|         5.9|        3.0|         4.2|        1.5|versicolor|[5.9,3.0,4.2,1.5]|  1.0|\n",
      "|         6.2|        2.2|         4.5|        1.5|versicolor|[6.2,2.2,4.5,1.5]|  1.0|\n",
      "|         6.7|        3.1|         4.4|        1.4|versicolor|[6.7,3.1,4.4,1.4]|  1.0|\n",
      "|         6.4|        2.9|         4.3|        1.3|versicolor|[6.4,2.9,4.3,1.3]|  1.0|\n",
      "|         5.5|        2.6|         4.4|        1.2|versicolor|[5.5,2.6,4.4,1.2]|  1.0|\n",
      "|         6.2|        3.4|         5.4|        2.3| virginica|[6.2,3.4,5.4,2.3]|  2.0|\n",
      "|         6.9|        3.1|         5.1|        2.3| virginica|[6.9,3.1,5.1,2.3]|  2.0|\n",
      "+------------+-----------+------------+-----------+----------+-----------------+-----+\n",
      "\n"
     ]
    }
   ],
   "source": [
    "train_df.sample(0.1).show()"
   ]
  },
  {
   "cell_type": "markdown",
   "metadata": {},
   "source": [
    "### Scaling"
   ]
  },
  {
   "cell_type": "code",
   "execution_count": 49,
   "metadata": {},
   "outputs": [],
   "source": [
    "from pyspark.ml.feature import StandardScaler"
   ]
  },
  {
   "cell_type": "code",
   "execution_count": 50,
   "metadata": {},
   "outputs": [],
   "source": [
    "scaler = StandardScaler(withMean=True,\n",
    "                        withStd=True,\n",
    "                        inputCol='raw_features',\n",
    "                        outputCol='features')"
   ]
  },
  {
   "cell_type": "code",
   "execution_count": 51,
   "metadata": {},
   "outputs": [],
   "source": [
    "scaler = scaler.fit(train_df)"
   ]
  },
  {
   "cell_type": "code",
   "execution_count": 52,
   "metadata": {},
   "outputs": [],
   "source": [
    "train_df_scaled = scaler.transform(train_df)\n",
    "test_df_scaled = scaler.transform(test_df)"
   ]
  },
  {
   "cell_type": "code",
   "execution_count": 53,
   "metadata": {},
   "outputs": [
    {
     "name": "stdout",
     "output_type": "stream",
     "text": [
      "+---------------------------------------------------------------------------------+---------------------------------------------------------------------------------+\n",
      "|features                                                                         |features                                                                         |\n",
      "+---------------------------------------------------------------------------------+---------------------------------------------------------------------------------+\n",
      "|[-1.5213158492369616,0.00692241917037384,-1.2132855899947563,-1.22045281288949]  |[-1.5213158492369616,0.00692241917037384,-1.2132855899947563,-1.22045281288949]  |\n",
      "|[-1.5213158492369616,0.6853194978669278,-1.2714283713245784,-1.0882932817699649] |[-1.5213158492369616,0.6853194978669278,-1.2714283713245784,-1.0882932817699649] |\n",
      "|[-1.390075573510533,0.23305477873589214,-1.3295711526544005,-1.22045281288949]   |[-1.390075573510533,0.23305477873589214,-1.3295711526544005,-1.22045281288949]   |\n",
      "|[-1.1275950220576765,-0.21920994039514446,-1.2714283713245784,-1.22045281288949] |[-1.1275950220576765,-0.21920994039514446,-1.2714283713245784,-1.22045281288949] |\n",
      "|[-1.1275950220576765,0.00692241917037384,-1.2132855899947563,-1.3526123440090148]|[-1.1275950220576765,0.00692241917037384,-1.2132855899947563,-1.3526123440090148]|\n",
      "+---------------------------------------------------------------------------------+---------------------------------------------------------------------------------+\n",
      "only showing top 5 rows\n",
      "\n"
     ]
    }
   ],
   "source": [
    "train_df_scaled.select('features', 'features').show(5, truncate=False)"
   ]
  },
  {
   "cell_type": "markdown",
   "metadata": {},
   "source": [
    "## Unsupervised learning"
   ]
  },
  {
   "cell_type": "markdown",
   "metadata": {},
   "source": [
    "### Dimension reduction"
   ]
  },
  {
   "cell_type": "code",
   "execution_count": 54,
   "metadata": {},
   "outputs": [],
   "source": [
    "from pyspark.ml.feature import PCA"
   ]
  },
  {
   "cell_type": "code",
   "execution_count": 55,
   "metadata": {},
   "outputs": [],
   "source": [
    "pca = PCA(k=2, inputCol='features', outputCol='pc').fit(train_df_scaled)"
   ]
  },
  {
   "cell_type": "code",
   "execution_count": 56,
   "metadata": {},
   "outputs": [],
   "source": [
    "train_df_scaled = pca.transform(train_df_scaled)"
   ]
  },
  {
   "cell_type": "code",
   "execution_count": 57,
   "metadata": {},
   "outputs": [
    {
     "name": "stdout",
     "output_type": "stream",
     "text": [
      "+----------------------------------------+\n",
      "|pc                                      |\n",
      "+----------------------------------------+\n",
      "|[2.1719561815281754,0.7342240484007609] |\n",
      "|[2.3257684348824283,0.11499107410380768]|\n",
      "|[2.2379887825335114,0.47537636776842684]|\n",
      "|[1.9410238356438345,0.7700780683206433] |\n",
      "|[2.0469675488421304,0.5739261085291683] |\n",
      "+----------------------------------------+\n",
      "only showing top 5 rows\n",
      "\n"
     ]
    }
   ],
   "source": [
    "train_df_scaled.select('pc').show(5, truncate=False)"
   ]
  },
  {
   "cell_type": "code",
   "execution_count": 58,
   "metadata": {},
   "outputs": [],
   "source": [
    "import matplotlib.pyplot as plt"
   ]
  },
  {
   "cell_type": "code",
   "execution_count": 59,
   "metadata": {},
   "outputs": [],
   "source": [
    "pdf = (\n",
    "    train_df_scaled.select('label', 'pc').\n",
    "    withColumn(\"pc\", vector_to_array(\"pc\")).\n",
    "    select([\"label\"] + [col(\"pc\")[i] for i in range(2)])\n",
    ").toPandas()"
   ]
  },
  {
   "cell_type": "code",
   "execution_count": 60,
   "metadata": {},
   "outputs": [
    {
     "data": {
      "text/html": [
       "<div>\n",
       "<style scoped>\n",
       "    .dataframe tbody tr th:only-of-type {\n",
       "        vertical-align: middle;\n",
       "    }\n",
       "\n",
       "    .dataframe tbody tr th {\n",
       "        vertical-align: top;\n",
       "    }\n",
       "\n",
       "    .dataframe thead th {\n",
       "        text-align: right;\n",
       "    }\n",
       "</style>\n",
       "<table border=\"1\" class=\"dataframe\">\n",
       "  <thead>\n",
       "    <tr style=\"text-align: right;\">\n",
       "      <th></th>\n",
       "      <th>label</th>\n",
       "      <th>pc[0]</th>\n",
       "      <th>pc[1]</th>\n",
       "    </tr>\n",
       "  </thead>\n",
       "  <tbody>\n",
       "    <tr>\n",
       "      <th>0</th>\n",
       "      <td>0.0</td>\n",
       "      <td>2.171956</td>\n",
       "      <td>0.734224</td>\n",
       "    </tr>\n",
       "    <tr>\n",
       "      <th>1</th>\n",
       "      <td>0.0</td>\n",
       "      <td>2.325768</td>\n",
       "      <td>0.114991</td>\n",
       "    </tr>\n",
       "    <tr>\n",
       "      <th>2</th>\n",
       "      <td>0.0</td>\n",
       "      <td>2.237989</td>\n",
       "      <td>0.475376</td>\n",
       "    </tr>\n",
       "  </tbody>\n",
       "</table>\n",
       "</div>"
      ],
      "text/plain": [
       "   label     pc[0]     pc[1]\n",
       "0    0.0  2.171956  0.734224\n",
       "1    0.0  2.325768  0.114991\n",
       "2    0.0  2.237989  0.475376"
      ]
     },
     "execution_count": 60,
     "metadata": {},
     "output_type": "execute_result"
    }
   ],
   "source": [
    "pdf.head(3)"
   ]
  },
  {
   "cell_type": "code",
   "execution_count": 61,
   "metadata": {},
   "outputs": [
    {
     "data": {
      "image/png": "[encoded data removed]",
      "text/plain": [
       "<Figure size 432x288 with 1 Axes>"
      ]
     },
     "metadata": {
      "needs_background": "light"
     },
     "output_type": "display_data"
    }
   ],
   "source": [
    "plt.scatter(pdf.iloc[:, 1], pdf.iloc[:, 2], c=pdf.iloc[:, 0])\n",
    "plt.xlabel('PC1')\n",
    "plt.ylabel('PC2')\n",
    "plt.tight_layout()"
   ]
  },
  {
   "cell_type": "markdown",
   "metadata": {},
   "source": [
    "### Clustering"
   ]
  },
  {
   "cell_type": "code",
   "execution_count": 62,
   "metadata": {},
   "outputs": [],
   "source": [
    "from pyspark.ml.clustering import GaussianMixture"
   ]
  },
  {
   "cell_type": "code",
   "execution_count": 63,
   "metadata": {},
   "outputs": [],
   "source": [
    "gmm = GaussianMixture(\n",
    "    featuresCol='features',\n",
    "    k=3, \n",
    "    seed=0)"
   ]
  },
  {
   "cell_type": "code",
   "execution_count": 64,
   "metadata": {},
   "outputs": [],
   "source": [
    "gmm = gmm.fit(train_df_scaled)"
   ]
  },
  {
   "cell_type": "code",
   "execution_count": 65,
   "metadata": {},
   "outputs": [
    {
     "data": {
      "text/html": [
       "<div>\n",
       "<style scoped>\n",
       "    .dataframe tbody tr th:only-of-type {\n",
       "        vertical-align: middle;\n",
       "    }\n",
       "\n",
       "    .dataframe tbody tr th {\n",
       "        vertical-align: top;\n",
       "    }\n",
       "\n",
       "    .dataframe thead th {\n",
       "        text-align: right;\n",
       "    }\n",
       "</style>\n",
       "<table border=\"1\" class=\"dataframe\">\n",
       "  <thead>\n",
       "    <tr style=\"text-align: right;\">\n",
       "      <th></th>\n",
       "      <th>mean</th>\n",
       "      <th>cov</th>\n",
       "    </tr>\n",
       "  </thead>\n",
       "  <tbody>\n",
       "    <tr>\n",
       "      <th>0</th>\n",
       "      <td>[-0.9380257346418976, 0.8046671327476248, -1.2...</td>\n",
       "      <td>DenseMatrix([[0.2166823 , 0.29970786, 0.013235...</td>\n",
       "    </tr>\n",
       "    <tr>\n",
       "      <th>1</th>\n",
       "      <td>[0.005938775919945091, -0.5221004264901148, 0....</td>\n",
       "      <td>DenseMatrix([[ 0.10356088, -0.0849359 ,  0.056...</td>\n",
       "    </tr>\n",
       "    <tr>\n",
       "      <th>2</th>\n",
       "      <td>[0.6061006081018865, -0.4609677242002642, 0.72...</td>\n",
       "      <td>DenseMatrix([[0.65443637, 0.40398667, 0.255851...</td>\n",
       "    </tr>\n",
       "  </tbody>\n",
       "</table>\n",
       "</div>"
      ],
      "text/plain": [
       "                                                mean  \\\n",
       "0  [-0.9380257346418976, 0.8046671327476248, -1.2...   \n",
       "1  [0.005938775919945091, -0.5221004264901148, 0....   \n",
       "2  [0.6061006081018865, -0.4609677242002642, 0.72...   \n",
       "\n",
       "                                                 cov  \n",
       "0  DenseMatrix([[0.2166823 , 0.29970786, 0.013235...  \n",
       "1  DenseMatrix([[ 0.10356088, -0.0849359 ,  0.056...  \n",
       "2  DenseMatrix([[0.65443637, 0.40398667, 0.255851...  "
      ]
     },
     "execution_count": 65,
     "metadata": {},
     "output_type": "execute_result"
    }
   ],
   "source": [
    "gmm.gaussiansDF.toPandas()"
   ]
  },
  {
   "cell_type": "code",
   "execution_count": 66,
   "metadata": {},
   "outputs": [],
   "source": [
    "train_df_scaled = gmm.transform(train_df_scaled)"
   ]
  },
  {
   "cell_type": "code",
   "execution_count": 67,
   "metadata": {},
   "outputs": [
    {
     "name": "stdout",
     "output_type": "stream",
     "text": [
      "+--------------------+-----+--------------------+----------+\n",
      "|            features|label|         probability|prediction|\n",
      "+--------------------+-----+--------------------+----------+\n",
      "|[-1.5213158492369...|  0.0|[0.99999999999278...|         0|\n",
      "|[-0.2089130919726...|  1.0|[5.51104734455841...|         1|\n",
      "|[-0.0776728162462...|  1.0|[6.94499110009014...|         1|\n",
      "|[0.70976883811231...|  2.0|[9.24177181915992...|         2|\n",
      "|[2.02217159537659...|  2.0|[2.49896507749226...|         2|\n",
      "|[0.31604801093303...|  2.0|[6.91948378303032...|         2|\n",
      "+--------------------+-----+--------------------+----------+\n",
      "\n"
     ]
    }
   ],
   "source": [
    "train_df_scaled.select('features', 'label', 'probability', 'prediction').sample(0.1).show()"
   ]
  },
  {
   "cell_type": "markdown",
   "metadata": {},
   "source": [
    "## Supervised Learning"
   ]
  },
  {
   "cell_type": "code",
   "execution_count": 68,
   "metadata": {},
   "outputs": [],
   "source": [
    "train_df_scaled = train_df_scaled.select('features', 'label')"
   ]
  },
  {
   "cell_type": "code",
   "execution_count": 69,
   "metadata": {},
   "outputs": [],
   "source": [
    "test_df_scaled = test_df_scaled.select('features', 'label')"
   ]
  },
  {
   "cell_type": "code",
   "execution_count": 70,
   "metadata": {},
   "outputs": [],
   "source": [
    "from pyspark.ml.classification import RandomForestClassifier"
   ]
  },
  {
   "cell_type": "code",
   "execution_count": 71,
   "metadata": {},
   "outputs": [],
   "source": [
    "rf = RandomForestClassifier(\n",
    "    numTrees=10,\n",
    "    maxDepth=3,\n",
    "    seed=0\n",
    ")"
   ]
  },
  {
   "cell_type": "code",
   "execution_count": 72,
   "metadata": {},
   "outputs": [],
   "source": [
    "rf = rf.fit(train_df_scaled)"
   ]
  },
  {
   "cell_type": "code",
   "execution_count": 73,
   "metadata": {},
   "outputs": [],
   "source": [
    "test_df_scaled = rf.transform(test_df_scaled)"
   ]
  },
  {
   "cell_type": "code",
   "execution_count": 74,
   "metadata": {},
   "outputs": [
    {
     "name": "stdout",
     "output_type": "stream",
     "text": [
      "+--------------------+-----+--------------------+--------------------+----------+\n",
      "|            features|label|       rawPrediction|         probability|prediction|\n",
      "+--------------------+-----+--------------------+--------------------+----------+\n",
      "|[0.31604801093303...|  1.0|[0.03030303030303...|[0.00303030303030...|       1.0|\n",
      "+--------------------+-----+--------------------+--------------------+----------+\n",
      "\n"
     ]
    }
   ],
   "source": [
    "test_df_scaled.sample(0.1).show()"
   ]
  },
  {
   "cell_type": "markdown",
   "metadata": {},
   "source": [
    "### Model evaluation"
   ]
  },
  {
   "cell_type": "code",
   "execution_count": 75,
   "metadata": {},
   "outputs": [],
   "source": [
    "from pyspark.ml.evaluation import MulticlassClassificationEvaluator"
   ]
  },
  {
   "cell_type": "code",
   "execution_count": 76,
   "metadata": {},
   "outputs": [],
   "source": [
    "evaluator = MulticlassClassificationEvaluator()"
   ]
  },
  {
   "cell_type": "markdown",
   "metadata": {},
   "source": [
    "#### Default is f1 score"
   ]
  },
  {
   "cell_type": "code",
   "execution_count": 77,
   "metadata": {},
   "outputs": [
    {
     "data": {
      "text/plain": [
       "0.9618662587412588"
      ]
     },
     "execution_count": 77,
     "metadata": {},
     "output_type": "execute_result"
    }
   ],
   "source": [
    "evaluator.evaluate(test_df_scaled)"
   ]
  },
  {
   "cell_type": "code",
   "execution_count": 78,
   "metadata": {},
   "outputs": [],
   "source": [
    "evaluator = evaluator.setMetricName('accuracy')"
   ]
  },
  {
   "cell_type": "code",
   "execution_count": 79,
   "metadata": {},
   "outputs": [
    {
     "data": {
      "text/plain": [
       "0.9615384615384616"
      ]
     },
     "execution_count": 79,
     "metadata": {},
     "output_type": "execute_result"
    }
   ],
   "source": [
    "evaluator.evaluate(test_df_scaled)"
   ]
  },
  {
   "cell_type": "markdown",
   "metadata": {},
   "source": [
    "### Pipelines\n",
    "\n",
    "We can assemble pipeline for convenience and reproducibility. This is very similar to what you would do with `sklearn`, except that MLLib allows you to handle massive datasets by distributing the analysis to multiple computers.\n",
    "\n",
    "We will put all the preceding steps into the pipeline, and also add hyperparameter optimization via cross-validation."
   ]
  },
  {
   "cell_type": "code",
   "execution_count": 80,
   "metadata": {},
   "outputs": [],
   "source": [
    "from pyspark.ml import Pipeline"
   ]
  },
  {
   "cell_type": "code",
   "execution_count": 81,
   "metadata": {},
   "outputs": [],
   "source": [
    "from pyspark.ml.tuning import CrossValidator, ParamGridBuilder"
   ]
  },
  {
   "cell_type": "code",
   "execution_count": 82,
   "metadata": {},
   "outputs": [],
   "source": [
    "assembler = VectorAssembler(\n",
    "    inputCols=iris.columns[:-1],\n",
    "    outputCol='raw_features'\n",
    ")\n",
    "scaler = StandardScaler(\n",
    "    withMean=True, \n",
    "    withStd=True, \n",
    "    inputCol='raw_features', \n",
    "    outputCol='features'\n",
    ")\n",
    "indexer = StringIndexer(\n",
    "    inputCol=\"species\", \n",
    "    outputCol=\"label\"\n",
    ")\n",
    "rf = RandomForestClassifier()\n",
    "params = (\n",
    "    ParamGridBuilder().\n",
    "    addGrid(rf.numTrees, [5,10,25]).\n",
    "    addGrid(rf.maxDepth, [3,4,5]).\n",
    "    build()\n",
    ")\n",
    "evaluator = MulticlassClassificationEvaluator(\n",
    "    metricName='accuracy'\n",
    ")\n",
    "cv = CrossValidator(\n",
    "    estimator=rf,\n",
    "    evaluator=evaluator,\n",
    "    estimatorParamMaps=params,\n",
    "    numFolds=3,\n",
    "    seed=0\n",
    ").setParallelism(4)"
   ]
  },
  {
   "cell_type": "code",
   "execution_count": 83,
   "metadata": {},
   "outputs": [],
   "source": [
    "pipeline = Pipeline(\n",
    "    stages=[assembler, scaler, indexer, cv]\n",
    ")"
   ]
  },
  {
   "cell_type": "code",
   "execution_count": 84,
   "metadata": {},
   "outputs": [],
   "source": [
    "train_iris, test_iris = iris.randomSplit([2.0, 1.0], seed=0)"
   ]
  },
  {
   "cell_type": "code",
   "execution_count": 85,
   "metadata": {},
   "outputs": [],
   "source": [
    "model = pipeline.fit(train_iris)"
   ]
  },
  {
   "cell_type": "markdown",
   "metadata": {},
   "source": [
    "#### Accessing pipeline stages"
   ]
  },
  {
   "cell_type": "code",
   "execution_count": 86,
   "metadata": {},
   "outputs": [
    {
     "data": {
      "text/plain": [
       "[VectorAssembler_b707c6dd0daa,\n",
       " StandardScalerModel: uid=StandardScaler_6f905091c141, numFeatures=4, withMean=true, withStd=true,\n",
       " StringIndexerModel: uid=StringIndexer_680263d99f3c, handleInvalid=error,\n",
       " CrossValidatorModel_a1e2fa6e9d8f]"
      ]
     },
     "execution_count": 86,
     "metadata": {},
     "output_type": "execute_result"
    }
   ],
   "source": [
    "model.stages"
   ]
  },
  {
   "cell_type": "code",
   "execution_count": 87,
   "metadata": {},
   "outputs": [
    {
     "data": {
      "text/html": [
       "<div>\n",
       "<style scoped>\n",
       "    .dataframe tbody tr th:only-of-type {\n",
       "        vertical-align: middle;\n",
       "    }\n",
       "\n",
       "    .dataframe tbody tr th {\n",
       "        vertical-align: top;\n",
       "    }\n",
       "\n",
       "    .dataframe thead th {\n",
       "        text-align: right;\n",
       "    }\n",
       "</style>\n",
       "<table border=\"1\" class=\"dataframe\">\n",
       "  <thead>\n",
       "    <tr style=\"text-align: right;\">\n",
       "      <th></th>\n",
       "      <th>numTrees</th>\n",
       "      <th>maxDepth</th>\n",
       "      <th>accuracy</th>\n",
       "    </tr>\n",
       "  </thead>\n",
       "  <tbody>\n",
       "    <tr>\n",
       "      <th>6</th>\n",
       "      <td>25</td>\n",
       "      <td>3</td>\n",
       "      <td>0.958970</td>\n",
       "    </tr>\n",
       "    <tr>\n",
       "      <th>7</th>\n",
       "      <td>25</td>\n",
       "      <td>4</td>\n",
       "      <td>0.958970</td>\n",
       "    </tr>\n",
       "    <tr>\n",
       "      <th>8</th>\n",
       "      <td>25</td>\n",
       "      <td>5</td>\n",
       "      <td>0.958970</td>\n",
       "    </tr>\n",
       "    <tr>\n",
       "      <th>5</th>\n",
       "      <td>10</td>\n",
       "      <td>5</td>\n",
       "      <td>0.948217</td>\n",
       "    </tr>\n",
       "    <tr>\n",
       "      <th>2</th>\n",
       "      <td>5</td>\n",
       "      <td>5</td>\n",
       "      <td>0.941426</td>\n",
       "    </tr>\n",
       "    <tr>\n",
       "      <th>0</th>\n",
       "      <td>5</td>\n",
       "      <td>3</td>\n",
       "      <td>0.940685</td>\n",
       "    </tr>\n",
       "    <tr>\n",
       "      <th>3</th>\n",
       "      <td>10</td>\n",
       "      <td>3</td>\n",
       "      <td>0.936723</td>\n",
       "    </tr>\n",
       "    <tr>\n",
       "      <th>4</th>\n",
       "      <td>10</td>\n",
       "      <td>4</td>\n",
       "      <td>0.936723</td>\n",
       "    </tr>\n",
       "    <tr>\n",
       "      <th>1</th>\n",
       "      <td>5</td>\n",
       "      <td>4</td>\n",
       "      <td>0.929932</td>\n",
       "    </tr>\n",
       "  </tbody>\n",
       "</table>\n",
       "</div>"
      ],
      "text/plain": [
       "   numTrees  maxDepth  accuracy\n",
       "6        25         3  0.958970\n",
       "7        25         4  0.958970\n",
       "8        25         5  0.958970\n",
       "5        10         5  0.948217\n",
       "2         5         5  0.941426\n",
       "0         5         3  0.940685\n",
       "3        10         3  0.936723\n",
       "4        10         4  0.936723\n",
       "1         5         4  0.929932"
      ]
     },
     "execution_count": 87,
     "metadata": {},
     "output_type": "execute_result"
    }
   ],
   "source": [
    "df_cv = pd.DataFrame(list(zip(model.stages[3].getEstimatorParamMaps(), model.stages[3].avgMetrics)))\n",
    "df_cv[['numTrees', 'maxDepth']] = df_cv[0].apply(lambda x: pd.Series(list(x.values())))\n",
    "df_cv = df_cv.drop(0, axis=1)\n",
    "df_cv = df_cv.iloc[:, [1,2,0]]\n",
    "df_cv.columns = df_cv.columns[:2].tolist() + ['accuracy']\n",
    "df_cv.sort_values('accuracy', ascending=False)"
   ]
  },
  {
   "cell_type": "markdown",
   "metadata": {},
   "source": [
    "#### Evaluate model on test data"
   ]
  },
  {
   "cell_type": "code",
   "execution_count": 88,
   "metadata": {},
   "outputs": [],
   "source": [
    "prediction = model.transform(test_iris)"
   ]
  },
  {
   "cell_type": "code",
   "execution_count": 89,
   "metadata": {},
   "outputs": [
    {
     "data": {
      "text/plain": [
       "0.9807692307692307"
      ]
     },
     "execution_count": 89,
     "metadata": {},
     "output_type": "execute_result"
    }
   ],
   "source": [
    "evaluator.evaluate(prediction)"
   ]
  },
  {
   "cell_type": "markdown",
   "metadata": {},
   "source": [
    "## Using Spark for non-MLLib models\n",
    "\n",
    "We can also run non-MLLIB machine learning algorithms using Spark."
   ]
  },
  {
   "cell_type": "markdown",
   "metadata": {},
   "source": [
    "### Hyper-parameter optimization"
   ]
  },
  {
   "cell_type": "code",
   "execution_count": 90,
   "metadata": {},
   "outputs": [],
   "source": [
    "! python3 -m pip install --quiet joblibspark"
   ]
  },
  {
   "cell_type": "markdown",
   "metadata": {},
   "source": [
    "#### Scikit-learn"
   ]
  },
  {
   "cell_type": "code",
   "execution_count": 91,
   "metadata": {},
   "outputs": [],
   "source": [
    "from sklearn.svm import SVC\n",
    "from sklearn.model_selection import train_test_split, GridSearchCV\n",
    "from sklearn.utils import parallel_backend\n",
    "from joblibspark import register_spark"
   ]
  },
  {
   "cell_type": "code",
   "execution_count": 92,
   "metadata": {},
   "outputs": [],
   "source": [
    "url = 'https://bit.ly/3eoBK6t'\n",
    "iris = pd.read_csv(url)\n",
    "\n",
    "X = iris.iloc[:, :-1]\n",
    "y = iris.species.astype('category').cat.codes\n",
    "\n",
    "X_train, X_test, y_train, y_test = train_test_split(X, y)"
   ]
  },
  {
   "cell_type": "code",
   "execution_count": 93,
   "metadata": {},
   "outputs": [],
   "source": [
    "svc = SVC(random_state=0)\n",
    "params = dict(\n",
    "    C = [0.1, 1, 10],\n",
    "    kernel = ['linear', 'poly', 'rbf', 'sigmoid']\n",
    ")\n",
    "cv = GridSearchCV(svc, params, cv=3)"
   ]
  },
  {
   "cell_type": "code",
   "execution_count": 94,
   "metadata": {},
   "outputs": [],
   "source": [
    "register_spark()"
   ]
  },
  {
   "cell_type": "code",
   "execution_count": 95,
   "metadata": {},
   "outputs": [],
   "source": [
    "with parallel_backend('spark', n_jobs=4):\n",
    "    cv.fit(X_train, y_train)"
   ]
  },
  {
   "cell_type": "code",
   "execution_count": 96,
   "metadata": {},
   "outputs": [
    {
     "data": {
      "text/html": [
       "<div>\n",
       "<style scoped>\n",
       "    .dataframe tbody tr th:only-of-type {\n",
       "        vertical-align: middle;\n",
       "    }\n",
       "\n",
       "    .dataframe tbody tr th {\n",
       "        vertical-align: top;\n",
       "    }\n",
       "\n",
       "    .dataframe thead th {\n",
       "        text-align: right;\n",
       "    }\n",
       "</style>\n",
       "<table border=\"1\" class=\"dataframe\">\n",
       "  <thead>\n",
       "    <tr style=\"text-align: right;\">\n",
       "      <th></th>\n",
       "      <th>mean_fit_time</th>\n",
       "      <th>std_fit_time</th>\n",
       "      <th>mean_score_time</th>\n",
       "      <th>std_score_time</th>\n",
       "      <th>param_C</th>\n",
       "      <th>param_kernel</th>\n",
       "      <th>params</th>\n",
       "      <th>split0_test_score</th>\n",
       "      <th>split1_test_score</th>\n",
       "      <th>split2_test_score</th>\n",
       "      <th>mean_test_score</th>\n",
       "      <th>std_test_score</th>\n",
       "      <th>rank_test_score</th>\n",
       "    </tr>\n",
       "  </thead>\n",
       "  <tbody>\n",
       "    <tr>\n",
       "      <th>0</th>\n",
       "      <td>0.003228</td>\n",
       "      <td>0.000145</td>\n",
       "      <td>0.002065</td>\n",
       "      <td>0.000645</td>\n",
       "      <td>0.1</td>\n",
       "      <td>linear</td>\n",
       "      <td>{'C': 0.1, 'kernel': 'linear'}</td>\n",
       "      <td>0.973684</td>\n",
       "      <td>0.972973</td>\n",
       "      <td>0.972973</td>\n",
       "      <td>0.973210</td>\n",
       "      <td>0.000335</td>\n",
       "      <td>3</td>\n",
       "    </tr>\n",
       "    <tr>\n",
       "      <th>1</th>\n",
       "      <td>0.003249</td>\n",
       "      <td>0.000082</td>\n",
       "      <td>0.001860</td>\n",
       "      <td>0.000418</td>\n",
       "      <td>0.1</td>\n",
       "      <td>poly</td>\n",
       "      <td>{'C': 0.1, 'kernel': 'poly'}</td>\n",
       "      <td>0.973684</td>\n",
       "      <td>0.972973</td>\n",
       "      <td>0.972973</td>\n",
       "      <td>0.973210</td>\n",
       "      <td>0.000335</td>\n",
       "      <td>3</td>\n",
       "    </tr>\n",
       "    <tr>\n",
       "      <th>2</th>\n",
       "      <td>0.003456</td>\n",
       "      <td>0.000053</td>\n",
       "      <td>0.001981</td>\n",
       "      <td>0.000424</td>\n",
       "      <td>0.1</td>\n",
       "      <td>rbf</td>\n",
       "      <td>{'C': 0.1, 'kernel': 'rbf'}</td>\n",
       "      <td>0.763158</td>\n",
       "      <td>0.864865</td>\n",
       "      <td>0.756757</td>\n",
       "      <td>0.794927</td>\n",
       "      <td>0.049523</td>\n",
       "      <td>9</td>\n",
       "    </tr>\n",
       "    <tr>\n",
       "      <th>3</th>\n",
       "      <td>0.003865</td>\n",
       "      <td>0.000290</td>\n",
       "      <td>0.002149</td>\n",
       "      <td>0.000506</td>\n",
       "      <td>0.1</td>\n",
       "      <td>sigmoid</td>\n",
       "      <td>{'C': 0.1, 'kernel': 'sigmoid'}</td>\n",
       "      <td>0.368421</td>\n",
       "      <td>0.351351</td>\n",
       "      <td>0.351351</td>\n",
       "      <td>0.357041</td>\n",
       "      <td>0.008047</td>\n",
       "      <td>10</td>\n",
       "    </tr>\n",
       "    <tr>\n",
       "      <th>4</th>\n",
       "      <td>0.003543</td>\n",
       "      <td>0.000460</td>\n",
       "      <td>0.002302</td>\n",
       "      <td>0.000091</td>\n",
       "      <td>1</td>\n",
       "      <td>linear</td>\n",
       "      <td>{'C': 1, 'kernel': 'linear'}</td>\n",
       "      <td>1.000000</td>\n",
       "      <td>0.972973</td>\n",
       "      <td>0.972973</td>\n",
       "      <td>0.981982</td>\n",
       "      <td>0.012741</td>\n",
       "      <td>1</td>\n",
       "    </tr>\n",
       "    <tr>\n",
       "      <th>5</th>\n",
       "      <td>0.003509</td>\n",
       "      <td>0.000452</td>\n",
       "      <td>0.002630</td>\n",
       "      <td>0.000460</td>\n",
       "      <td>1</td>\n",
       "      <td>poly</td>\n",
       "      <td>{'C': 1, 'kernel': 'poly'}</td>\n",
       "      <td>0.947368</td>\n",
       "      <td>0.945946</td>\n",
       "      <td>0.972973</td>\n",
       "      <td>0.955429</td>\n",
       "      <td>0.012419</td>\n",
       "      <td>6</td>\n",
       "    </tr>\n",
       "    <tr>\n",
       "      <th>6</th>\n",
       "      <td>0.003940</td>\n",
       "      <td>0.000466</td>\n",
       "      <td>0.002706</td>\n",
       "      <td>0.000336</td>\n",
       "      <td>1</td>\n",
       "      <td>rbf</td>\n",
       "      <td>{'C': 1, 'kernel': 'rbf'}</td>\n",
       "      <td>0.973684</td>\n",
       "      <td>0.972973</td>\n",
       "      <td>0.972973</td>\n",
       "      <td>0.973210</td>\n",
       "      <td>0.000335</td>\n",
       "      <td>3</td>\n",
       "    </tr>\n",
       "    <tr>\n",
       "      <th>7</th>\n",
       "      <td>0.004211</td>\n",
       "      <td>0.000627</td>\n",
       "      <td>0.003025</td>\n",
       "      <td>0.000451</td>\n",
       "      <td>1</td>\n",
       "      <td>sigmoid</td>\n",
       "      <td>{'C': 1, 'kernel': 'sigmoid'}</td>\n",
       "      <td>0.368421</td>\n",
       "      <td>0.351351</td>\n",
       "      <td>0.351351</td>\n",
       "      <td>0.357041</td>\n",
       "      <td>0.008047</td>\n",
       "      <td>10</td>\n",
       "    </tr>\n",
       "    <tr>\n",
       "      <th>8</th>\n",
       "      <td>0.003760</td>\n",
       "      <td>0.000423</td>\n",
       "      <td>0.002659</td>\n",
       "      <td>0.000333</td>\n",
       "      <td>10</td>\n",
       "      <td>linear</td>\n",
       "      <td>{'C': 10, 'kernel': 'linear'}</td>\n",
       "      <td>0.947368</td>\n",
       "      <td>0.972973</td>\n",
       "      <td>0.918919</td>\n",
       "      <td>0.946420</td>\n",
       "      <td>0.022078</td>\n",
       "      <td>7</td>\n",
       "    </tr>\n",
       "    <tr>\n",
       "      <th>9</th>\n",
       "      <td>0.004453</td>\n",
       "      <td>0.000755</td>\n",
       "      <td>0.002508</td>\n",
       "      <td>0.000103</td>\n",
       "      <td>10</td>\n",
       "      <td>poly</td>\n",
       "      <td>{'C': 10, 'kernel': 'poly'}</td>\n",
       "      <td>0.921053</td>\n",
       "      <td>0.972973</td>\n",
       "      <td>0.918919</td>\n",
       "      <td>0.937648</td>\n",
       "      <td>0.024994</td>\n",
       "      <td>8</td>\n",
       "    </tr>\n",
       "    <tr>\n",
       "      <th>10</th>\n",
       "      <td>0.004332</td>\n",
       "      <td>0.000757</td>\n",
       "      <td>0.003176</td>\n",
       "      <td>0.000364</td>\n",
       "      <td>10</td>\n",
       "      <td>rbf</td>\n",
       "      <td>{'C': 10, 'kernel': 'rbf'}</td>\n",
       "      <td>1.000000</td>\n",
       "      <td>0.972973</td>\n",
       "      <td>0.972973</td>\n",
       "      <td>0.981982</td>\n",
       "      <td>0.012741</td>\n",
       "      <td>1</td>\n",
       "    </tr>\n",
       "    <tr>\n",
       "      <th>11</th>\n",
       "      <td>0.005562</td>\n",
       "      <td>0.000661</td>\n",
       "      <td>0.003428</td>\n",
       "      <td>0.000818</td>\n",
       "      <td>10</td>\n",
       "      <td>sigmoid</td>\n",
       "      <td>{'C': 10, 'kernel': 'sigmoid'}</td>\n",
       "      <td>0.210526</td>\n",
       "      <td>0.297297</td>\n",
       "      <td>0.243243</td>\n",
       "      <td>0.250356</td>\n",
       "      <td>0.035779</td>\n",
       "      <td>12</td>\n",
       "    </tr>\n",
       "  </tbody>\n",
       "</table>\n",
       "</div>"
      ],
      "text/plain": [
       "    mean_fit_time  std_fit_time  mean_score_time  std_score_time param_C  \\\n",
       "0        0.003228      0.000145         0.002065        0.000645     0.1   \n",
       "1        0.003249      0.000082         0.001860        0.000418     0.1   \n",
       "2        0.003456      0.000053         0.001981        0.000424     0.1   \n",
       "3        0.003865      0.000290         0.002149        0.000506     0.1   \n",
       "4        0.003543      0.000460         0.002302        0.000091       1   \n",
       "5        0.003509      0.000452         0.002630        0.000460       1   \n",
       "6        0.003940      0.000466         0.002706        0.000336       1   \n",
       "7        0.004211      0.000627         0.003025        0.000451       1   \n",
       "8        0.003760      0.000423         0.002659        0.000333      10   \n",
       "9        0.004453      0.000755         0.002508        0.000103      10   \n",
       "10       0.004332      0.000757         0.003176        0.000364      10   \n",
       "11       0.005562      0.000661         0.003428        0.000818      10   \n",
       "\n",
       "   param_kernel                           params  split0_test_score  \\\n",
       "0        linear   {'C': 0.1, 'kernel': 'linear'}           0.973684   \n",
       "1          poly     {'C': 0.1, 'kernel': 'poly'}           0.973684   \n",
       "2           rbf      {'C': 0.1, 'kernel': 'rbf'}           0.763158   \n",
       "3       sigmoid  {'C': 0.1, 'kernel': 'sigmoid'}           0.368421   \n",
       "4        linear     {'C': 1, 'kernel': 'linear'}           1.000000   \n",
       "5          poly       {'C': 1, 'kernel': 'poly'}           0.947368   \n",
       "6           rbf        {'C': 1, 'kernel': 'rbf'}           0.973684   \n",
       "7       sigmoid    {'C': 1, 'kernel': 'sigmoid'}           0.368421   \n",
       "8        linear    {'C': 10, 'kernel': 'linear'}           0.947368   \n",
       "9          poly      {'C': 10, 'kernel': 'poly'}           0.921053   \n",
       "10          rbf       {'C': 10, 'kernel': 'rbf'}           1.000000   \n",
       "11      sigmoid   {'C': 10, 'kernel': 'sigmoid'}           0.210526   \n",
       "\n",
       "    split1_test_score  split2_test_score  mean_test_score  std_test_score  \\\n",
       "0            0.972973           0.972973         0.973210        0.000335   \n",
       "1            0.972973           0.972973         0.973210        0.000335   \n",
       "2            0.864865           0.756757         0.794927        0.049523   \n",
       "3            0.351351           0.351351         0.357041        0.008047   \n",
       "4            0.972973           0.972973         0.981982        0.012741   \n",
       "5            0.945946           0.972973         0.955429        0.012419   \n",
       "6            0.972973           0.972973         0.973210        0.000335   \n",
       "7            0.351351           0.351351         0.357041        0.008047   \n",
       "8            0.972973           0.918919         0.946420        0.022078   \n",
       "9            0.972973           0.918919         0.937648        0.024994   \n",
       "10           0.972973           0.972973         0.981982        0.012741   \n",
       "11           0.297297           0.243243         0.250356        0.035779   \n",
       "\n",
       "    rank_test_score  \n",
       "0                 3  \n",
       "1                 3  \n",
       "2                 9  \n",
       "3                10  \n",
       "4                 1  \n",
       "5                 6  \n",
       "6                 3  \n",
       "7                10  \n",
       "8                 7  \n",
       "9                 8  \n",
       "10                1  \n",
       "11               12  "
      ]
     },
     "execution_count": 96,
     "metadata": {},
     "output_type": "execute_result"
    }
   ],
   "source": [
    "pd.DataFrame(cv.cv_results_)"
   ]
  },
  {
   "cell_type": "markdown",
   "metadata": {},
   "source": [
    "#### Optuna"
   ]
  },
  {
   "cell_type": "code",
   "execution_count": 97,
   "metadata": {},
   "outputs": [],
   "source": [
    "url = 'https://bit.ly/3eoBK6t'\n",
    "iris = pd.read_csv(url)\n",
    "\n",
    "X = iris.iloc[:, :-1]\n",
    "y = iris.species.astype('category').cat.codes\n",
    "\n",
    "X_train, X_test, y_train, y_test = train_test_split(X, y)"
   ]
  },
  {
   "cell_type": "code",
   "execution_count": 98,
   "metadata": {},
   "outputs": [],
   "source": [
    "n, p = X_train.shape"
   ]
  },
  {
   "cell_type": "code",
   "execution_count": 99,
   "metadata": {},
   "outputs": [],
   "source": [
    "from sklearn.ensemble import RandomForestClassifier\n",
    "from sklearn.model_selection import cross_val_score"
   ]
  },
  {
   "cell_type": "code",
   "execution_count": 100,
   "metadata": {
    "scrolled": true
   },
   "outputs": [
    {
     "name": "stderr",
     "output_type": "stream",
     "text": [
      "\u001b[32m[I 2020-11-04 12:47:30,511]\u001b[0m A new study created in RDB with name: no-name-97aab8f6-8b87-4d03-afe2-5f85415b9671\u001b[0m\n"
     ]
    }
   ],
   "source": [
    "import optuna\n",
    "\n",
    "class Objective(object):\n",
    "    def __init__(self, X, y):\n",
    "        self.X = X\n",
    "        self.y = y\n",
    "\n",
    "    def __call__(self, trial):\n",
    "        X, y = self.X, self.y # load data once only\n",
    "\n",
    "        criterion = trial.suggest_categorical('criterion', ['gini', 'entropy'])\n",
    "        n_estimators = trial.suggest_int('n_estimators', 50, 201)\n",
    "        max_features = trial.suggest_float('max_features', 1/p, 1)\n",
    "        max_depth = trial.suggest_float('max_depth', 1, 128, log=True)\n",
    "        min_samples_split = trial.suggest_int('min_samples_split', 2, 11, 1)\n",
    "        min_samples_leaf = trial.suggest_int('min_samples_leaf', 1, 11, 1)\n",
    "\n",
    "        clf = RandomForestClassifier(\n",
    "            criterion = criterion,\n",
    "            n_estimators = n_estimators,\n",
    "            max_features = max_features,\n",
    "            max_depth = max_depth,\n",
    "            min_samples_split = min_samples_split,\n",
    "            min_samples_leaf = min_samples_leaf,\n",
    "        )\n",
    "\n",
    "        score = cross_val_score(clf, X, y,  cv=5).mean()\n",
    "        return score\n",
    "    \n",
    "objective =  Objective(X_train, y_train)\n",
    "study = optuna.create_study(direction='maximize', storage='sqlite:///memory')\n",
    "\n",
    "n_jobs = 4\n",
    "with parallel_backend('spark', n_jobs=n_jobs):\n",
    "    study.optimize(objective, n_trials=100, n_jobs=n_jobs)"
   ]
  },
  {
   "cell_type": "code",
   "execution_count": 101,
   "metadata": {},
   "outputs": [
    {
     "data": {
      "text/html": [
       "<div>\n",
       "<style scoped>\n",
       "    .dataframe tbody tr th:only-of-type {\n",
       "        vertical-align: middle;\n",
       "    }\n",
       "\n",
       "    .dataframe tbody tr th {\n",
       "        vertical-align: top;\n",
       "    }\n",
       "\n",
       "    .dataframe thead th {\n",
       "        text-align: right;\n",
       "    }\n",
       "</style>\n",
       "<table border=\"1\" class=\"dataframe\">\n",
       "  <thead>\n",
       "    <tr style=\"text-align: right;\">\n",
       "      <th></th>\n",
       "      <th>number</th>\n",
       "      <th>value</th>\n",
       "      <th>datetime_start</th>\n",
       "      <th>datetime_complete</th>\n",
       "      <th>duration</th>\n",
       "      <th>params_criterion</th>\n",
       "      <th>params_max_depth</th>\n",
       "      <th>params_max_features</th>\n",
       "      <th>params_min_samples_leaf</th>\n",
       "      <th>params_min_samples_split</th>\n",
       "      <th>params_n_estimators</th>\n",
       "      <th>state</th>\n",
       "    </tr>\n",
       "  </thead>\n",
       "  <tbody>\n",
       "    <tr>\n",
       "      <th>0</th>\n",
       "      <td>0</td>\n",
       "      <td>0.804348</td>\n",
       "      <td>2020-11-04 12:47:31.659174</td>\n",
       "      <td>2020-11-04 12:47:32.204716</td>\n",
       "      <td>0 days 00:00:00.545542</td>\n",
       "      <td>entropy</td>\n",
       "      <td>1.966860</td>\n",
       "      <td>0.457199</td>\n",
       "      <td>9</td>\n",
       "      <td>8</td>\n",
       "      <td>74</td>\n",
       "      <td>COMPLETE</td>\n",
       "    </tr>\n",
       "    <tr>\n",
       "      <th>1</th>\n",
       "      <td>1</td>\n",
       "      <td>0.964032</td>\n",
       "      <td>2020-11-04 12:47:31.659435</td>\n",
       "      <td>2020-11-04 12:47:32.745937</td>\n",
       "      <td>0 days 00:00:01.086502</td>\n",
       "      <td>gini</td>\n",
       "      <td>1.792140</td>\n",
       "      <td>0.997070</td>\n",
       "      <td>1</td>\n",
       "      <td>10</td>\n",
       "      <td>147</td>\n",
       "      <td>COMPLETE</td>\n",
       "    </tr>\n",
       "    <tr>\n",
       "      <th>2</th>\n",
       "      <td>2</td>\n",
       "      <td>0.955336</td>\n",
       "      <td>2020-11-04 12:47:31.659935</td>\n",
       "      <td>2020-11-04 12:47:32.810389</td>\n",
       "      <td>0 days 00:00:01.150454</td>\n",
       "      <td>entropy</td>\n",
       "      <td>118.759561</td>\n",
       "      <td>0.262684</td>\n",
       "      <td>1</td>\n",
       "      <td>8</td>\n",
       "      <td>146</td>\n",
       "      <td>COMPLETE</td>\n",
       "    </tr>\n",
       "    <tr>\n",
       "      <th>3</th>\n",
       "      <td>3</td>\n",
       "      <td>0.964427</td>\n",
       "      <td>2020-11-04 12:47:31.660439</td>\n",
       "      <td>2020-11-04 12:47:32.619121</td>\n",
       "      <td>0 days 00:00:00.958682</td>\n",
       "      <td>gini</td>\n",
       "      <td>4.435854</td>\n",
       "      <td>0.761082</td>\n",
       "      <td>7</td>\n",
       "      <td>4</td>\n",
       "      <td>128</td>\n",
       "      <td>COMPLETE</td>\n",
       "    </tr>\n",
       "    <tr>\n",
       "      <th>4</th>\n",
       "      <td>4</td>\n",
       "      <td>0.964427</td>\n",
       "      <td>2020-11-04 12:47:33.254434</td>\n",
       "      <td>2020-11-04 12:47:34.555648</td>\n",
       "      <td>0 days 00:00:01.301214</td>\n",
       "      <td>entropy</td>\n",
       "      <td>15.285156</td>\n",
       "      <td>0.795445</td>\n",
       "      <td>6</td>\n",
       "      <td>10</td>\n",
       "      <td>180</td>\n",
       "      <td>COMPLETE</td>\n",
       "    </tr>\n",
       "    <tr>\n",
       "      <th>5</th>\n",
       "      <td>5</td>\n",
       "      <td>0.937154</td>\n",
       "      <td>2020-11-04 12:47:33.691416</td>\n",
       "      <td>2020-11-04 12:47:34.149519</td>\n",
       "      <td>0 days 00:00:00.458103</td>\n",
       "      <td>gini</td>\n",
       "      <td>9.179145</td>\n",
       "      <td>0.301613</td>\n",
       "      <td>10</td>\n",
       "      <td>3</td>\n",
       "      <td>60</td>\n",
       "      <td>COMPLETE</td>\n",
       "    </tr>\n",
       "    <tr>\n",
       "      <th>6</th>\n",
       "      <td>6</td>\n",
       "      <td>0.964427</td>\n",
       "      <td>2020-11-04 12:47:33.780986</td>\n",
       "      <td>2020-11-04 12:47:34.522994</td>\n",
       "      <td>0 days 00:00:00.742008</td>\n",
       "      <td>gini</td>\n",
       "      <td>21.264760</td>\n",
       "      <td>0.675328</td>\n",
       "      <td>5</td>\n",
       "      <td>8</td>\n",
       "      <td>102</td>\n",
       "      <td>COMPLETE</td>\n",
       "    </tr>\n",
       "    <tr>\n",
       "      <th>7</th>\n",
       "      <td>7</td>\n",
       "      <td>0.964427</td>\n",
       "      <td>2020-11-04 12:47:33.831960</td>\n",
       "      <td>2020-11-04 12:47:34.710602</td>\n",
       "      <td>0 days 00:00:00.878642</td>\n",
       "      <td>gini</td>\n",
       "      <td>4.772650</td>\n",
       "      <td>0.518421</td>\n",
       "      <td>2</td>\n",
       "      <td>9</td>\n",
       "      <td>119</td>\n",
       "      <td>COMPLETE</td>\n",
       "    </tr>\n",
       "    <tr>\n",
       "      <th>8</th>\n",
       "      <td>8</td>\n",
       "      <td>0.955336</td>\n",
       "      <td>2020-11-04 12:47:35.174596</td>\n",
       "      <td>2020-11-04 12:47:36.389685</td>\n",
       "      <td>0 days 00:00:01.215089</td>\n",
       "      <td>entropy</td>\n",
       "      <td>30.773008</td>\n",
       "      <td>0.600859</td>\n",
       "      <td>8</td>\n",
       "      <td>5</td>\n",
       "      <td>175</td>\n",
       "      <td>COMPLETE</td>\n",
       "    </tr>\n",
       "    <tr>\n",
       "      <th>9</th>\n",
       "      <td>9</td>\n",
       "      <td>0.855336</td>\n",
       "      <td>2020-11-04 12:47:35.531175</td>\n",
       "      <td>2020-11-04 12:47:36.231259</td>\n",
       "      <td>0 days 00:00:00.700084</td>\n",
       "      <td>entropy</td>\n",
       "      <td>1.937602</td>\n",
       "      <td>0.955016</td>\n",
       "      <td>6</td>\n",
       "      <td>10</td>\n",
       "      <td>99</td>\n",
       "      <td>COMPLETE</td>\n",
       "    </tr>\n",
       "  </tbody>\n",
       "</table>\n",
       "</div>"
      ],
      "text/plain": [
       "   number     value             datetime_start          datetime_complete  \\\n",
       "0       0  0.804348 2020-11-04 12:47:31.659174 2020-11-04 12:47:32.204716   \n",
       "1       1  0.964032 2020-11-04 12:47:31.659435 2020-11-04 12:47:32.745937   \n",
       "2       2  0.955336 2020-11-04 12:47:31.659935 2020-11-04 12:47:32.810389   \n",
       "3       3  0.964427 2020-11-04 12:47:31.660439 2020-11-04 12:47:32.619121   \n",
       "4       4  0.964427 2020-11-04 12:47:33.254434 2020-11-04 12:47:34.555648   \n",
       "5       5  0.937154 2020-11-04 12:47:33.691416 2020-11-04 12:47:34.149519   \n",
       "6       6  0.964427 2020-11-04 12:47:33.780986 2020-11-04 12:47:34.522994   \n",
       "7       7  0.964427 2020-11-04 12:47:33.831960 2020-11-04 12:47:34.710602   \n",
       "8       8  0.955336 2020-11-04 12:47:35.174596 2020-11-04 12:47:36.389685   \n",
       "9       9  0.855336 2020-11-04 12:47:35.531175 2020-11-04 12:47:36.231259   \n",
       "\n",
       "                duration params_criterion  params_max_depth  \\\n",
       "0 0 days 00:00:00.545542          entropy          1.966860   \n",
       "1 0 days 00:00:01.086502             gini          1.792140   \n",
       "2 0 days 00:00:01.150454          entropy        118.759561   \n",
       "3 0 days 00:00:00.958682             gini          4.435854   \n",
       "4 0 days 00:00:01.301214          entropy         15.285156   \n",
       "5 0 days 00:00:00.458103             gini          9.179145   \n",
       "6 0 days 00:00:00.742008             gini         21.264760   \n",
       "7 0 days 00:00:00.878642             gini          4.772650   \n",
       "8 0 days 00:00:01.215089          entropy         30.773008   \n",
       "9 0 days 00:00:00.700084          entropy          1.937602   \n",
       "\n",
       "   params_max_features  params_min_samples_leaf  params_min_samples_split  \\\n",
       "0             0.457199                        9                         8   \n",
       "1             0.997070                        1                        10   \n",
       "2             0.262684                        1                         8   \n",
       "3             0.761082                        7                         4   \n",
       "4             0.795445                        6                        10   \n",
       "5             0.301613                       10                         3   \n",
       "6             0.675328                        5                         8   \n",
       "7             0.518421                        2                         9   \n",
       "8             0.600859                        8                         5   \n",
       "9             0.955016                        6                        10   \n",
       "\n",
       "   params_n_estimators     state  \n",
       "0                   74  COMPLETE  \n",
       "1                  147  COMPLETE  \n",
       "2                  146  COMPLETE  \n",
       "3                  128  COMPLETE  \n",
       "4                  180  COMPLETE  \n",
       "5                   60  COMPLETE  \n",
       "6                  102  COMPLETE  \n",
       "7                  119  COMPLETE  \n",
       "8                  175  COMPLETE  \n",
       "9                   99  COMPLETE  "
      ]
     },
     "execution_count": 101,
     "metadata": {},
     "output_type": "execute_result"
    }
   ],
   "source": [
    "study.trials_dataframe().head(10)"
   ]
  },
  {
   "cell_type": "markdown",
   "metadata": {},
   "source": [
    "### Using spark with a non-MLLib classifier\n",
    "\n",
    "While there is no easy way to train a general ML model in parallel, we can use Spark for distributed predictions once the model is trained,"
   ]
  },
  {
   "cell_type": "code",
   "execution_count": 102,
   "metadata": {},
   "outputs": [],
   "source": [
    "url = 'https://bit.ly/3eoBK6t'\n",
    "iris = pd.read_csv(url)\n",
    "\n",
    "X = iris.iloc[:, :-1]\n",
    "y = iris.species.astype('category').cat.codes\n",
    "\n",
    "X_train, X_test, y_train, y_test = train_test_split(X, y)"
   ]
  },
  {
   "cell_type": "markdown",
   "metadata": {},
   "source": [
    "#### Train scikit-learn model\n",
    "\n",
    "We use the best parameters found by Optuna in the distributed hyperparameter optimization above."
   ]
  },
  {
   "cell_type": "code",
   "execution_count": 103,
   "metadata": {},
   "outputs": [
    {
     "data": {
      "text/plain": [
       "{'criterion': 'gini',\n",
       " 'max_depth': 4.435854141101209,\n",
       " 'max_features': 0.7610816811817611,\n",
       " 'min_samples_leaf': 7,\n",
       " 'min_samples_split': 4,\n",
       " 'n_estimators': 128}"
      ]
     },
     "execution_count": 103,
     "metadata": {},
     "output_type": "execute_result"
    }
   ],
   "source": [
    "study.best_params"
   ]
  },
  {
   "cell_type": "code",
   "execution_count": 104,
   "metadata": {},
   "outputs": [],
   "source": [
    "rf = RandomForestClassifier(**study.best_params, random_state=0)"
   ]
  },
  {
   "cell_type": "code",
   "execution_count": 105,
   "metadata": {},
   "outputs": [
    {
     "data": {
      "text/plain": [
       "RandomForestClassifier(max_depth=4.435854141101209,\n",
       "                       max_features=0.7610816811817611, min_samples_leaf=7,\n",
       "                       min_samples_split=4, n_estimators=128, random_state=0)"
      ]
     },
     "execution_count": 105,
     "metadata": {},
     "output_type": "execute_result"
    }
   ],
   "source": [
    "rf.fit(X_train, y_train)"
   ]
  },
  {
   "cell_type": "code",
   "execution_count": 106,
   "metadata": {},
   "outputs": [
    {
     "data": {
      "text/plain": [
       "['rf.joblib']"
      ]
     },
     "execution_count": 106,
     "metadata": {},
     "output_type": "execute_result"
    }
   ],
   "source": [
    "from joblib import dump, load\n",
    "\n",
    "dump(rf, 'rf.joblib') "
   ]
  },
  {
   "cell_type": "code",
   "execution_count": 107,
   "metadata": {},
   "outputs": [],
   "source": [
    "def predict(iterartor):\n",
    "    model = load('rf.joblib') # model is only loaded once\n",
    "    for features in iterartor:\n",
    "        yield pd.DataFrame(model.predict(features))"
   ]
  },
  {
   "cell_type": "code",
   "execution_count": 108,
   "metadata": {},
   "outputs": [],
   "source": [
    "df = spark.createDataFrame(X_test)"
   ]
  },
  {
   "cell_type": "code",
   "execution_count": 109,
   "metadata": {},
   "outputs": [
    {
     "name": "stdout",
     "output_type": "stream",
     "text": [
      "Help on method mapInPandas in module pyspark.sql.pandas.map_ops:\n",
      "\n",
      "mapInPandas(func, schema) method of pyspark.sql.dataframe.DataFrame instance\n",
      "    Maps an iterator of batches in the current :class:`DataFrame` using a Python native\n",
      "    function that takes and outputs a pandas DataFrame, and returns the result as a\n",
      "    :class:`DataFrame`.\n",
      "    \n",
      "    The function should take an iterator of `pandas.DataFrame`\\s and return\n",
      "    another iterator of `pandas.DataFrame`\\s. All columns are passed\n",
      "    together as an iterator of `pandas.DataFrame`\\s to the function and the\n",
      "    returned iterator of `pandas.DataFrame`\\s are combined as a :class:`DataFrame`.\n",
      "    Each `pandas.DataFrame` size can be controlled by\n",
      "    `spark.sql.execution.arrow.maxRecordsPerBatch`.\n",
      "    \n",
      "    :param func: a Python native function that takes an iterator of `pandas.DataFrame`\\s, and\n",
      "        outputs an iterator of `pandas.DataFrame`\\s.\n",
      "    :param schema: the return type of the `func` in PySpark. The value can be either a\n",
      "        :class:`pyspark.sql.types.DataType` object or a DDL-formatted type string.\n",
      "    \n",
      "    >>> from pyspark.sql.functions import pandas_udf\n",
      "    >>> df = spark.createDataFrame([(1, 21), (2, 30)], (\"id\", \"age\"))\n",
      "    >>> def filter_func(iterator):\n",
      "    ...     for pdf in iterator:\n",
      "    ...         yield pdf[pdf.id == 1]\n",
      "    >>> df.mapInPandas(filter_func, df.schema).show()  # doctest: +SKIP\n",
      "    +---+---+\n",
      "    | id|age|\n",
      "    +---+---+\n",
      "    |  1| 21|\n",
      "    +---+---+\n",
      "    \n",
      "    .. seealso:: :meth:`pyspark.sql.functions.pandas_udf`\n",
      "    \n",
      "    .. note:: Experimental\n",
      "    \n",
      "    .. versionadded:: 3.0\n",
      "\n"
     ]
    }
   ],
   "source": [
    "help(df.mapInPandas)"
   ]
  },
  {
   "cell_type": "code",
   "execution_count": 110,
   "metadata": {},
   "outputs": [],
   "source": [
    "pred = df.mapInPandas(predict, 'pred double')"
   ]
  },
  {
   "cell_type": "markdown",
   "metadata": {},
   "source": [
    "#### Prediction from local copy"
   ]
  },
  {
   "cell_type": "code",
   "execution_count": 111,
   "metadata": {},
   "outputs": [
    {
     "data": {
      "text/plain": [
       "array([2, 1, 1, 1, 1], dtype=int8)"
      ]
     },
     "execution_count": 111,
     "metadata": {},
     "output_type": "execute_result"
    }
   ],
   "source": [
    "rf.predict(X_test)[:5]"
   ]
  },
  {
   "cell_type": "markdown",
   "metadata": {},
   "source": [
    "#### Prediction on spark cluster"
   ]
  },
  {
   "cell_type": "code",
   "execution_count": 112,
   "metadata": {},
   "outputs": [
    {
     "name": "stdout",
     "output_type": "stream",
     "text": [
      "+----+\n",
      "|pred|\n",
      "+----+\n",
      "| 2.0|\n",
      "| 1.0|\n",
      "| 1.0|\n",
      "| 1.0|\n",
      "| 1.0|\n",
      "+----+\n",
      "only showing top 5 rows\n",
      "\n"
     ]
    }
   ],
   "source": [
    "pred.show(5)"
   ]
  },
  {
   "cell_type": "code",
   "execution_count": null,
   "metadata": {},
   "outputs": [],
   "source": []
  }
 ],
 "metadata": {
  "kernelspec": {
   "display_name": "Python 3.8.5 64-bit",
   "language": "python",
   "name": "python38564bit02a66c47ce504b05b2ef5646cfed96c2"
  },
  "language_info": {
   "codemirror_mode": {
    "name": "ipython",
    "version": 3
   },
   "file_extension": ".py",
   "mimetype": "text/x-python",
   "name": "python",
   "nbconvert_exporter": "python",
   "pygments_lexer": "ipython3",
   "version": "3.8.5"
  }
 },
 "nbformat": 4,
 "nbformat_minor": 1
}
