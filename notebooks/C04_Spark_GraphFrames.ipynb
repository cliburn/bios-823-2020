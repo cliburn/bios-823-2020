{
 "cells": [
  {
   "cell_type": "markdown",
   "metadata": {},
   "source": [
    "# Spark GraphFrames\n",
    "\n",
    "Spark GraphFrames is a package that you need to install separately. Assuming you have a local Spark installation working, this is what I had to do.\n",
    "\n",
    "Note: The documentation suggests using `--package` rather than `--jars` but that did not work for me.\n",
    "\n",
    "Environment variables \n",
    "```bash\n",
    "export SPARK_HOME=/usr/local/spark\n",
    "export PYSPARK_PYTHON=python3\n",
    "export PYSPARK_DRIVER_PYTHON=jupyter\n",
    "export PYSPARK_DRIVER_PYTHON_OPTS=notebook\n",
    "```\n",
    "\n",
    "Download the GraphFrames package and move to the spark `jars` folder\n",
    "```bash\n",
    "wget http://dl.bintray.com/spark-packages/maven/graphframes/graphframes/0.8.1-spark3.0-s_2.12/graphframes-0.8.1-spark3.0-s_2.12.jar\n",
    "cp 0.8.1-spark3.0-s_2.12/graphframes-0.8.1-spark3.0-s_2.12.jar $SPARK_HOME/jars/\n",
    "```\n",
    "\n",
    "Start `pyspark` on command line with\n",
    "```bash\n",
    "pyspark --jars graphframes-0.8.1-spark3.0-s_2.12.jar\n",
    "```\n",
    "\n",
    "You can also set this as an environment variable.\n",
    "\n",
    "```bash\n",
    "export SPARK_OPTS=\"--jars graphframes-0.8.1-spark3.0-s_2.12.jar\"\n",
    "```"
   ]
  },
  {
   "cell_type": "code",
   "execution_count": 1,
   "metadata": {},
   "outputs": [],
   "source": [
    "from pyspark.sql import SparkSession"
   ]
  },
  {
   "cell_type": "code",
   "execution_count": 2,
   "metadata": {},
   "outputs": [],
   "source": [
    "spark = (\n",
    "    SparkSession.builder \n",
    "    .master(\"local\") \n",
    "    .appName(\"BIOS-823\") \n",
    "    .config(\"spark.executor.cores\", 4) \n",
    "    .getOrCreate()    \n",
    ")"
   ]
  },
  {
   "cell_type": "code",
   "execution_count": 3,
   "metadata": {},
   "outputs": [],
   "source": [
    "from graphframes import *"
   ]
  },
  {
   "cell_type": "markdown",
   "metadata": {},
   "source": [
    "### Utility plotting function"
   ]
  },
  {
   "cell_type": "code",
   "execution_count": 4,
   "metadata": {},
   "outputs": [],
   "source": [
    "import networkx as nx\n",
    "\n",
    "def plot_graph(es):\n",
    "    g = nx.DiGraph()\n",
    "    for row in es.select('src','dst').collect():\n",
    "        g.add_edge(row['src'],row['dst'])\n",
    "\n",
    "    nx.draw(g, with_labels=True, node_color='yellow')"
   ]
  },
  {
   "cell_type": "markdown",
   "metadata": {},
   "source": [
    "## Graph construction"
   ]
  },
  {
   "cell_type": "code",
   "execution_count": 5,
   "metadata": {},
   "outputs": [],
   "source": [
    "vs = spark.createDataFrame(\n",
    "    [(1, 'a'), (2, 'b'), (3, 'c'), (4, 'd'), (5, 'e')],\n",
    "    ['id', 'name']\n",
    ")\n",
    "\n",
    "es = spark.createDataFrame([\n",
    "    (1, 2, 'friend'),\n",
    "    (1, 3, 'friend'),\n",
    "    (2, 3, 'friend'),\n",
    "    (1, 4, 'enemy'),\n",
    "    (1, 5, 'enemy'),\n",
    "    (2, 4, 'fried'),\n",
    "    (5, 3, 'friend')],\n",
    "    ['src', 'dst', 'type']\n",
    ")"
   ]
  },
  {
   "cell_type": "code",
   "execution_count": 6,
   "metadata": {},
   "outputs": [],
   "source": [
    "g = GraphFrame(vs, es)"
   ]
  },
  {
   "cell_type": "code",
   "execution_count": 7,
   "metadata": {},
   "outputs": [
    {
     "data": {
      "image/png": "[encoded data removed]",
      "text/plain": [
       "<Figure size 432x288 with 1 Axes>"
      ]
     },
     "metadata": {},
     "output_type": "display_data"
    }
   ],
   "source": [
    "plot_graph(g.edges)"
   ]
  },
  {
   "cell_type": "code",
   "execution_count": 8,
   "metadata": {},
   "outputs": [
    {
     "name": "stdout",
     "output_type": "stream",
     "text": [
      "+---+----+\n",
      "| id|name|\n",
      "+---+----+\n",
      "|  1|   a|\n",
      "|  2|   b|\n",
      "|  3|   c|\n",
      "|  4|   d|\n",
      "|  5|   e|\n",
      "+---+----+\n",
      "\n"
     ]
    }
   ],
   "source": [
    "g.vertices.show()"
   ]
  },
  {
   "cell_type": "code",
   "execution_count": 9,
   "metadata": {},
   "outputs": [
    {
     "name": "stdout",
     "output_type": "stream",
     "text": [
      "+---+---+------+\n",
      "|src|dst|  type|\n",
      "+---+---+------+\n",
      "|  1|  2|friend|\n",
      "|  1|  3|friend|\n",
      "|  2|  3|friend|\n",
      "|  1|  4| enemy|\n",
      "|  1|  5| enemy|\n",
      "|  2|  4| fried|\n",
      "|  5|  3|friend|\n",
      "+---+---+------+\n",
      "\n"
     ]
    }
   ],
   "source": [
    "g.edges.show()"
   ]
  },
  {
   "cell_type": "code",
   "execution_count": 10,
   "metadata": {},
   "outputs": [
    {
     "name": "stdout",
     "output_type": "stream",
     "text": [
      "+---+------+\n",
      "| id|degree|\n",
      "+---+------+\n",
      "|  5|     2|\n",
      "|  1|     4|\n",
      "|  3|     3|\n",
      "|  2|     3|\n",
      "|  4|     2|\n",
      "+---+------+\n",
      "\n"
     ]
    }
   ],
   "source": [
    "g.degrees.show()"
   ]
  },
  {
   "cell_type": "code",
   "execution_count": 11,
   "metadata": {},
   "outputs": [
    {
     "name": "stdout",
     "output_type": "stream",
     "text": [
      "+---+--------+\n",
      "| id|inDegree|\n",
      "+---+--------+\n",
      "|  5|       1|\n",
      "|  3|       3|\n",
      "|  2|       1|\n",
      "|  4|       2|\n",
      "+---+--------+\n",
      "\n"
     ]
    }
   ],
   "source": [
    "g.inDegrees.show()"
   ]
  },
  {
   "cell_type": "code",
   "execution_count": 12,
   "metadata": {},
   "outputs": [
    {
     "name": "stdout",
     "output_type": "stream",
     "text": [
      "+---+---------+\n",
      "| id|outDegree|\n",
      "+---+---------+\n",
      "|  5|        1|\n",
      "|  1|        4|\n",
      "|  2|        2|\n",
      "+---+---------+\n",
      "\n"
     ]
    }
   ],
   "source": [
    "g.outDegrees.show()"
   ]
  },
  {
   "cell_type": "markdown",
   "metadata": {},
   "source": [
    "### Nodes and edges are just  DataFrames\n",
    "\n",
    "They can be manipulated using the usual methods."
   ]
  },
  {
   "cell_type": "code",
   "execution_count": 13,
   "metadata": {},
   "outputs": [
    {
     "name": "stdout",
     "output_type": "stream",
     "text": [
      "+---+----+\n",
      "| id|name|\n",
      "+---+----+\n",
      "|  1|   a|\n",
      "|  3|   c|\n",
      "|  5|   e|\n",
      "+---+----+\n",
      "\n"
     ]
    }
   ],
   "source": [
    "g.vertices.filter('id % 2 != 0').show()"
   ]
  },
  {
   "cell_type": "code",
   "execution_count": 14,
   "metadata": {},
   "outputs": [],
   "source": [
    "import pyspark.sql.functions as F"
   ]
  },
  {
   "cell_type": "code",
   "execution_count": 15,
   "metadata": {},
   "outputs": [
    {
     "name": "stdout",
     "output_type": "stream",
     "text": [
      "+---+----+---+\n",
      "| id|name|val|\n",
      "+---+----+---+\n",
      "|  1|   a|  1|\n",
      "|  2|   b|  4|\n",
      "|  3|   c|  9|\n",
      "|  4|   d| 16|\n",
      "|  5|   e| 25|\n",
      "+---+----+---+\n",
      "\n"
     ]
    }
   ],
   "source": [
    "g.vertices.withColumn('val', F.expr('id*id')).show()"
   ]
  },
  {
   "cell_type": "markdown",
   "metadata": {},
   "source": [
    "### Motifs\n",
    "\n",
    "GraphFrames has a domain specific language for finding motifs that is similar to the basic Cypher syntax - for example `(a) -[e]-> (c)` represents vertex `a` going to vertex `c` via edge `e`. Multiple such patterns can be combined using `;` as a separator. The results of a motif search are returned as a DataFrame. If you need to restrict based on node or edge attributes, filter on the resulting DataFrame."
   ]
  },
  {
   "cell_type": "markdown",
   "metadata": {},
   "source": [
    "Look for motifs where there is a 1-step and 2-step pathway between two vertices."
   ]
  },
  {
   "cell_type": "code",
   "execution_count": 16,
   "metadata": {},
   "outputs": [
    {
     "name": "stdout",
     "output_type": "stream",
     "text": [
      "+------+------+------+\n",
      "|     a|     c|     b|\n",
      "+------+------+------+\n",
      "|[1, a]|[3, c]|[2, b]|\n",
      "|[1, a]|[4, d]|[2, b]|\n",
      "|[1, a]|[3, c]|[5, e]|\n",
      "+------+------+------+\n",
      "\n"
     ]
    }
   ],
   "source": [
    "g.find('(a)-[]->(c); (a)-[]->(b); (b)-[]->(c)').show()"
   ]
  },
  {
   "cell_type": "markdown",
   "metadata": {},
   "source": [
    "Restrict to specific start and end points."
   ]
  },
  {
   "cell_type": "code",
   "execution_count": 17,
   "metadata": {},
   "outputs": [
    {
     "name": "stdout",
     "output_type": "stream",
     "text": [
      "+------+------+------+\n",
      "|     a|     b|     c|\n",
      "+------+------+------+\n",
      "|[1, a]|[2, b]|[4, d]|\n",
      "+------+------+------+\n",
      "\n"
     ]
    }
   ],
   "source": [
    "motifs = g.find('(a)-[]->(b); (b)-[]->(c)')\n",
    "motifs.filter(\"a.name == 'a' AND c.name == 'd'\").show()"
   ]
  },
  {
   "cell_type": "markdown",
   "metadata": {},
   "source": [
    "## Graph Algorithms"
   ]
  },
  {
   "cell_type": "markdown",
   "metadata": {},
   "source": [
    "Some graph algorithms require a checkpoint directory to store checkpoints. This command will create a directory `graphframes-checkpoints` in HDFS."
   ]
  },
  {
   "cell_type": "code",
   "execution_count": 18,
   "metadata": {},
   "outputs": [],
   "source": [
    "spark.sparkContext.setCheckpointDir('graphframes-checkpoints')"
   ]
  },
  {
   "cell_type": "markdown",
   "metadata": {},
   "source": [
    "### Load graph\n",
    "\n",
    "We load an directed email graph from [SNAP](https://snap.stanford.edu/data/email-Eu-core.html). From the description:\n",
    "\n",
    "> The network was generated using email data from a large European research institution. We have anonymized information about all incoming and outgoing email between members of the research institution. There is an edge (u, v) in the network if person u sent person v at least one email. The e-mails only represent communication between institution members (the core), and the dataset does not contain incoming messages from or outgoing messages to the rest of the world.\n",
    "\n",
    "> The dataset also contains \"ground-truth\" community memberships of the nodes. Each individual belongs to exactly one of 42 departments at the research institute.\n",
    "\n",
    "> This network represents the \"core\" of the email-EuAll network, which also contains links between members of the institution and people outside of the institution (although the node IDs are not the same)."
   ]
  },
  {
   "cell_type": "code",
   "execution_count": 19,
   "metadata": {},
   "outputs": [],
   "source": [
    "nodes = (\n",
    "    spark.read.csv('graph-data/email-Eu-core-department-labels.txt', sep=' ').\n",
    "    toDF('id', 'dept')\n",
    ")"
   ]
  },
  {
   "cell_type": "code",
   "execution_count": 20,
   "metadata": {},
   "outputs": [
    {
     "name": "stdout",
     "output_type": "stream",
     "text": [
      "+---+----+\n",
      "| id|dept|\n",
      "+---+----+\n",
      "|  0|   1|\n",
      "|  1|   1|\n",
      "|  2|  21|\n",
      "|  3|  21|\n",
      "|  4|  21|\n",
      "+---+----+\n",
      "only showing top 5 rows\n",
      "\n"
     ]
    }
   ],
   "source": [
    "nodes.show(5)"
   ]
  },
  {
   "cell_type": "code",
   "execution_count": 21,
   "metadata": {},
   "outputs": [],
   "source": [
    "edges = (\n",
    "    spark.read.csv('graph-data/email-Eu-core.txt', sep=' ', ).\n",
    "    toDF('src', 'dst')\n",
    "        )"
   ]
  },
  {
   "cell_type": "code",
   "execution_count": 22,
   "metadata": {},
   "outputs": [
    {
     "name": "stdout",
     "output_type": "stream",
     "text": [
      "+---+---+\n",
      "|src|dst|\n",
      "+---+---+\n",
      "|  0|  1|\n",
      "|  2|  3|\n",
      "|  2|  4|\n",
      "|  5|  6|\n",
      "|  5|  7|\n",
      "+---+---+\n",
      "only showing top 5 rows\n",
      "\n"
     ]
    }
   ],
   "source": [
    "edges.show(5)"
   ]
  },
  {
   "cell_type": "code",
   "execution_count": 23,
   "metadata": {},
   "outputs": [],
   "source": [
    "g = GraphFrame(nodes, edges)"
   ]
  },
  {
   "cell_type": "code",
   "execution_count": 24,
   "metadata": {},
   "outputs": [
    {
     "data": {
      "text/plain": [
       "1005"
      ]
     },
     "execution_count": 24,
     "metadata": {},
     "output_type": "execute_result"
    }
   ],
   "source": [
    "g.vertices.count()"
   ]
  },
  {
   "cell_type": "code",
   "execution_count": 25,
   "metadata": {},
   "outputs": [
    {
     "data": {
      "text/plain": [
       "25571"
      ]
     },
     "execution_count": 25,
     "metadata": {},
     "output_type": "execute_result"
    }
   ],
   "source": [
    "g.edges.count()"
   ]
  },
  {
   "cell_type": "markdown",
   "metadata": {},
   "source": [
    "#### Breadth First Search"
   ]
  },
  {
   "cell_type": "code",
   "execution_count": 26,
   "metadata": {},
   "outputs": [
    {
     "name": "stdout",
     "output_type": "stream",
     "text": [
      "+--------+----------+--------+\n",
      "|    from|        e0|      to|\n",
      "+--------+----------+--------+\n",
      "| [74, 1]| [74, 482]|[482, 2]|\n",
      "|[218, 1]|[218, 482]|[482, 2]|\n",
      "|[218, 1]|[218, 340]|[340, 2]|\n",
      "|[310, 1]|[310, 340]|[340, 2]|\n",
      "|[226, 1]|[226, 340]|[340, 2]|\n",
      "|[314, 1]|[314, 340]|[340, 2]|\n",
      "| [17, 1]| [17, 340]|[340, 2]|\n",
      "|[459, 1]|[459, 340]|[340, 2]|\n",
      "|[215, 1]|[215, 340]|[340, 2]|\n",
      "+--------+----------+--------+\n",
      "\n"
     ]
    }
   ],
   "source": [
    "g.bfs('dept == 1', 'dept == 2').show()"
   ]
  },
  {
   "cell_type": "markdown",
   "metadata": {},
   "source": [
    "#### Strongly connected components"
   ]
  },
  {
   "cell_type": "code",
   "execution_count": 27,
   "metadata": {},
   "outputs": [],
   "source": [
    "sc = g.stronglyConnectedComponents(maxIter=10)"
   ]
  },
  {
   "cell_type": "code",
   "execution_count": 28,
   "metadata": {},
   "outputs": [
    {
     "name": "stdout",
     "output_type": "stream",
     "text": [
      "+---+----+-------------+\n",
      "| id|dept|    component|\n",
      "+---+----+-------------+\n",
      "|807|  28| 292057776130|\n",
      "|338|  13|            0|\n",
      "| 52|   7|            0|\n",
      "|848|   3|1640677507078|\n",
      "|  4|  21|            0|\n",
      "|438|  13|            0|\n",
      "|629|   1|            0|\n",
      "| 10|   9|            0|\n",
      "|133|   4|            0|\n",
      "|613|   6|            0|\n",
      "|172|   4|            0|\n",
      "|251|  13|            0|\n",
      "|169|  13|            0|\n",
      "| 11|  14|            0|\n",
      "|515|   4|            0|\n",
      "|136|  13|            0|\n",
      "+---+----+-------------+\n",
      "\n"
     ]
    }
   ],
   "source": [
    "sc.sample(0.01).show()"
   ]
  },
  {
   "cell_type": "code",
   "execution_count": 29,
   "metadata": {},
   "outputs": [
    {
     "name": "stdout",
     "output_type": "stream",
     "text": [
      "+-------------+-----+\n",
      "|    component|count|\n",
      "+-------------+-----+\n",
      "| 867583393794|    1|\n",
      "|1133871366151|    1|\n",
      "|1211180777477|    1|\n",
      "|  34359738369|    1|\n",
      "| 884763262979|    1|\n",
      "| 970662608897|    1|\n",
      "|            0|  803|\n",
      "| 498216206342|    1|\n",
      "| 944892805121|    1|\n",
      "|1640677507080|    1|\n",
      "|1563368095745|    1|\n",
      "|   8589934596|    1|\n",
      "| 120259084293|    1|\n",
      "|1090921693185|    1|\n",
      "|1236950581248|    1|\n",
      "|1254130450435|    1|\n",
      "|1443109011461|    1|\n",
      "|1056561954824|    1|\n",
      "| 609885356034|    1|\n",
      "|  94489280515|    1|\n",
      "+-------------+-----+\n",
      "only showing top 20 rows\n",
      "\n"
     ]
    }
   ],
   "source": [
    "sc.groupby('component').count().show()"
   ]
  },
  {
   "cell_type": "markdown",
   "metadata": {},
   "source": [
    "#### Label Propagation"
   ]
  },
  {
   "cell_type": "code",
   "execution_count": 30,
   "metadata": {},
   "outputs": [],
   "source": [
    "lp = g.labelPropagation(maxIter=10)"
   ]
  },
  {
   "cell_type": "code",
   "execution_count": 31,
   "metadata": {},
   "outputs": [
    {
     "name": "stdout",
     "output_type": "stream",
     "text": [
      "+---+----+-------------+\n",
      "| id|dept|        label|\n",
      "+---+----+-------------+\n",
      "|393|   7| 747324309507|\n",
      "|608|  14|  94489280513|\n",
      "|506|  14|  94489280513|\n",
      "|389|   7| 747324309507|\n",
      "|446|  17|1005022347270|\n",
      "|108|   8| 747324309507|\n",
      "|103|   7| 747324309507|\n",
      "|179|   0| 747324309507|\n",
      "+---+----+-------------+\n",
      "\n"
     ]
    }
   ],
   "source": [
    "lp.sample(0.01).show()"
   ]
  },
  {
   "cell_type": "code",
   "execution_count": 32,
   "metadata": {},
   "outputs": [
    {
     "name": "stdout",
     "output_type": "stream",
     "text": [
      "+-------------+-----+\n",
      "|        label|count|\n",
      "+-------------+-----+\n",
      "| 747324309507|  792|\n",
      "|  94489280513|   80|\n",
      "| 472446402560|   43|\n",
      "|1090921693184|   39|\n",
      "|1005022347270|   17|\n",
      "+-------------+-----+\n",
      "only showing top 5 rows\n",
      "\n"
     ]
    }
   ],
   "source": [
    "lp.groupby('label').count().sort('count', ascending=False).show(5)"
   ]
  },
  {
   "cell_type": "markdown",
   "metadata": {},
   "source": [
    "#### Page Rank"
   ]
  },
  {
   "cell_type": "code",
   "execution_count": 33,
   "metadata": {},
   "outputs": [],
   "source": [
    "pr = g.pageRank(maxIter=10)"
   ]
  },
  {
   "cell_type": "code",
   "execution_count": 34,
   "metadata": {},
   "outputs": [
    {
     "name": "stdout",
     "output_type": "stream",
     "text": [
      "+---+----+-------------------+\n",
      "| id|dept|           pagerank|\n",
      "+---+----+-------------------+\n",
      "| 73|   1| 1.0273874854570975|\n",
      "|356|   8| 1.4882333203484108|\n",
      "|267|  14| 0.8435370539556691|\n",
      "|645|   1| 0.3778504619218465|\n",
      "|741|   7|0.44931058811408714|\n",
      "+---+----+-------------------+\n",
      "only showing top 5 rows\n",
      "\n"
     ]
    }
   ],
   "source": [
    "pr.vertices.show(5)"
   ]
  },
  {
   "cell_type": "markdown",
   "metadata": {},
   "source": [
    "### Shortest paths to landmarks"
   ]
  },
  {
   "cell_type": "code",
   "execution_count": 35,
   "metadata": {},
   "outputs": [],
   "source": [
    "sp = g.shortestPaths(landmarks = ['23'])"
   ]
  },
  {
   "cell_type": "code",
   "execution_count": 36,
   "metadata": {
    "scrolled": false
   },
   "outputs": [
    {
     "name": "stdout",
     "output_type": "stream",
     "text": [
      "+---+----+---------+\n",
      "| id|dept|distances|\n",
      "+---+----+---------+\n",
      "| 73|   1|[23 -> 2]|\n",
      "|356|   8|[23 -> 2]|\n",
      "|267|  14|[23 -> 3]|\n",
      "|645|   1|[23 -> 3]|\n",
      "|741|   7|[23 -> 3]|\n",
      "|955|   5|[23 -> 2]|\n",
      "|721|  11|[23 -> 3]|\n",
      "|112|   8|[23 -> 3]|\n",
      "| 35|  11|[23 -> 1]|\n",
      "|274|  17|[23 -> 3]|\n",
      "+---+----+---------+\n",
      "only showing top 10 rows\n",
      "\n"
     ]
    }
   ],
   "source": [
    "sp.show(10)"
   ]
  },
  {
   "cell_type": "code",
   "execution_count": null,
   "metadata": {},
   "outputs": [],
   "source": []
  }
 ],
 "metadata": {
  "kernelspec": {
   "display_name": "Python 3.8.5 64-bit",
   "language": "python",
   "name": "python38564bit02a66c47ce504b05b2ef5646cfed96c2"
  },
  "language_info": {
   "codemirror_mode": {
    "name": "ipython",
    "version": 3
   },
   "file_extension": ".py",
   "mimetype": "text/x-python",
   "name": "python",
   "nbconvert_exporter": "python",
   "pygments_lexer": "ipython3",
   "version": "3.8.5"
  }
 },
 "nbformat": 4,
 "nbformat_minor": 4
}
