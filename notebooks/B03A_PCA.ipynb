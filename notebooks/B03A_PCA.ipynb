{
 "cells": [
  {
   "cell_type": "code",
   "execution_count": 1,
   "metadata": {},
   "outputs": [],
   "source": [
    "%matplotlib inline\n",
    "import matplotlib as mpl\n",
    "import matplotlib.pyplot as plt"
   ]
  },
  {
   "cell_type": "code",
   "execution_count": 2,
   "metadata": {},
   "outputs": [],
   "source": [
    "import numpy as np\n",
    "import numpy.linalg as la"
   ]
  },
  {
   "cell_type": "markdown",
   "metadata": {},
   "source": [
    "# Dimension Reduction"
   ]
  },
  {
   "cell_type": "code",
   "execution_count": 3,
   "metadata": {},
   "outputs": [],
   "source": [
    "np.random.seed(123)\n",
    "np.set_printoptions(3)"
   ]
  },
  {
   "cell_type": "markdown",
   "metadata": {},
   "source": [
    "### PCA from scratch\n",
    "\n",
    "Principal Components Analysis (PCA) basically means to find and rank all the eigenvalues and eigenvectors of a covariance matrix. This is useful because high-dimensional data (with $p$ features) may have nearly all their variation in a small number of dimensions $k$, i.e. in the subspace spanned by the eigenvectors of the covariance matrix that have the $k$ largest eigenvalues. If we project the original data into this subspace, we can have a dimension reduction (from $p$ to $k$) with hopefully little loss of information.\n",
    "\n",
    "For zero-centered vectors,\n",
    "\n",
    "\\begin{align}\n",
    "\\text{Cov}(X, Y) &= \\frac{\\sum_{i=1}^n(X_i - \\bar{X})(Y_i - \\bar{Y})}{n-1} \\\\\n",
    "  &= \\frac{\\sum_{i=1}^nX_iY_i}{n-1} \\\\\n",
    "  &= \\frac{XY^T}{n-1}\n",
    "\\end{align}\n",
    "\n",
    "and so the covariance matrix for a data set X that has zero mean in each feature vector is just $XX^T/(n-1)$. \n",
    "\n",
    "In other words, we can also get the eigendecomposition of the covariance matrix from the positive semi-definite matrix $XX^T$.\n",
    "\n",
    "We will take advantage of this when we cover the SVD later in the course.\n",
    "\n",
    "Note: Here we are using a matrix of **row** vectors"
   ]
  },
  {
   "cell_type": "code",
   "execution_count": 4,
   "metadata": {},
   "outputs": [],
   "source": [
    "n = 100\n",
    "x1, x2, x3 = np.random.normal(0, 10, (3, n))\n",
    "x4 = x1 + np.random.normal(size=x1.shape)\n",
    "x5 = (x1 + x2)/2 + np.random.normal(size=x1.shape)\n",
    "x6 = (x1 + x2 + x3)/3 + np.random.normal(size=x1.shape)"
   ]
  },
  {
   "cell_type": "markdown",
   "metadata": {},
   "source": [
    "#### For PCA calculations, each column is an observation"
   ]
  },
  {
   "cell_type": "code",
   "execution_count": 5,
   "metadata": {},
   "outputs": [],
   "source": [
    "xs = np.c_[x1, x2, x3, x4, x5, x6].T"
   ]
  },
  {
   "cell_type": "code",
   "execution_count": 6,
   "metadata": {},
   "outputs": [
    {
     "data": {
      "text/plain": [
       "array([[-10.856,   9.973,   2.83 , -15.063,  -5.786,  16.514, -24.267,\n",
       "         -4.289,  12.659,  -8.667],\n",
       "       [  6.421, -19.779,   7.123,  25.983,  -0.246,   0.341,   1.795,\n",
       "        -18.62 ,   4.261, -16.054],\n",
       "       [  7.033,  -5.981,  22.007,   6.883,  -0.063,  -2.067,  -0.865,\n",
       "         -9.153,  -0.952,   2.787],\n",
       "       [-10.091,   9.144,   2.171, -14.452,  -5.93 ,  17.831, -24.971,\n",
       "         -3.539,  13.002,  -8.794],\n",
       "       [ -0.684,  -5.433,   4.485,   4.151,  -3.025,   9.405, -12.987,\n",
       "        -12.12 ,   8.496, -11.511],\n",
       "       [  1.618,  -5.193,  10.388,   6.864,  -0.771,   6.267,  -8.769,\n",
       "        -11.222,   3.621,  -7.55 ]])"
      ]
     },
     "execution_count": 6,
     "metadata": {},
     "output_type": "execute_result"
    }
   ],
   "source": [
    "xs[:, :10]"
   ]
  },
  {
   "cell_type": "markdown",
   "metadata": {},
   "source": [
    "#### Center each observation"
   ]
  },
  {
   "cell_type": "code",
   "execution_count": 7,
   "metadata": {},
   "outputs": [],
   "source": [
    "xc = xs - np.mean(xs, 1)[:, np.newaxis]"
   ]
  },
  {
   "cell_type": "code",
   "execution_count": 8,
   "metadata": {},
   "outputs": [
    {
     "data": {
      "text/plain": [
       "array([[-1.113e+01,  9.702e+00,  2.559e+00, -1.533e+01, -6.057e+00,\n",
       "         1.624e+01, -2.454e+01, -4.560e+00,  1.239e+01, -8.938e+00],\n",
       "       [ 6.616e+00, -1.958e+01,  7.318e+00,  2.618e+01, -5.090e-02,\n",
       "         5.368e-01,  1.991e+00, -1.842e+01,  4.457e+00, -1.586e+01],\n",
       "       [ 7.984e+00, -5.030e+00,  2.296e+01,  7.834e+00,  8.882e-01,\n",
       "        -1.115e+00,  8.609e-02, -8.202e+00, -7.123e-04,  3.738e+00],\n",
       "       [-1.023e+01,  9.007e+00,  2.033e+00, -1.459e+01, -6.068e+00,\n",
       "         1.769e+01, -2.511e+01, -3.676e+00,  1.286e+01, -8.931e+00],\n",
       "       [-7.496e-01, -5.498e+00,  4.419e+00,  4.085e+00, -3.091e+00,\n",
       "         9.339e+00, -1.305e+01, -1.219e+01,  8.431e+00, -1.158e+01],\n",
       "       [ 1.801e+00, -5.009e+00,  1.057e+01,  7.048e+00, -5.873e-01,\n",
       "         6.451e+00, -8.585e+00, -1.104e+01,  3.805e+00, -7.366e+00]])"
      ]
     },
     "execution_count": 8,
     "metadata": {},
     "output_type": "execute_result"
    }
   ],
   "source": [
    "xc[:, :10]"
   ]
  },
  {
   "cell_type": "markdown",
   "metadata": {},
   "source": [
    "#### Covariance\n",
    "\n",
    "Remember the formula for covariance\n",
    "\n",
    "$$\n",
    "\\text{Cov}(X, Y) = \\frac{\\sum_{i=1}^n(X_i - \\bar{X})(Y_i - \\bar{Y})}{n-1}\n",
    "$$\n",
    "\n",
    "where $\\text{Cov}(X, X)$ is the sample variance of $X$."
   ]
  },
  {
   "cell_type": "code",
   "execution_count": 9,
   "metadata": {},
   "outputs": [],
   "source": [
    "cov = (xc @ xc.T)/(n-1)"
   ]
  },
  {
   "cell_type": "code",
   "execution_count": 10,
   "metadata": {},
   "outputs": [
    {
     "data": {
      "text/plain": [
       "array([[128.578,  -2.133,  -6.661, 127.395,  63.27 ,  42.369],\n",
       "       [ -2.133,  95.051,   2.269,  -1.349,  44.885,  31.637],\n",
       "       [ -6.661,   2.269,  94.934,  -5.048,  -1.141,  30.275],\n",
       "       [127.395,  -1.349,  -5.048, 126.993,  63.196,  42.723],\n",
       "       [ 63.27 ,  44.885,  -1.141,  63.196,  54.408,  36.838],\n",
       "       [ 42.369,  31.637,  30.275,  42.723,  36.838,  36.563]])"
      ]
     },
     "execution_count": 10,
     "metadata": {},
     "output_type": "execute_result"
    }
   ],
   "source": [
    "cov"
   ]
  },
  {
   "cell_type": "markdown",
   "metadata": {},
   "source": [
    "#### Check"
   ]
  },
  {
   "cell_type": "code",
   "execution_count": 11,
   "metadata": {},
   "outputs": [
    {
     "data": {
      "text/plain": [
       "array([[128.578,  -2.133,  -6.661, 127.395,  63.27 ,  42.369],\n",
       "       [ -2.133,  95.051,   2.269,  -1.349,  44.885,  31.637],\n",
       "       [ -6.661,   2.269,  94.934,  -5.048,  -1.141,  30.275],\n",
       "       [127.395,  -1.349,  -5.048, 126.993,  63.196,  42.723],\n",
       "       [ 63.27 ,  44.885,  -1.141,  63.196,  54.408,  36.838],\n",
       "       [ 42.369,  31.637,  30.275,  42.723,  36.838,  36.563]])"
      ]
     },
     "execution_count": 11,
     "metadata": {},
     "output_type": "execute_result"
    }
   ],
   "source": [
    "np.cov(xs)"
   ]
  },
  {
   "cell_type": "markdown",
   "metadata": {},
   "source": [
    "#### Eigendecomposition"
   ]
  },
  {
   "cell_type": "code",
   "execution_count": 12,
   "metadata": {},
   "outputs": [],
   "source": [
    "e, v = la.eigh(cov)"
   ]
  },
  {
   "cell_type": "code",
   "execution_count": 13,
   "metadata": {},
   "outputs": [],
   "source": [
    "idx = np.argsort(e)[::-1]"
   ]
  },
  {
   "cell_type": "code",
   "execution_count": 14,
   "metadata": {},
   "outputs": [],
   "source": [
    "e = e[idx]\n",
    "v = v[:, idx]"
   ]
  },
  {
   "cell_type": "markdown",
   "metadata": {},
   "source": [
    "#### Explain the magnitude of the eigenvalues\n",
    "\n",
    "Note that $x4, x5, x6$ are linear combinations of $x1, x2, x3$ with some added noise, and hence the last 3 eigenvalues are small. "
   ]
  },
  {
   "cell_type": "code",
   "execution_count": 15,
   "metadata": {},
   "outputs": [
    {
     "data": {
      "image/png": "[encoded data removed]",
      "text/plain": [
       "<Figure size 432x288 with 1 Axes>"
      ]
     },
     "metadata": {},
     "output_type": "display_data"
    }
   ],
   "source": [
    "plt.stem(e)\n",
    "pass"
   ]
  },
  {
   "cell_type": "markdown",
   "metadata": {},
   "source": [
    "#### The eigenvalues and eigenvectors give a factorization of the covariance matrix"
   ]
  },
  {
   "cell_type": "code",
   "execution_count": 16,
   "metadata": {},
   "outputs": [
    {
     "data": {
      "text/plain": [
       "array([[128.578,  -2.133,  -6.661, 127.395,  63.27 ,  42.369],\n",
       "       [ -2.133,  95.051,   2.269,  -1.349,  44.885,  31.637],\n",
       "       [ -6.661,   2.269,  94.934,  -5.048,  -1.141,  30.275],\n",
       "       [127.395,  -1.349,  -5.048, 126.993,  63.196,  42.723],\n",
       "       [ 63.27 ,  44.885,  -1.141,  63.196,  54.408,  36.838],\n",
       "       [ 42.369,  31.637,  30.275,  42.723,  36.838,  36.563]])"
      ]
     },
     "execution_count": 16,
     "metadata": {},
     "output_type": "execute_result"
    }
   ],
   "source": [
    "v @ np.diag(e) @ v.T"
   ]
  },
  {
   "cell_type": "markdown",
   "metadata": {},
   "source": [
    "### Geometry of PCA\n",
    "\n",
    "![Geometry off PCA](https://i.stack.imgur.com/AaF1w.jpg)\n",
    "\n",
    "### Algebra of PCA\n",
    "\n",
    "![Commuative diagram](figs/spectral.png)\n",
    "\n",
    "Note that $Q^T X$ results in a new data set that is uncorrelated."
   ]
  },
  {
   "cell_type": "code",
   "execution_count": 17,
   "metadata": {},
   "outputs": [],
   "source": [
    "m = np.zeros(2)\n",
    "s = np.array([[1, 0.8], [0.8, 1]])\n",
    "x = np.random.multivariate_normal(m, s, n).T"
   ]
  },
  {
   "cell_type": "code",
   "execution_count": 18,
   "metadata": {},
   "outputs": [
    {
     "data": {
      "text/plain": [
       "(2, 100)"
      ]
     },
     "execution_count": 18,
     "metadata": {},
     "output_type": "execute_result"
    }
   ],
   "source": [
    "x.shape"
   ]
  },
  {
   "cell_type": "markdown",
   "metadata": {},
   "source": [
    "#### Calculate covariance matrix from centered observations"
   ]
  },
  {
   "cell_type": "code",
   "execution_count": 19,
   "metadata": {},
   "outputs": [],
   "source": [
    "xc = (x - x.mean(1)[:, np.newaxis])"
   ]
  },
  {
   "cell_type": "code",
   "execution_count": 20,
   "metadata": {},
   "outputs": [],
   "source": [
    "cov = (xc @ xc.T)/(n-1)"
   ]
  },
  {
   "cell_type": "code",
   "execution_count": 21,
   "metadata": {},
   "outputs": [
    {
     "data": {
      "text/plain": [
       "array([[1.014, 0.881],\n",
       "       [0.881, 1.163]])"
      ]
     },
     "execution_count": 21,
     "metadata": {},
     "output_type": "execute_result"
    }
   ],
   "source": [
    "cov"
   ]
  },
  {
   "cell_type": "markdown",
   "metadata": {},
   "source": [
    "#### Find eigendecoposition"
   ]
  },
  {
   "cell_type": "code",
   "execution_count": 22,
   "metadata": {},
   "outputs": [],
   "source": [
    "e, v = la.eigh(cov)\n",
    "idx = np.argsort(e)[::-1]\n",
    "e = e[idx]\n",
    "v = v[:, idx]"
   ]
  },
  {
   "cell_type": "markdown",
   "metadata": {},
   "source": [
    "#### In original coordinates"
   ]
  },
  {
   "cell_type": "code",
   "execution_count": 23,
   "metadata": {},
   "outputs": [
    {
     "data": {
      "image/png": "[encoded data removed]",
      "text/plain": [
       "<Figure size 432x288 with 1 Axes>"
      ]
     },
     "metadata": {},
     "output_type": "display_data"
    }
   ],
   "source": [
    "plt.scatter(x[0], x[1], alpha=0.5)\n",
    "for e_, v_ in zip(e, v.T):\n",
    "    plt.plot([0, e_*v_[0]], [0, e_*v_[1]], 'r-', lw=2)\n",
    "plt.xlabel('x', fontsize=14)\n",
    "plt.ylabel('y', fontsize=14)\n",
    "plt.axis('square')\n",
    "plt.axis([-3,3,-3,3])\n",
    "pass"
   ]
  },
  {
   "cell_type": "markdown",
   "metadata": {},
   "source": [
    "#### After change of basis"
   ]
  },
  {
   "cell_type": "code",
   "execution_count": 24,
   "metadata": {},
   "outputs": [],
   "source": [
    "yc = v.T @ xc"
   ]
  },
  {
   "cell_type": "code",
   "execution_count": 25,
   "metadata": {},
   "outputs": [
    {
     "data": {
      "image/png": "[encoded data removed]",
      "text/plain": [
       "<Figure size 432x288 with 1 Axes>"
      ]
     },
     "metadata": {},
     "output_type": "display_data"
    }
   ],
   "source": [
    "plt.scatter(yc[0,:], yc[1,:], alpha=0.5)\n",
    "for e_, v_ in zip(e, np.eye(2)):\n",
    "    plt.plot([0, e_*v_[0]], [0, e_*v_[1]], 'r-', lw=2)\n",
    "plt.xlabel('PC1', fontsize=14)\n",
    "plt.ylabel('PC2', fontsize=14)\n",
    "plt.axis('square')\n",
    "plt.axis([-3,3,-3,3])\n",
    "pass"
   ]
  },
  {
   "cell_type": "markdown",
   "metadata": {},
   "source": [
    "#### Eigenvectors from PCA"
   ]
  },
  {
   "cell_type": "code",
   "execution_count": 35,
   "metadata": {},
   "outputs": [
    {
     "data": {
      "text/plain": [
       "array([[ 0.677,  0.736],\n",
       "       [-0.736,  0.677]])"
      ]
     },
     "execution_count": 35,
     "metadata": {},
     "output_type": "execute_result"
    }
   ],
   "source": [
    "pca.components_"
   ]
  },
  {
   "cell_type": "markdown",
   "metadata": {},
   "source": [
    "#### Eigenvalues from PCA"
   ]
  },
  {
   "cell_type": "code",
   "execution_count": 36,
   "metadata": {},
   "outputs": [
    {
     "data": {
      "text/plain": [
       "array([1.404, 0.452])"
      ]
     },
     "execution_count": 36,
     "metadata": {},
     "output_type": "execute_result"
    }
   ],
   "source": [
    "pca.explained_variance_"
   ]
  },
  {
   "cell_type": "markdown",
   "metadata": {},
   "source": [
    "#### Explained variance\n",
    "\n",
    "This is just a consequence of the invariance of the trace under change of basis. Since the original diagnonal entries in the covariance matrix are the variances of the featrues, the sum of the eigenvalues must also be the sum of the orignal varainces. In other words, the cumulateive proportion of the top $n$ eigenvaluee is the \"explained variance\" of the first $n$ principal components. "
   ]
  },
  {
   "cell_type": "code",
   "execution_count": 26,
   "metadata": {},
   "outputs": [
    {
     "data": {
      "text/plain": [
       "array([0.906, 0.094])"
      ]
     },
     "execution_count": 26,
     "metadata": {},
     "output_type": "execute_result"
    }
   ],
   "source": [
    "e/e.sum()"
   ]
  },
  {
   "cell_type": "markdown",
   "metadata": {},
   "source": [
    "#### Check"
   ]
  },
  {
   "cell_type": "code",
   "execution_count": 27,
   "metadata": {},
   "outputs": [],
   "source": [
    "from sklearn.decomposition import PCA"
   ]
  },
  {
   "cell_type": "code",
   "execution_count": 28,
   "metadata": {},
   "outputs": [],
   "source": [
    "pca = PCA()"
   ]
  },
  {
   "cell_type": "markdown",
   "metadata": {},
   "source": [
    "#### Note that the PCA from scikit-learn works with feature vectors, not observation vectors"
   ]
  },
  {
   "cell_type": "code",
   "execution_count": 29,
   "metadata": {},
   "outputs": [],
   "source": [
    "z = pca.fit_transform(x.T)"
   ]
  },
  {
   "cell_type": "code",
   "execution_count": 30,
   "metadata": {},
   "outputs": [
    {
     "data": {
      "text/plain": [
       "array([0.906, 0.094])"
      ]
     },
     "execution_count": 30,
     "metadata": {},
     "output_type": "execute_result"
    }
   ],
   "source": [
    "pca.explained_variance_ratio_"
   ]
  },
  {
   "cell_type": "markdown",
   "metadata": {},
   "source": [
    "#### The principal components are identical to our home-brew version, up to a flip in direction of eigenvectors"
   ]
  },
  {
   "cell_type": "code",
   "execution_count": 31,
   "metadata": {},
   "outputs": [
    {
     "data": {
      "image/png": "[encoded data removed]",
      "text/plain": [
       "<matplotlib.figure.Figure at 0x110d71390>"
      ]
     },
     "metadata": {},
     "output_type": "display_data"
    }
   ],
   "source": [
    "plt.scatter(z[:, 0], z[:, 1], alpha=0.5)\n",
    "for e_, v_ in zip(e, np.eye(2)):\n",
    "    plt.plot([0, e_*v_[0]], [0, e_*v_[1]], 'r-', lw=2)\n",
    "plt.xlabel('PC1', fontsize=14)\n",
    "plt.ylabel('PC2', fontsize=14)\n",
    "plt.axis('square')\n",
    "plt.axis([-3,3,-3,3])\n",
    "pass"
   ]
  },
  {
   "cell_type": "code",
   "execution_count": 32,
   "metadata": {},
   "outputs": [
    {
     "data": {
      "image/png": "[encoded data removed]",
      "text/plain": [
       "<matplotlib.figure.Figure at 0x110dea978>"
      ]
     },
     "metadata": {},
     "output_type": "display_data"
    }
   ],
   "source": [
    "plt.subplot(121)\n",
    "plt.scatter(-z[:, 0], -z[:, 1], alpha=0.5)\n",
    "for e_, v_ in zip(e, np.eye(2)):\n",
    "    plt.plot([0, e_*v_[0]], [0, e_*v_[1]], 'r-', lw=2)\n",
    "plt.xlabel('PC1', fontsize=14)\n",
    "plt.ylabel('PC2', fontsize=14)\n",
    "plt.axis('square')\n",
    "plt.axis([-3,3,-3,3])\n",
    "plt.title('Scikit-learn PCA (flipped)')\n",
    "\n",
    "plt.subplot(122)\n",
    "plt.scatter(yc[0,:], yc[1,:], alpha=0.5)\n",
    "for e_, v_ in zip(e, np.eye(2)):\n",
    "    plt.plot([0, e_*v_[0]], [0, e_*v_[1]], 'r-', lw=2)\n",
    "plt.xlabel('PC1', fontsize=14)\n",
    "plt.ylabel('PC2', fontsize=14)\n",
    "plt.axis('square')\n",
    "plt.axis([-3,3,-3,3])\n",
    "plt.title('Homebrew PCA')\n",
    "plt.tight_layout()\n",
    "pass"
   ]
  }
 ],
 "metadata": {
  "kernelspec": {
   "display_name": "Python 3",
   "language": "python",
   "name": "python3"
  },
  "language_info": {
   "codemirror_mode": {
    "name": "ipython",
    "version": 3
   },
   "file_extension": ".py",
   "mimetype": "text/x-python",
   "name": "python",
   "nbconvert_exporter": "python",
   "pygments_lexer": "ipython3",
   "version": "3.8.5"
  }
 },
 "nbformat": 4,
 "nbformat_minor": 2
}
